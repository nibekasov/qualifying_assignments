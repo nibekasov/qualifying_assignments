{
 "cells": [
  {
   "cell_type": "code",
   "execution_count": 123,
   "metadata": {},
   "outputs": [],
   "source": [
    "'''requirements.txt\n",
    "geopy-2.4.0\n",
    "folium-0.14.0\n",
    "matplotlib-3.8.1\n",
    "seaborn-0.13.0\n",
    "Rtree-1.1.0\n",
    "osmnx-1.7.1\n",
    "geopandas-0.14.0\n",
    "''';"
   ]
  },
  {
   "cell_type": "code",
   "execution_count": 8,
   "metadata": {},
   "outputs": [],
   "source": [
    "# Uncomment if libs isn't installed \n",
    "'''\n",
    "!pip install geopy\n",
    "!pip install folium\n",
    "!pip install matplotlib\n",
    "!pip install seaborn\n",
    "!pip install Rtree\n",
    "!pip install osmnx geopandas sqlite3\n",
    "!pip install requests --upgrade\n",
    "!pip install osmnx --upgrade\n",
    "''';"
   ]
  },
  {
   "cell_type": "code",
   "execution_count": 51,
   "metadata": {},
   "outputs": [],
   "source": [
    "import sqlite3\n",
    "import pandas as pd\n",
    "# Libraries for geospesific calculations\n",
    "from itertools import combinations\n",
    "import time\n",
    "\n",
    "import geopy\n",
    "from geopy.distance import geodesic\n",
    "# Visualisation of our data \n",
    "import folium\n",
    "from folium.plugins import HeatMap\n",
    "import matplotlib.pyplot as plt\n",
    "# For better documentation of our self mad functions \n",
    "from typing import List, Dict\n",
    "\n",
    "import numpy as np\n",
    "\n",
    "import seaborn as sns\n",
    "\n",
    "from rtree import index\n"
   ]
  },
  {
   "cell_type": "code",
   "execution_count": 10,
   "metadata": {},
   "outputs": [],
   "source": [
    "import warnings\n",
    "warnings.simplefilter(\"ignore\")"
   ]
  },
  {
   "cell_type": "markdown",
   "metadata": {},
   "source": [
    "Входные данные:\n",
    "\n",
    "\n",
    "\n",
    "3 csv файла - каждый файл -- это координаты gps, где человек находился какое-|то время\n",
    "\n",
    "\n",
    "##### Информация\n",
    "##### latitude - Широта\n",
    "##### longitude - Долгота\n",
    "Timestamp\n",
    "    - YYYY = year\n",
    "    - MM = month of year\n",
    "    - dd = day of month\n",
    "    - HH=hourofday\n",
    "    - mm = minute of hour\n",
    "    - Z = timezone offset\n",
    "Duration - продолжительность пребывания человека в локации в мс"
   ]
  },
  {
   "cell_type": "markdown",
   "metadata": {},
   "source": [
    "## DataBase creation "
   ]
  },
  {
   "cell_type": "code",
   "execution_count": 11,
   "metadata": {},
   "outputs": [],
   "source": [
    "# Create an in-memory SQLite database\n",
    "conn = sqlite3.connect(':memory:')\n",
    "cursor = conn.cursor()"
   ]
  },
  {
   "cell_type": "code",
   "execution_count": 12,
   "metadata": {},
   "outputs": [],
   "source": [
    "# Load the CSV files using the correct delimiter\n",
    "person_1_df = pd.read_csv('person.1.csv', delimiter=';')\n",
    "person_2_df = pd.read_csv('person.2.csv', delimiter=';')\n",
    "person_3_df = pd.read_csv('person.3.csv', delimiter=';')"
   ]
  },
  {
   "cell_type": "code",
   "execution_count": 13,
   "metadata": {},
   "outputs": [
    {
     "data": {
      "text/plain": [
       "(3,\n",
       "     latitude  longitude start_time(YYYYMMddHHmmZ)  duration(ms)  person_id\n",
       " 0 -49.326958  -72.89073         201312251147-0300       1186491          1\n",
       " 1 -49.326930  -72.89073         201312251213-0300       4393711          1\n",
       " 2 -49.316610  -72.89890         201312251358-0300        842939          1\n",
       " 3 -49.327160  -72.89072         201312251440-0300        211887          1\n",
       " 4 -49.326880  -72.89085         201312251631-0300      71166228          1)"
      ]
     },
     "execution_count": 13,
     "metadata": {},
     "output_type": "execute_result"
    }
   ],
   "source": [
    "import os\n",
    "# Initialize an empty list to hold all dataframes\n",
    "all_dfs = []\n",
    "\n",
    "# Loop to load CSV files\n",
    "idx = 1\n",
    "while True:\n",
    "    file_name = f\"person.{idx}.csv\"\n",
    "    if not os.path.exists(file_name):\n",
    "        break  # Exit loop if file does not exist\n",
    "    \n",
    "    # Load the CSV file using the correct delimiter\n",
    "    df = pd.read_csv(file_name, delimiter=';')\n",
    "    \n",
    "    # Add a 'person_id' column to distinguish between users\n",
    "    df['person_id'] = idx\n",
    "    \n",
    "    # Append the dataframe to the list\n",
    "    all_dfs.append(df)\n",
    "    \n",
    "    idx += 1\n",
    "\n",
    "# Concatenate all loaded DataFrames into one\n",
    "all_persons_df = pd.concat(all_dfs, ignore_index=True)\n",
    "\n",
    "# Insert the concatenated DataFrame into the 'all_persons' table in the database\n",
    "all_persons_df.to_sql('all_persons', conn, index=False)\n",
    "\n",
    "# Return the number of unique persons loaded and the first few rows\n",
    "unique_persons = all_persons_df['person_id'].nunique()\n",
    "unique_persons, all_persons_df.head()\n"
   ]
  },
  {
   "cell_type": "code",
   "execution_count": 14,
   "metadata": {},
   "outputs": [
    {
     "data": {
      "text/html": [
       "<div>\n",
       "<style scoped>\n",
       "    .dataframe tbody tr th:only-of-type {\n",
       "        vertical-align: middle;\n",
       "    }\n",
       "\n",
       "    .dataframe tbody tr th {\n",
       "        vertical-align: top;\n",
       "    }\n",
       "\n",
       "    .dataframe thead th {\n",
       "        text-align: right;\n",
       "    }\n",
       "</style>\n",
       "<table border=\"1\" class=\"dataframe\">\n",
       "  <thead>\n",
       "    <tr style=\"text-align: right;\">\n",
       "      <th></th>\n",
       "      <th>person_id</th>\n",
       "      <th>count(*)</th>\n",
       "    </tr>\n",
       "  </thead>\n",
       "  <tbody>\n",
       "    <tr>\n",
       "      <th>0</th>\n",
       "      <td>1</td>\n",
       "      <td>549</td>\n",
       "    </tr>\n",
       "    <tr>\n",
       "      <th>1</th>\n",
       "      <td>2</td>\n",
       "      <td>763</td>\n",
       "    </tr>\n",
       "    <tr>\n",
       "      <th>2</th>\n",
       "      <td>3</td>\n",
       "      <td>357</td>\n",
       "    </tr>\n",
       "  </tbody>\n",
       "</table>\n",
       "</div>"
      ],
      "text/plain": [
       "   person_id  count(*)\n",
       "0          1       549\n",
       "1          2       763\n",
       "2          3       357"
      ]
     },
     "execution_count": 14,
     "metadata": {},
     "output_type": "execute_result"
    }
   ],
   "source": [
    "# Check if data has been inserted correctly by querying the first few rows from the 'all_persons' table\n",
    "query_result_all = pd.read_sql_query(\"SELECT distinct person_id, count(*)  FROM all_persons GROUP BY 1 LIMIT 5\", conn)\n",
    "query_result_all\n"
   ]
  },
  {
   "cell_type": "code",
   "execution_count": 15,
   "metadata": {},
   "outputs": [
    {
     "data": {
      "text/html": [
       "<div>\n",
       "<style scoped>\n",
       "    .dataframe tbody tr th:only-of-type {\n",
       "        vertical-align: middle;\n",
       "    }\n",
       "\n",
       "    .dataframe tbody tr th {\n",
       "        vertical-align: top;\n",
       "    }\n",
       "\n",
       "    .dataframe thead th {\n",
       "        text-align: right;\n",
       "    }\n",
       "</style>\n",
       "<table border=\"1\" class=\"dataframe\">\n",
       "  <thead>\n",
       "    <tr style=\"text-align: right;\">\n",
       "      <th></th>\n",
       "      <th>latitude</th>\n",
       "      <th>longitude</th>\n",
       "      <th>start_time(YYYYMMddHHmmZ)</th>\n",
       "      <th>duration(ms)</th>\n",
       "      <th>person_id</th>\n",
       "    </tr>\n",
       "  </thead>\n",
       "  <tbody>\n",
       "    <tr>\n",
       "      <th>0</th>\n",
       "      <td>-49.326958</td>\n",
       "      <td>-72.890730</td>\n",
       "      <td>201312251147-0300</td>\n",
       "      <td>1186491</td>\n",
       "      <td>1</td>\n",
       "    </tr>\n",
       "    <tr>\n",
       "      <th>1</th>\n",
       "      <td>-49.326930</td>\n",
       "      <td>-72.890730</td>\n",
       "      <td>201312251213-0300</td>\n",
       "      <td>4393711</td>\n",
       "      <td>1</td>\n",
       "    </tr>\n",
       "    <tr>\n",
       "      <th>2</th>\n",
       "      <td>-49.316610</td>\n",
       "      <td>-72.898900</td>\n",
       "      <td>201312251358-0300</td>\n",
       "      <td>842939</td>\n",
       "      <td>1</td>\n",
       "    </tr>\n",
       "    <tr>\n",
       "      <th>3</th>\n",
       "      <td>-49.327160</td>\n",
       "      <td>-72.890720</td>\n",
       "      <td>201312251440-0300</td>\n",
       "      <td>211887</td>\n",
       "      <td>1</td>\n",
       "    </tr>\n",
       "    <tr>\n",
       "      <th>4</th>\n",
       "      <td>-49.326880</td>\n",
       "      <td>-72.890850</td>\n",
       "      <td>201312251631-0300</td>\n",
       "      <td>71166228</td>\n",
       "      <td>1</td>\n",
       "    </tr>\n",
       "    <tr>\n",
       "      <th>...</th>\n",
       "      <td>...</td>\n",
       "      <td>...</td>\n",
       "      <td>...</td>\n",
       "      <td>...</td>\n",
       "      <td>...</td>\n",
       "    </tr>\n",
       "    <tr>\n",
       "      <th>1664</th>\n",
       "      <td>51.192430</td>\n",
       "      <td>4.398564</td>\n",
       "      <td>201403241720+0100</td>\n",
       "      <td>264</td>\n",
       "      <td>3</td>\n",
       "    </tr>\n",
       "    <tr>\n",
       "      <th>1665</th>\n",
       "      <td>51.049310</td>\n",
       "      <td>4.453596</td>\n",
       "      <td>201403241727+0100</td>\n",
       "      <td>238853</td>\n",
       "      <td>3</td>\n",
       "    </tr>\n",
       "    <tr>\n",
       "      <th>1666</th>\n",
       "      <td>50.898182</td>\n",
       "      <td>4.682842</td>\n",
       "      <td>201403241756+0100</td>\n",
       "      <td>119533</td>\n",
       "      <td>3</td>\n",
       "    </tr>\n",
       "    <tr>\n",
       "      <th>1667</th>\n",
       "      <td>50.955710</td>\n",
       "      <td>4.804546</td>\n",
       "      <td>201403241802+0100</td>\n",
       "      <td>62443</td>\n",
       "      <td>3</td>\n",
       "    </tr>\n",
       "    <tr>\n",
       "      <th>1668</th>\n",
       "      <td>50.951214</td>\n",
       "      <td>4.889936</td>\n",
       "      <td>201403241815+0100</td>\n",
       "      <td>41054631</td>\n",
       "      <td>3</td>\n",
       "    </tr>\n",
       "  </tbody>\n",
       "</table>\n",
       "<p>1669 rows × 5 columns</p>\n",
       "</div>"
      ],
      "text/plain": [
       "       latitude  longitude start_time(YYYYMMddHHmmZ)  duration(ms)  person_id\n",
       "0    -49.326958 -72.890730         201312251147-0300       1186491          1\n",
       "1    -49.326930 -72.890730         201312251213-0300       4393711          1\n",
       "2    -49.316610 -72.898900         201312251358-0300        842939          1\n",
       "3    -49.327160 -72.890720         201312251440-0300        211887          1\n",
       "4    -49.326880 -72.890850         201312251631-0300      71166228          1\n",
       "...         ...        ...                       ...           ...        ...\n",
       "1664  51.192430   4.398564         201403241720+0100           264          3\n",
       "1665  51.049310   4.453596         201403241727+0100        238853          3\n",
       "1666  50.898182   4.682842         201403241756+0100        119533          3\n",
       "1667  50.955710   4.804546         201403241802+0100         62443          3\n",
       "1668  50.951214   4.889936         201403241815+0100      41054631          3\n",
       "\n",
       "[1669 rows x 5 columns]"
      ]
     },
     "execution_count": 15,
     "metadata": {},
     "output_type": "execute_result"
    }
   ],
   "source": [
    "# Check if data has been inserted correctly by querying the first few rows from the 'all_persons' table\n",
    "query_result_all = pd.read_sql_query(\"SELECT *  FROM all_persons\", conn)\n",
    "query_result_all\n"
   ]
  },
  {
   "cell_type": "code",
   "execution_count": 16,
   "metadata": {},
   "outputs": [],
   "source": [
    "def get_data_from_db_or_csv(person_id: int, conn: sqlite3.Connection, csv_filename: str) -> pd.DataFrame:\n",
    "    \"\"\"\n",
    "    Attempt to retrieve data for a user using an SQL query from the database. \n",
    "    If there's an error, fall back to reading the data from the CSV file.\n",
    "    \n",
    "    Args:\n",
    "    - person_id (int): ID of the person (1, 2, or 3).\n",
    "    - conn (sqlite3.Connection): Connection to the SQLite database.\n",
    "    - csv_filename (str): Name of the CSV file to fall back to.\n",
    "    \n",
    "    Returns:\n",
    "    - pd.DataFrame: Data for the user.\n",
    "    \"\"\"\n",
    "    try:\n",
    "        query = f\"SELECT * FROM all_persons WHERE person_id = {person_id}\"\n",
    "        df = pd.read_sql_query(query, conn)\n",
    "    except (sqlite3.OperationalError, sqlite3.DatabaseError):\n",
    "        df = pd.read_csv(csv_filename, delimiter=';')\n",
    "    return df"
   ]
  },
  {
   "cell_type": "markdown",
   "metadata": {},
   "source": [
    "## Задание 1\n",
    "- Посещали пользователи одинаковые места? Знают ли они друг друга?\n",
    "- Ввести метрику социальной активности - она должна учитывать количество мест, которое посетил пользователь, как далеко они друг от друга и как долго человек оставался там - метрика должна позволять сравнивать пользователей и находить наиболее активных"
   ]
  },
  {
   "cell_type": "markdown",
   "metadata": {},
   "source": [
    "### задание 1.1. Посещали пользователи одинаковые места? Знают ли они друг друга?"
   ]
  },
  {
   "cell_type": "code",
   "execution_count": 17,
   "metadata": {},
   "outputs": [
    {
     "data": {
      "text/plain": [
       "['person_1_df_updated', 'person_2_df_updated', 'person_3_df_updated']"
      ]
     },
     "execution_count": 17,
     "metadata": {},
     "output_type": "execute_result"
    }
   ],
   "source": [
    "# Determine the number of unique users in the database\n",
    "unique_person_ids = pd.read_sql_query(\"SELECT DISTINCT person_id FROM all_persons\", conn)\n",
    "\n",
    "# Create a dictionary to store dataframes for each user\n",
    "dataframes_dict = {}\n",
    "\n",
    "# Populate the dictionary with data for each user\n",
    "for person_id in unique_person_ids['person_id']:\n",
    "    csv_filename = f\"person.{person_id}.csv\"\n",
    "    dataframes_dict[f\"person_{person_id}_df_updated\"] = get_data_from_db_or_csv(person_id, conn, csv_filename)\n",
    "\n",
    "# Return the keys of the dictionary (i.e., the names of the dynamically created dataframes)\n",
    "list(dataframes_dict.keys())"
   ]
  },
  {
   "cell_type": "code",
   "execution_count": 18,
   "metadata": {},
   "outputs": [
    {
     "data": {
      "text/html": [
       "<div>\n",
       "<style scoped>\n",
       "    .dataframe tbody tr th:only-of-type {\n",
       "        vertical-align: middle;\n",
       "    }\n",
       "\n",
       "    .dataframe tbody tr th {\n",
       "        vertical-align: top;\n",
       "    }\n",
       "\n",
       "    .dataframe thead th {\n",
       "        text-align: right;\n",
       "    }\n",
       "</style>\n",
       "<table border=\"1\" class=\"dataframe\">\n",
       "  <thead>\n",
       "    <tr style=\"text-align: right;\">\n",
       "      <th></th>\n",
       "      <th>latitude</th>\n",
       "      <th>longitude</th>\n",
       "      <th>start_time(YYYYMMddHHmmZ)</th>\n",
       "      <th>duration(ms)</th>\n",
       "      <th>person_id</th>\n",
       "    </tr>\n",
       "  </thead>\n",
       "  <tbody>\n",
       "    <tr>\n",
       "      <th>0</th>\n",
       "      <td>-49.326958</td>\n",
       "      <td>-72.89073</td>\n",
       "      <td>201312251147-0300</td>\n",
       "      <td>1186491</td>\n",
       "      <td>1</td>\n",
       "    </tr>\n",
       "    <tr>\n",
       "      <th>1</th>\n",
       "      <td>-49.326930</td>\n",
       "      <td>-72.89073</td>\n",
       "      <td>201312251213-0300</td>\n",
       "      <td>4393711</td>\n",
       "      <td>1</td>\n",
       "    </tr>\n",
       "    <tr>\n",
       "      <th>2</th>\n",
       "      <td>-49.316610</td>\n",
       "      <td>-72.89890</td>\n",
       "      <td>201312251358-0300</td>\n",
       "      <td>842939</td>\n",
       "      <td>1</td>\n",
       "    </tr>\n",
       "    <tr>\n",
       "      <th>3</th>\n",
       "      <td>-49.327160</td>\n",
       "      <td>-72.89072</td>\n",
       "      <td>201312251440-0300</td>\n",
       "      <td>211887</td>\n",
       "      <td>1</td>\n",
       "    </tr>\n",
       "    <tr>\n",
       "      <th>4</th>\n",
       "      <td>-49.326880</td>\n",
       "      <td>-72.89085</td>\n",
       "      <td>201312251631-0300</td>\n",
       "      <td>71166228</td>\n",
       "      <td>1</td>\n",
       "    </tr>\n",
       "  </tbody>\n",
       "</table>\n",
       "</div>"
      ],
      "text/plain": [
       "    latitude  longitude start_time(YYYYMMddHHmmZ)  duration(ms)  person_id\n",
       "0 -49.326958  -72.89073         201312251147-0300       1186491          1\n",
       "1 -49.326930  -72.89073         201312251213-0300       4393711          1\n",
       "2 -49.316610  -72.89890         201312251358-0300        842939          1\n",
       "3 -49.327160  -72.89072         201312251440-0300        211887          1\n",
       "4 -49.326880  -72.89085         201312251631-0300      71166228          1"
      ]
     },
     "execution_count": 18,
     "metadata": {},
     "output_type": "execute_result"
    }
   ],
   "source": [
    "dataframes_dict['person_1_df_updated'].head()"
   ]
  },
  {
   "cell_type": "code",
   "execution_count": 19,
   "metadata": {},
   "outputs": [],
   "source": [
    "def process_dataframes(dataframes_dict: dict, precision: int = 3) -> dict:\n",
    "    \"\"\"\n",
    "    Process each DataFrame in the dictionary: Convert the timestamp column to datetime format,\n",
    "    and round the latitude and longitude values.\n",
    "    \n",
    "    Args:\n",
    "    - dataframes_dict (dict): Dictionary containing data for each user.\n",
    "    - precision (int): Rounding precision for latitude and longitude (default is 3).\n",
    "    \n",
    "    Returns:\n",
    "    - Dictionary containing processed data for each user.\n",
    "    \"\"\"\n",
    "    timestamp_col = 'start_time(YYYYMMddHHmmZ)'\n",
    "    # Convert the 'start_time(YYYYMMddHHmmZ)' column to datetime format for each DataFrame in the dictionary\n",
    "    for key, df in dataframes_dict.items():\n",
    "        df[timestamp_col] = pd.to_datetime(df[timestamp_col], errors='coerce')\n",
    "    \n",
    "    # Round the latitude and longitude values to the specified precision for each DataFrame in the dictionary\n",
    "    for key, df in dataframes_dict.items():\n",
    "        df[['latitude', 'longitude']] = df[['latitude', 'longitude']].round(precision)\n",
    "    \n",
    "    return dataframes_dict"
   ]
  },
  {
   "cell_type": "code",
   "execution_count": 20,
   "metadata": {},
   "outputs": [
    {
     "data": {
      "text/plain": [
       "['person_1_df_updated', 'person_2_df_updated', 'person_3_df_updated']"
      ]
     },
     "execution_count": 20,
     "metadata": {},
     "output_type": "execute_result"
    }
   ],
   "source": [
    "processed_dataframes = process_dataframes(dataframes_dict, precision=3)\n",
    "list(processed_dataframes.keys())  # Return the keys of the dictionary to confirm processing\n"
   ]
  },
  {
   "cell_type": "code",
   "execution_count": 21,
   "metadata": {},
   "outputs": [],
   "source": [
    "def compare_locations(dataframes_dict: dict) -> dict:\n",
    "    \"\"\"\n",
    "    Compare locations between users in the provided dictionary to find common locations.\n",
    "    \n",
    "    Args:\n",
    "    - dataframes_dict (dict): Dictionary containing processed data for each user.\n",
    "    \n",
    "    Returns:\n",
    "    - Dictionary of common location counts between each pair of users.\n",
    "    \"\"\"\n",
    "    \n",
    "    # Create sets of tuples (latitude, longitude) for each person in the dictionary\n",
    "    location_sets = {key: set(tuple(x) for x in df[['latitude', 'longitude']].values) for key, df in dataframes_dict.items()}\n",
    "    \n",
    "    # Find common locations between the users\n",
    "    common_locations = {}\n",
    "    keys = list(location_sets.keys())\n",
    "    for i in range(len(keys)):\n",
    "        for j in range(i+1, len(keys)):\n",
    "            key_pair = f\"{keys[i]}_{keys[j]}\"\n",
    "            common_locations[key_pair] = location_sets[keys[i]].intersection(location_sets[keys[j]])\n",
    "    \n",
    "    common_location_counts = {key: len(value) for key, value in common_locations.items()}\n",
    "    \n",
    "    return common_location_counts"
   ]
  },
  {
   "cell_type": "code",
   "execution_count": 22,
   "metadata": {},
   "outputs": [
    {
     "data": {
      "text/plain": [
       "{'person_1_df_updated_person_2_df_updated': 22,\n",
       " 'person_1_df_updated_person_3_df_updated': 15,\n",
       " 'person_2_df_updated_person_3_df_updated': 21}"
      ]
     },
     "execution_count": 22,
     "metadata": {},
     "output_type": "execute_result"
    }
   ],
   "source": [
    "common_locs = compare_locations(processed_dataframes)\n",
    "common_locs"
   ]
  },
  {
   "cell_type": "code",
   "execution_count": 23,
   "metadata": {},
   "outputs": [],
   "source": [
    "# Decorator to measure execution time\n",
    "def timing_decorator(func):\n",
    "    def wrapper(*args, **kwargs):\n",
    "        start = time.time()\n",
    "        result = func(*args, **kwargs)\n",
    "        end = time.time()\n",
    "        print(f\"Execution time for {func.__name__}: {end - start:.2f} seconds\")\n",
    "        return result\n",
    "    return wrapper"
   ]
  },
  {
   "cell_type": "code",
   "execution_count": 28,
   "metadata": {},
   "outputs": [],
   "source": [
    "# Define a function to check if two users have visited the same location within a certain time interval\n",
    "@timing_decorator\n",
    "def location_and_time_overlap(df1: pd.DataFrame,\n",
    "                              df2: pd.DataFrame, location_threshold: float = 0.001,\n",
    "                              time_threshold: pd.Timedelta = pd.Timedelta(minutes=15)) -> pd.DataFrame:\n",
    "    \"\"\"\n",
    "    Checks for overlaps in location and time between two dataframes.\n",
    "    \n",
    "    Args:\n",
    "    - df1, df2 (pd.DataFrame): Dataframes to compare.\n",
    "    - location_threshold (float): Maximum allowed difference in location coordinates to consider them as the same.\n",
    "    - time_threshold (pd.Timedelta): Maximum allowed time difference to consider two visits as overlapping.\n",
    "    \n",
    "    Returns:\n",
    "    - pd.DataFrame: Overlapping entries from both dataframes.\n",
    "    \"\"\"\n",
    "    overlaps = []\n",
    "    timestamp_col = 'start_time(YYYYMMddHHmmZ)'\n",
    "    \n",
    "    for idx1, row1 in df1.iterrows():\n",
    "        for idx2, row2 in df2.iterrows():\n",
    "            lat_diff = abs(row1['latitude'] - row2['latitude'])\n",
    "            lon_diff = abs(row1['longitude'] - row2['longitude'])\n",
    "            \n",
    "            # Check if locations overlap\n",
    "            if lat_diff <= location_threshold and lon_diff <= location_threshold:\n",
    "                start_time_1 = row1[timestamp_col]\n",
    "                end_time_1 = start_time_1 + pd.Timedelta(milliseconds=row1['duration(ms)'])\n",
    "                \n",
    "                start_time_2 = row2[timestamp_col]\n",
    "                end_time_2 = start_time_2 + pd.Timedelta(milliseconds=row2['duration(ms)'])\n",
    "                \n",
    "                # Check if times overlap\n",
    "                latest_start = max(start_time_1, start_time_2)\n",
    "                earliest_end = min(end_time_1, end_time_2)\n",
    "                delta = earliest_end - latest_start\n",
    "                \n",
    "                if delta >= pd.Timedelta(0) and delta <= time_threshold:\n",
    "                    overlaps.append((row1, row2))\n",
    "                    \n",
    "    # Convert the overlaps to a DataFrame for better visualization\n",
    "    overlap_df = pd.DataFrame({\n",
    "        'Person_1_Lat': [row1['latitude'] for row1, _ in overlaps],\n",
    "        'Person_1_Lon': [row1['longitude'] for row1, _ in overlaps],\n",
    "        'Person_1_Time': [row1[timestamp_col] for row1, _ in overlaps],\n",
    "        'Person_2_Lat': [row2['latitude'] for _, row2 in overlaps],\n",
    "        'Person_2_Lon': [row2['longitude'] for _, row2 in overlaps],\n",
    "        'Person_2_Time': [row2[timestamp_col] for _, row2 in overlaps],\n",
    "    })\n",
    "    \n",
    "    return overlap_df"
   ]
  },
  {
   "cell_type": "code",
   "execution_count": 26,
   "metadata": {},
   "outputs": [],
   "source": [
    "@timing_decorator\n",
    "def location_and_time_overlap_vectorized(df1: pd.DataFrame,\n",
    "                                         df2: pd.DataFrame, \n",
    "                                         location_threshold: float = 0.001,\n",
    "                                         time_threshold: pd.Timedelta = pd.Timedelta(minutes=15)) -> pd.DataFrame:\n",
    "    \"\"\"\n",
    "    Checks for overlaps in location and time between two dataframes using vectorized operations.\n",
    "    \n",
    "    Args:\n",
    "    - df1, df2 (pd.DataFrame): Dataframes to compare.\n",
    "    - location_threshold (float): Maximum allowed difference in location coordinates to consider them as the same.\n",
    "    - time_threshold (pd.Timedelta): Maximum allowed time difference to consider two visits as overlapping.\n",
    "    \n",
    "    Returns:\n",
    "    - pd.DataFrame: Overlapping entries from both dataframes.\n",
    "    \"\"\"\n",
    "    timestamp_col = 'start_time(YYYYMMddHHmmZ)'\n",
    "    # Calculate the start and end times for each row in both dataframes\n",
    "    df1['start_time'] = df1[timestamp_col]\n",
    "    df1['end_time'] = df1['start_time'] + pd.to_timedelta(df1['duration(ms)'], unit='ms')\n",
    "    \n",
    "    df2['start_time'] = df2[timestamp_col]\n",
    "    df2['end_time'] = df2['start_time'] + pd.to_timedelta(df2['duration(ms)'], unit='ms')\n",
    "    \n",
    "    # Cross join the dataframes to compare every location of one user against every location of another user\n",
    "    df1['key'] = 1\n",
    "    df2['key'] = 1\n",
    "    combined = pd.merge(df1, df2, on='key').drop('key', axis=1)\n",
    "    \n",
    "    # Filter rows where locations overlap and times overlap\n",
    "    location_overlap = (combined['latitude_x'].sub(combined['latitude_y']).abs().le(location_threshold)) & \\\n",
    "                       (combined['longitude_x'].sub(combined['longitude_y']).abs().le(location_threshold))\n",
    "    \n",
    "    time_overlap = (combined['start_time_x'].le(combined['end_time_y'])) & \\\n",
    "                   (combined['start_time_y'].le(combined['end_time_x']))\n",
    "    \n",
    "    overlap_rows = combined[location_overlap & time_overlap].copy()\n",
    "    \n",
    "    # Filter only the necessary columns and rename them for clarity\n",
    "    overlap_df = overlap_rows[['latitude_x', 'longitude_x', 'start_time_x', 'latitude_y', 'longitude_y', 'start_time_y']]\n",
    "    overlap_df.columns = ['Person_1_Lat', 'Person_1_Lon', 'Person_1_Time', 'Person_2_Lat', 'Person_2_Lon', 'Person_2_Time']\n",
    "    \n",
    "    return overlap_df\n"
   ]
  },
  {
   "cell_type": "code",
   "execution_count": 27,
   "metadata": {},
   "outputs": [
    {
     "name": "stdout",
     "output_type": "stream",
     "text": [
      "Execution time for location_and_time_overlap_vectorized: 2.16 seconds\n",
      "Execution time for location_and_time_overlap_vectorized: 1.00 seconds\n",
      "Execution time for location_and_time_overlap_vectorized: 0.06 seconds\n"
     ]
    },
    {
     "data": {
      "text/plain": [
       "dict_keys(['person_1_df_updated_person_2_df_updated', 'person_1_df_updated_person_3_df_updated', 'person_2_df_updated_person_3_df_updated'])"
      ]
     },
     "execution_count": 27,
     "metadata": {},
     "output_type": "execute_result"
    }
   ],
   "source": [
    "overlap_results = {}\n",
    "\n",
    "# Iterate over every combination of 2 dataframes in the dataframes_dict\n",
    "for key1, key2 in combinations(dataframes_dict.keys(), 2):\n",
    "    # Get the overlap dataframe for the current combination\n",
    "    overlap_df = location_and_time_overlap_vectorized(dataframes_dict[key1], dataframes_dict[key2])\n",
    "    \n",
    "    # Store the overlap dataframe in the overlap_results dictionary\n",
    "    overlap_key = f\"{key1}_{key2}\"\n",
    "    overlap_results[overlap_key] = overlap_df\n",
    "\n",
    "# This will provide the overlaps for all combinations: person_1_person_2, person_1_person_3, and person_2_person_3.\n",
    "overlap_results.keys()\n"
   ]
  },
  {
   "cell_type": "code",
   "execution_count": 39,
   "metadata": {},
   "outputs": [
    {
     "data": {
      "text/html": [
       "<div style=\"width:100%;\"><div style=\"position:relative;width:100%;height:0;padding-bottom:60%;\"><span style=\"color:#565656\">Make this Notebook Trusted to load map: File -> Trust Notebook</span><iframe srcdoc=\"&lt;!DOCTYPE html&gt;\n",
       "&lt;html&gt;\n",
       "&lt;head&gt;\n",
       "    \n",
       "    &lt;meta http-equiv=&quot;content-type&quot; content=&quot;text/html; charset=UTF-8&quot; /&gt;\n",
       "    \n",
       "        &lt;script&gt;\n",
       "            L_NO_TOUCH = false;\n",
       "            L_DISABLE_3D = false;\n",
       "        &lt;/script&gt;\n",
       "    \n",
       "    &lt;style&gt;html, body {width: 100%;height: 100%;margin: 0;padding: 0;}&lt;/style&gt;\n",
       "    &lt;style&gt;#map {position:absolute;top:0;bottom:0;right:0;left:0;}&lt;/style&gt;\n",
       "    &lt;script src=&quot;https://cdn.jsdelivr.net/npm/leaflet@1.9.3/dist/leaflet.js&quot;&gt;&lt;/script&gt;\n",
       "    &lt;script src=&quot;https://code.jquery.com/jquery-1.12.4.min.js&quot;&gt;&lt;/script&gt;\n",
       "    &lt;script src=&quot;https://cdn.jsdelivr.net/npm/bootstrap@5.2.2/dist/js/bootstrap.bundle.min.js&quot;&gt;&lt;/script&gt;\n",
       "    &lt;script src=&quot;https://cdnjs.cloudflare.com/ajax/libs/Leaflet.awesome-markers/2.0.2/leaflet.awesome-markers.js&quot;&gt;&lt;/script&gt;\n",
       "    &lt;link rel=&quot;stylesheet&quot; href=&quot;https://cdn.jsdelivr.net/npm/leaflet@1.9.3/dist/leaflet.css&quot;/&gt;\n",
       "    &lt;link rel=&quot;stylesheet&quot; href=&quot;https://cdn.jsdelivr.net/npm/bootstrap@5.2.2/dist/css/bootstrap.min.css&quot;/&gt;\n",
       "    &lt;link rel=&quot;stylesheet&quot; href=&quot;https://netdna.bootstrapcdn.com/bootstrap/3.0.0/css/bootstrap.min.css&quot;/&gt;\n",
       "    &lt;link rel=&quot;stylesheet&quot; href=&quot;https://cdn.jsdelivr.net/npm/@fortawesome/fontawesome-free@6.2.0/css/all.min.css&quot;/&gt;\n",
       "    &lt;link rel=&quot;stylesheet&quot; href=&quot;https://cdnjs.cloudflare.com/ajax/libs/Leaflet.awesome-markers/2.0.2/leaflet.awesome-markers.css&quot;/&gt;\n",
       "    &lt;link rel=&quot;stylesheet&quot; href=&quot;https://cdn.jsdelivr.net/gh/python-visualization/folium/folium/templates/leaflet.awesome.rotate.min.css&quot;/&gt;\n",
       "    \n",
       "            &lt;meta name=&quot;viewport&quot; content=&quot;width=device-width,\n",
       "                initial-scale=1.0, maximum-scale=1.0, user-scalable=no&quot; /&gt;\n",
       "            &lt;style&gt;\n",
       "                #map_be5018fb19ef59d7685dcec5551bec03 {\n",
       "                    position: relative;\n",
       "                    width: 100.0%;\n",
       "                    height: 100.0%;\n",
       "                    left: 0.0%;\n",
       "                    top: 0.0%;\n",
       "                }\n",
       "                .leaflet-container { font-size: 1rem; }\n",
       "            &lt;/style&gt;\n",
       "        \n",
       "    &lt;script src=&quot;https://cdn.jsdelivr.net/gh/python-visualization/folium@main/folium/templates/leaflet_heat.min.js&quot;&gt;&lt;/script&gt;\n",
       "&lt;/head&gt;\n",
       "&lt;body&gt;\n",
       "    \n",
       "    \n",
       "            &lt;div class=&quot;folium-map&quot; id=&quot;map_be5018fb19ef59d7685dcec5551bec03&quot; &gt;&lt;/div&gt;\n",
       "        \n",
       "&lt;/body&gt;\n",
       "&lt;script&gt;\n",
       "    \n",
       "    \n",
       "            var map_be5018fb19ef59d7685dcec5551bec03 = L.map(\n",
       "                &quot;map_be5018fb19ef59d7685dcec5551bec03&quot;,\n",
       "                {\n",
       "                    center: [51.207, 4.387],\n",
       "                    crs: L.CRS.EPSG3857,\n",
       "                    zoom: 13,\n",
       "                    zoomControl: true,\n",
       "                    preferCanvas: false,\n",
       "                }\n",
       "            );\n",
       "\n",
       "            \n",
       "\n",
       "        \n",
       "    \n",
       "            var tile_layer_1d55d08a0d69015f6df9bc3c2c147b21 = L.tileLayer(\n",
       "                &quot;https://{s}.tile.openstreetmap.org/{z}/{x}/{y}.png&quot;,\n",
       "                {&quot;attribution&quot;: &quot;Data by \\u0026copy; \\u003ca target=\\&quot;_blank\\&quot; href=\\&quot;http://openstreetmap.org\\&quot;\\u003eOpenStreetMap\\u003c/a\\u003e, under \\u003ca target=\\&quot;_blank\\&quot; href=\\&quot;http://www.openstreetmap.org/copyright\\&quot;\\u003eODbL\\u003c/a\\u003e.&quot;, &quot;detectRetina&quot;: false, &quot;maxNativeZoom&quot;: 18, &quot;maxZoom&quot;: 18, &quot;minZoom&quot;: 0, &quot;noWrap&quot;: false, &quot;opacity&quot;: 1, &quot;subdomains&quot;: &quot;abc&quot;, &quot;tms&quot;: false}\n",
       "            ).addTo(map_be5018fb19ef59d7685dcec5551bec03);\n",
       "        \n",
       "    \n",
       "            var heat_map_d77208dc6496d280597e1e3aa960ed44 = L.heatLayer(\n",
       "                [[-49.327, -72.891], [-49.327, -72.891], [-49.317, -72.899], [-49.327, -72.891], [-49.327, -72.891], [-49.327, -72.891], [-49.327, -72.891], [-49.334, -72.883], [-50.339, -72.263], [-50.34, -72.265], [-50.335, -72.254], [-50.336, -72.256], [-50.338, -72.262], [-50.338, -72.265], [-50.338, -72.263], [-50.338, -72.264], [-50.334, -72.253], [-50.336, -72.25], [-50.379, -72.268], [-50.38, -72.287], [-50.381, -72.288], [-50.391, -72.266], [-50.391, -72.266], [-50.383, -72.25], [-50.335, -72.254], [-50.332, -72.258], [-50.331, -72.266], [-50.328, -72.268], [-50.326, -72.265], [-50.323, -72.264], [-50.321, -72.266], [-50.323, -72.267], [-50.325, -72.272], [-50.334, -72.27], [-50.338, -72.263], [-50.338, -72.264], [-50.338, -72.264], [-50.339, -72.265], [-50.338, -72.258], [-50.335, -72.253], [-50.334, -72.255], [-50.335, -72.254], [-50.334, -72.255], [-50.335, -72.253], [-50.334, -72.255], [-50.335, -72.254], [-50.339, -72.265], [-50.427, -72.752], [-50.469, -73.034], [-50.469, -73.032], [-50.468, -73.033], [-50.469, -73.033], [-50.472, -73.033], [-50.469, -73.03], [-50.329, -72.34], [-50.338, -72.267], [-50.338, -72.258], [-50.335, -72.254], [-50.334, -72.255], [-50.335, -72.254], [-50.338, -72.259], [-50.338, -72.264], [-50.338, -72.266], [-50.338, -72.263], [-50.338, -72.26], [-50.338, -72.26], [-50.335, -72.254], [-50.334, -72.254], [-50.334, -72.253], [-50.335, -72.254], [-50.334, -72.255], [-50.335, -72.253], [-50.334, -72.255], [-50.3, -72.065], [-50.284, -72.053], [-54.839, -68.313], [-54.809, -68.32], [-54.808, -68.304], [-54.804, -68.298], [-54.803, -68.297], [-54.807, -68.304], [-54.809, -68.319], [-54.808, -68.301], [-54.808, -68.301], [-54.836, -68.251], [-54.855, -68.219], [-54.867, -68.251], [-54.809, -68.313], [-54.809, -68.32], [-54.805, -68.3], [-54.806, -68.305], [-54.809, -68.305], [-54.809, -68.32], [-54.809, -68.316], [-54.809, -68.32], [-54.809, -68.316], [-54.809, -68.316], [-54.809, -68.316], [-54.809, -68.316], [-54.809, -68.316], [-54.809, -68.316], [-54.81, -68.319], [-54.809, -68.32], [-54.807, -68.305], [-54.833, -68.423], [-54.82, -68.47], [-54.847, -68.481], [-54.837, -68.562], [-54.855, -68.578], [-54.807, -68.306], [-54.809, -68.315], [-54.809, -68.32], [-54.809, -68.316], [-54.809, -68.32], [-54.809, -68.32], [-54.809, -68.32], [-54.809, -68.316], [-54.809, -68.32], [-54.811, -68.316], [-54.815, -68.311], [-54.81, -68.318], [-54.809, -68.316], [-54.809, -68.319], [-54.81, -68.32], [-54.813, -68.312], [-54.812, -68.315], [-54.809, -68.319], [-54.809, -68.32], [-54.81, -68.318], [-54.809, -68.32], [-54.809, -68.316], [-54.809, -68.32], [-54.81, -68.318], [-34.557, -58.414], [-34.557, -58.414], [-34.559, -58.411], [-25.625, -54.551], [-25.604, -54.563], [-25.6, -54.562], [-25.685, -54.44], [-25.686, -54.44], [-25.688, -54.439], [-25.691, -54.438], [-25.691, -54.437], [-25.578, -54.557], [-25.625, -54.55], [-25.624, -54.551], [-25.696, -54.438], [-25.685, -54.443], [-25.682, -54.447], [-25.686, -54.446], [-25.688, -54.445], [-25.682, -54.447], [-25.625, -54.551], [-25.624, -54.551], [-25.624, -54.55], [-25.624, -54.55], [-25.624, -54.551], [-34.609, -58.372], [-34.609, -58.379], [-34.609, -58.378], [-34.608, -58.379], [-34.608, -58.379], [-34.609, -58.379], [-34.812, -58.539], [51.183, 4.381], [51.173, 4.351], [51.172, 4.347], [51.135, 4.557], [51.172, 4.5], [51.172, 4.347], [51.177, 4.35], [51.172, 4.347], [51.172, 4.347], [51.17, 4.363], [51.171, 4.365], [51.172, 4.347], [51.175, 4.349], [51.171, 4.347], [51.175, 4.351], [51.175, 4.351], [51.174, 4.351], [51.172, 4.347], [51.213, 4.391], [51.172, 4.347], [51.172, 4.347], [51.216, 4.394], [51.172, 4.347], [51.174, 4.351], [51.219, 2.907], [50.929, 3.012], [50.933, 3.013], [50.929, 3.012], [51.172, 4.347], [51.175, 4.351], [51.172, 4.347], [51.245, 4.418], [51.246, 4.416], [51.174, 4.348], [51.172, 4.347], [51.172, 4.347], [51.172, 4.347], [51.171, 4.347], [51.204, 4.376], [51.216, 4.394], [51.216, 4.394], [51.216, 4.394], [51.172, 4.347], [51.174, 4.347], [51.172, 4.347], [51.216, 4.394], [51.213, 4.393], [51.216, 4.394], [51.172, 4.347], [51.216, 4.394], [51.172, 4.347], [51.171, 4.353], [51.172, 4.347], [51.216, 4.394], [51.172, 4.347], [51.173, 4.365], [51.172, 4.347], [51.066, 4.408], [51.172, 4.347], [51.172, 4.347], [51.041, 5.185], [51.049, 5.189], [51.169, 4.363], [51.172, 4.347], [51.171, 4.347], [51.181, 4.345], [51.215, 4.392], [51.213, 4.393], [51.216, 4.394], [51.172, 4.347], [51.174, 4.353], [51.172, 4.347], [51.216, 4.394], [51.214, 4.391], [51.216, 4.394], [51.172, 4.347], [51.172, 4.347], [51.172, 4.347], [51.216, 4.394], [51.172, 4.347], [51.173, 4.365], [51.172, 4.347], [51.216, 4.394], [51.172, 4.347], [51.154, 3.229], [50.929, 3.012], [51.172, 4.347], [51.213, 4.391], [51.216, 4.394], [51.21, 4.387], [51.172, 4.347], [51.216, 4.394], [51.216, 4.394], [51.213, 4.393], [51.216, 4.394], [51.172, 4.347], [51.216, 4.394], [51.216, 4.394], [51.172, 4.347], [51.213, 4.391], [51.216, 4.394], [51.216, 4.394], [51.172, 4.347], [51.216, 4.394], [51.219, 4.403], [51.172, 4.347], [51.17, 4.363], [51.171, 4.365], [51.172, 4.347], [51.172, 4.347], [51.062, 3.757], [51.172, 4.347], [51.168, 4.362], [51.172, 4.347], [51.173, 4.365], [51.172, 4.347], [51.174, 4.351], [51.174, 4.351], [51.178, 4.354], [51.216, 4.394], [51.205, 4.379], [51.174, 4.355], [51.171, 4.347], [51.208, 4.385], [51.172, 4.347], [51.216, 4.394], [51.216, 4.394], [51.183, 4.348], [51.174, 4.354], [51.172, 4.347], [51.172, 4.347], [51.172, 4.347], [51.172, 4.347], [51.171, 4.393], [51.172, 4.394], [51.172, 4.347], [51.222, 2.914], [51.172, 4.347], [51.217, 4.393], [51.216, 4.394], [51.219, 4.404], [51.218, 4.395], [51.174, 4.355], [51.172, 4.347], [51.218, 4.405], [51.172, 4.347], [51.216, 4.394], [51.219, 4.404], [51.219, 4.405], [51.172, 4.347], [51.172, 4.347], [51.172, 4.347], [51.172, 4.347], [51.218, 4.405], [51.219, 4.403], [51.219, 4.403], [51.218, 4.405], [51.22, 4.399], [51.075, 4.487], [51.068, 4.501], [51.069, 4.502], [51.073, 4.493], [51.072, 4.494], [51.067, 4.5], [51.067, 4.5], [51.072, 4.492], [51.068, 4.502], [51.068, 4.502], [51.068, 4.502], [51.068, 4.502], [51.172, 4.347], [51.172, 4.347], [51.172, 4.347], [51.173, 4.365], [51.172, 4.347], [51.303, 4.29], [51.304, 4.289], [51.225, 4.414], [51.233, 4.402], [51.235, 4.384], [51.233, 4.384], [51.172, 4.347], [51.216, 4.394], [51.219, 4.404], [51.22, 4.403], [51.218, 4.404], [51.172, 4.347], [51.171, 4.364], [51.172, 4.347], [51.219, 4.404], [51.219, 4.404], [51.22, 4.403], [51.219, 4.404], [51.219, 4.408], [51.219, 4.404], [51.172, 4.347], [51.202, 4.431], [51.216, 4.394], [51.215, 4.392], [51.216, 4.394], [51.207, 4.387], [51.207, 4.386], [51.207, 4.388], [51.207, 4.387], [51.207, 4.387], [51.207, 4.388], [51.207, 4.388], [51.207, 4.387], [51.198, 4.372], [51.157, 4.384], [51.158, 4.386], [51.157, 4.386], [51.158, 4.386], [51.157, 4.387], [51.207, 4.387], [51.207, 4.386], [51.172, 4.347], [51.207, 4.387], [51.207, 4.387], [51.207, 4.387], [51.207, 4.387], [51.207, 4.387], [51.207, 4.387], [51.207, 4.387], [51.207, 4.386], [51.207, 4.387], [51.207, 4.387], [51.207, 4.386], [51.207, 4.387], [51.186, 4.356], [51.173, 4.365], [51.172, 4.347], [51.18, 4.39], [51.155, 4.384], [51.172, 4.347], [51.176, 4.266], [50.926, 3.014], [50.929, 3.012], [50.929, 3.011], [51.175, 4.35], [51.172, 4.347], [51.245, 4.319], [51.306, 4.294], [51.306, 4.291], [51.306, 4.293], [51.305, 4.29], [51.305, 4.29], [51.172, 4.347], [51.207, 4.387], [51.209, 4.387], [51.207, 4.387], [51.172, 4.347], [51.207, 4.387], [51.172, 4.347], [51.207, 4.387], [51.208, 4.388], [51.207, 4.387], [51.207, 4.387], [51.213, 4.391], [51.172, 4.347], [51.45, 5.495], [51.447, 5.487], [51.449, 5.493], [51.169, 4.363], [51.172, 4.347], [51.22, 4.415], [51.209, 4.397], [51.207, 4.387], [51.207, 4.387], [51.174, 4.355], [51.172, 4.347], [51.175, 4.35], [51.172, 4.347], [51.167, 4.347], [51.168, 4.345], [51.172, 4.347], [51.168, 4.35], [51.169, 4.35], [51.172, 4.347], [51.207, 4.387], [51.208, 4.39], [51.208, 4.388], [51.207, 4.387], [51.193, 4.374], [51.172, 4.347], [51.172, 4.347], [51.171, 4.35], [51.171, 4.352], [51.171, 4.348], [51.172, 4.347], [51.174, 4.355], [51.172, 4.347], [51.207, 4.387], [51.221, 4.398], [51.207, 4.387], [51.171, 4.347], [51.175, 4.35], [51.198, 4.39], [51.207, 4.387], [51.208, 4.388], [51.207, 4.387], [51.184, 4.352], [51.172, 4.347], [51.173, 4.345], [51.172, 4.348], [51.172, 4.347], [51.2, 4.391], [51.207, 4.387], [51.208, 4.388], [51.207, 4.387], [51.172, 4.347], [51.222, 4.448], [51.222, 4.448], [51.189, 4.404], [51.171, 4.347], [51.172, 4.347], [51.208, 4.388], [51.207, 4.387], [51.208, 4.388], [51.207, 4.387], [51.21, 4.39], [51.213, 4.392], [51.21, 4.387], [51.167, 4.386], [51.172, 4.347], [51.174, 4.355], [51.173, 4.354], [51.172, 4.347], [51.205, 4.389], [51.207, 4.394], [51.206, 4.393], [51.172, 4.347], [51.173, 4.349], [51.172, 4.347], [51.173, 4.365], [51.172, 4.347], [51.269, 4.407], [51.304, 4.291], [51.305, 4.29], [51.172, 4.347], [51.207, 4.387], [51.208, 4.387], [51.207, 4.387], [51.172, 4.347], [51.207, 4.387], [51.207, 4.387], [51.207, 4.386], [51.207, 4.387], [51.172, 4.347], [51.207, 4.387], [51.208, 4.388], [51.207, 4.387], [51.209, 4.389], [51.209, 4.39], [51.209, 4.39], [51.21, 4.394], [51.208, 4.393], [51.172, 4.347], [51.207, 4.387], [51.172, 4.347], [51.208, 4.388], [51.207, 4.387], [51.209, 4.388], [51.172, 4.347], [51.174, 4.355], [51.172, 4.347], [51.172, 4.347], [51.222, 4.499], [51.044, 5.182], [51.049, 5.189], [51.049, 5.189], [51.172, 4.347], [51.175, 4.351], [51.172, 4.347], [51.173, 4.366], [51.172, 4.347], [51.21, 4.39], [51.207, 4.387], [51.21, 4.39], [51.207, 4.396], [51.172, 4.347], [51.171, 4.35], [51.171, 4.353], [51.172, 4.347], [51.057, 3.714], [51.057, 3.715], [51.038, 3.73], [50.88, 4.251], [50.862, 4.475], [50.879, 4.666], [50.997, 4.802], [50.997, 4.802], [50.997, 4.802], [51.167, 4.782], [51.211, 4.538], [51.214, 4.412], [51.214, 4.401], [51.213, 4.391], [51.218, 4.402], [51.217, 4.406], [51.218, 4.41], [51.217, 4.411], [51.214, 4.412], [51.214, 4.412], [51.216, 4.394], [51.217, 4.408], [51.218, 4.411], [51.214, 4.412], [51.216, 4.394], [51.214, 4.412], [51.218, 4.411], [51.214, 4.412], [51.214, 4.405], [51.214, 4.412], [51.214, 4.412], [51.216, 4.41], [51.215, 4.41], [51.213, 4.409], [51.216, 4.394], [51.214, 4.412], [51.219, 4.401], [51.214, 4.412], [51.214, 4.412], [51.214, 4.412], [51.216, 4.394], [51.216, 4.408], [51.216, 4.407], [51.215, 4.405], [51.214, 4.412], [51.205, 4.39], [51.098, 4.04], [51.171, 4.258], [51.047, 3.713], [51.047, 3.713], [51.047, 3.713], [51.041, 3.73], [51.047, 3.714], [51.057, 3.715], [51.055, 3.714], [51.057, 3.714], [51.061, 3.713], [51.12, 3.728], [51.12, 3.728], [51.057, 3.714], [51.038, 3.766], [51.055, 3.831], [51.131, 4.103], [51.19, 4.306], [51.216, 4.414], [51.214, 4.412], [51.214, 4.412], [51.219, 4.403], [51.216, 4.407], [51.214, 4.412], [51.211, 4.408], [51.207, 4.395], [51.211, 4.49], [50.997, 4.802], [51.143, 4.86], [51.207, 4.551], [51.214, 4.412], [51.216, 4.408], [51.218, 4.409], [51.214, 4.412], [51.216, 4.394], [51.214, 4.412], [51.218, 4.411], [51.214, 4.412], [51.216, 4.394], [51.219, 4.397], [51.216, 4.394], [51.217, 4.408], [51.215, 4.411], [51.214, 4.412], [51.214, 4.412], [51.214, 4.407], [51.214, 4.404], [51.215, 4.41], [51.214, 4.412], [51.215, 4.41], [51.214, 4.412], [51.214, 4.412], [51.216, 4.401], [51.216, 4.394], [51.213, 4.411], [51.208, 4.4], [51.199, 4.39], [51.194, 4.405], [51.193, 4.41], [51.193, 4.411], [51.199, 4.411], [51.21, 4.408], [51.214, 4.412], [51.207, 4.395], [51.206, 4.392], [51.196, 4.395], [51.013, 4.451], [50.912, 4.462], [50.912, 4.462], [50.885, 4.306], [50.887, 4.306], [50.887, 4.305], [50.911, 4.339], [50.909, 4.447], [51.139, 4.43], [51.215, 4.413], [51.217, 4.401], [51.22, 4.401], [51.216, 4.394], [51.216, 4.401], [51.216, 4.408], [51.214, 4.412], [51.207, 4.391], [51.208, 4.393], [51.206, 4.398], [51.205, 4.399], [51.216, 4.394], [51.214, 4.412], [51.218, 4.411], [51.214, 4.412], [51.216, 4.394], [51.209, 4.402], [51.203, 4.428], [51.214, 4.412], [51.216, 4.394], [51.194, 4.411], [51.194, 4.411], [51.213, 4.411], [51.214, 4.412], [51.207, 4.391], [51.214, 4.412], [51.214, 4.412], [51.218, 4.411], [51.217, 4.411], [51.214, 4.412], [51.214, 4.411], [51.213, 4.409], [51.214, 4.412], [51.214, 4.412], [51.214, 4.412], [51.214, 4.404], [51.214, 4.412], [51.214, 4.412], [51.245, 4.419], [51.245, 4.416], [51.246, 4.417], [51.246, 4.417], [51.246, 4.417], [51.246, 4.417], [51.214, 4.412], [51.214, 4.412], [51.214, 4.412], [51.208, 4.403], [51.125, 4.43], [51.035, 4.444], [51.013, 4.451], [50.868, 4.453], [50.891, 4.451], [50.882, 4.449], [51.042, 4.454], [51.216, 4.394], [51.214, 4.412], [51.216, 4.394], [51.214, 4.412], [51.193, 4.399], [51.211, 4.479], [51.085, 4.859], [50.997, 4.802], [50.997, 4.802], [51.14, 4.861], [51.2, 4.596], [51.214, 4.412], [51.216, 4.397], [51.216, 4.394], [51.214, 4.412], [51.214, 4.412], [51.214, 4.412], [51.193, 4.41], [51.214, 4.405], [51.216, 4.394], [51.213, 4.393], [51.216, 4.394], [51.214, 4.412], [51.205, 4.39], [51.102, 4.043], [51.036, 3.736], [51.036, 3.735], [51.214, 4.412], [51.216, 4.394], [51.205, 4.391], [51.131, 4.103], [51.051, 3.719], [51.052, 3.719], [51.053, 3.835], [51.075, 3.987], [51.132, 4.115], [51.207, 4.333], [51.219, 4.401], [51.214, 4.412], [51.213, 4.409], [51.214, 4.412], [51.204, 4.389], [51.102, 4.043], [51.066, 3.881], [51.057, 3.714], [51.051, 3.747], [51.051, 3.748], [51.057, 3.715], [51.057, 3.715], [51.082, 4.009], [51.143, 4.183], [51.214, 4.412], [51.213, 4.409], [51.214, 4.412], [51.218, 4.409], [51.215, 4.41], [51.214, 4.412], [51.216, 4.394], [51.213, 4.393], [51.216, 4.394], [51.216, 4.4], [51.218, 4.411], [51.214, 4.412], [51.195, 4.418], [51.21, 4.408], [51.216, 4.394], [51.214, 4.412], [51.211, 4.407], [51.214, 4.411], [51.214, 4.412], [51.216, 4.394], [51.214, 4.393], [51.216, 4.394], [51.214, 4.412], [51.213, 4.405], [51.214, 4.412], [51.213, 4.409], [51.214, 4.412], [51.216, 4.394], [51.214, 4.412], [51.216, 4.394], [51.214, 4.412], [51.216, 4.394], [51.214, 4.412], [51.214, 4.412], [51.216, 4.407], [51.214, 4.412], [51.214, 4.412], [51.214, 4.412], [51.216, 4.394], [51.212, 4.393], [51.216, 4.394], [51.214, 4.411], [51.217, 4.411], [51.214, 4.412], [51.216, 4.394], [51.214, 4.399], [51.214, 4.412], [51.214, 4.412], [51.214, 4.411], [51.216, 4.394], [51.213, 4.393], [51.216, 4.394], [51.217, 4.408], [51.218, 4.411], [51.214, 4.412], [51.216, 4.394], [51.216, 4.407], [51.217, 4.407], [51.216, 4.408], [51.213, 4.411], [51.214, 4.412], [51.216, 4.394], [51.22, 4.415], [51.214, 4.412], [51.214, 4.412], [51.213, 4.409], [51.214, 4.412], [51.214, 4.412], [51.213, 4.405], [51.213, 4.405], [51.213, 4.405], [51.215, 4.402], [51.211, 4.398], [51.213, 4.394], [51.214, 4.412], [51.213, 4.405], [51.214, 4.41], [51.214, 4.412], [51.207, 4.391], [51.205, 4.391], [51.017, 4.451], [50.813, 4.38], [50.813, 4.381], [50.813, 4.382], [50.813, 4.38], [50.813, 4.382], [50.811, 4.383], [50.811, 4.383], [50.813, 4.381], [50.861, 4.437], [50.915, 4.463], [51.103, 4.435], [51.207, 4.391], [51.214, 4.412], [51.216, 4.399], [51.216, 4.394], [51.214, 4.393], [51.216, 4.394], [51.214, 4.412], [51.216, 4.394], [51.214, 4.412], [51.217, 4.408], [51.193, 4.4], [51.207, 4.551], [51.056, 4.879], [50.997, 4.802], [51.148, 4.858], [51.211, 4.491], [51.214, 4.412], [51.214, 4.412], [51.214, 4.412], [51.214, 4.412], [51.215, 4.409], [51.215, 4.402], [51.218, 4.405], [51.219, 4.408], [51.218, 4.41], [51.218, 4.411], [51.217, 4.411], [51.214, 4.412], [51.216, 4.394], [51.214, 4.412], [51.216, 4.402], [51.221, 4.401], [51.221, 4.403], [51.214, 4.412], [51.136, 4.144], [51.061, 3.861], [50.982, 3.642], [50.984, 3.527], [50.984, 3.527], [50.984, 3.527], [50.984, 3.527], [50.984, 3.527], [50.984, 3.527], [50.984, 3.527], [50.982, 3.527], [50.98, 3.641], [51.043, 3.725], [51.041, 3.73], [51.057, 3.715], [51.144, 3.602], [51.21, 3.491], [51.259, 3.383], [51.341, 3.29], [51.349, 3.289], [51.352, 3.289], [51.353, 3.291], [51.353, 3.295], [51.354, 3.299], [51.356, 3.303], [51.355, 3.302], [51.356, 3.306], [51.353, 3.29], [51.351, 3.289], [51.347, 3.289], [51.344, 3.288], [51.341, 3.289], [51.317, 3.306], [51.317, 3.306], [51.317, 3.306], [51.335, 3.291], [51.335, 3.291], [51.335, 3.291], [51.21, 3.528], [51.216, 4.414], [51.214, 4.412], [51.216, 4.394], [51.215, 4.392], [51.23, 4.402], [51.23, 4.404], [51.215, 4.392], [51.216, 4.394], [51.214, 4.412], [51.193, 4.411], [51.193, 4.411], [51.216, 4.394], [51.213, 4.393], [51.214, 4.412], [51.218, 4.41], [51.218, 4.411], [51.214, 4.412], [51.216, 4.394], [51.218, 4.411], [51.217, 4.411], [51.214, 4.412], [51.216, 4.405], [51.216, 4.408], [51.214, 4.412], [51.214, 4.412], [51.212, 4.402], [51.214, 4.412], [51.213, 4.409], [51.214, 4.412], [51.214, 4.404], [51.215, 4.41], [51.214, 4.412], [51.212, 4.414], [51.211, 4.412], [51.214, 4.412], [51.205, 4.564], [51.061, 4.98], [51.05, 4.948], [51.05, 4.948], [51.016, 4.946], [51.05, 4.948], [51.05, 4.948], [51.143, 4.948], [51.205, 4.562], [51.214, 4.412], [51.219, 4.404], [51.218, 4.405], [51.218, 4.404], [51.214, 4.412], [51.214, 4.412], [51.207, 4.387], [51.218, 4.405], [51.217, 4.408], [51.217, 4.411], [51.214, 4.412], [51.219, 4.404], [51.219, 4.404], [51.216, 4.408], [51.214, 4.412], [51.219, 4.404], [51.218, 4.405], [51.216, 4.408], [51.218, 4.411], [51.214, 4.412], [51.219, 4.404], [51.218, 4.405], [51.219, 4.402], [51.219, 4.404], [51.217, 4.411], [51.214, 4.412], [51.185, 4.436], [51.183, 4.437], [51.182, 4.437], [51.18, 4.433], [51.191, 4.424], [51.202, 4.413], [51.207, 4.42], [51.22, 4.373], [51.218, 4.37], [51.22, 4.38], [51.216, 4.399], [51.207, 4.388], [51.21, 4.389], [51.213, 4.393], [51.219, 4.397], [51.22, 4.399], [51.221, 4.4], [51.221, 4.4], [51.221, 4.4], [51.221, 4.4], [51.221, 4.401], [51.221, 4.4], [51.221, 4.401], [51.222, 4.401], [51.058, 3.855], [51.191, 4.423], [51.214, 4.412], [51.195, 4.418], [51.195, 4.418], [51.214, 4.412], [51.219, 4.404], [51.207, 4.387], [51.207, 4.387], [51.207, 4.387], [51.207, 4.387], [51.219, 4.404], [51.228, 4.402], [51.227, 4.411], [51.219, 4.404], [51.217, 4.406], [51.217, 4.408], [51.217, 4.411], [51.214, 4.412], [51.216, 4.394], [51.216, 4.394], [51.217, 4.41], [51.211, 4.415], [51.211, 4.412], [51.214, 4.412], [51.216, 4.394], [51.216, 4.394], [51.216, 4.407], [51.214, 4.411], [51.207, 4.391], [51.169, 4.386], [51.216, 4.394], [51.207, 4.388], [51.208, 4.386], [51.208, 4.386], [51.216, 4.394], [51.207, 4.387], [51.207, 4.387], [51.216, 4.394], [51.207, 4.387], [51.216, 4.394], [51.207, 4.387], [51.207, 4.387], [51.216, 4.394], [51.207, 4.387], [51.207, 4.388], [51.207, 4.388], [51.207, 4.388], [51.207, 4.388], [51.207, 4.391], [51.206, 4.392], [51.161, 4.417], [50.839, 4.381], [50.84, 4.381], [50.839, 4.381], [50.842, 4.375], [50.861, 4.449], [50.863, 4.447], [50.893, 4.453], [50.915, 4.462], [50.978, 4.487], [51.035, 4.445], [51.12, 4.428], [51.207, 4.391], [51.207, 4.387], [51.207, 4.387], [51.207, 4.387], [51.207, 4.387], [51.207, 4.388], [51.207, 4.387], [51.207, 4.387], [51.207, 4.387], [51.204, 4.377], [51.214, 4.412], [51.207, 4.387], [51.207, 4.388], [51.207, 4.387], [51.207, 4.387], [51.216, 4.394], [51.205, 4.38], [51.199, 4.372], [51.159, 4.385], [51.158, 4.386], [51.157, 4.387], [51.207, 4.387], [51.207, 4.387], [51.198, 4.372], [51.169, 4.387], [51.205, 4.391], [51.208, 4.386], [51.207, 4.388], [51.207, 4.388], [51.207, 4.388], [51.207, 4.388], [51.207, 4.387], [51.207, 4.387], [51.214, 4.412], [51.217, 4.419], [51.218, 4.42], [51.216, 4.421], [50.982, 4.838], [50.982, 4.838], [51.207, 4.386], [51.208, 4.386], [51.207, 4.386], [51.207, 4.386], [51.207, 4.387], [51.207, 4.386], [51.207, 4.386], [51.207, 4.386], [51.208, 4.386], [51.207, 4.387], [51.207, 4.387], [51.207, 4.386], [51.207, 4.387], [51.214, 4.412], [51.215, 4.393], [51.21, 4.389], [51.211, 4.39], [51.211, 4.39], [51.214, 4.412], [51.207, 4.387], [51.207, 4.387], [51.207, 4.391], [51.214, 4.412], [51.195, 4.418], [51.209, 4.389], [51.207, 4.387], [51.214, 4.412], [51.211, 4.408], [51.198, 4.416], [51.207, 4.387], [51.207, 4.387], [51.214, 4.412], [51.213, 4.408], [51.214, 4.412], [51.207, 4.387], [51.207, 4.387], [51.207, 4.387], [51.214, 4.412], [51.212, 4.417], [51.211, 4.414], [51.211, 4.412], [51.214, 4.412], [51.215, 4.409], [51.214, 4.412], [51.212, 4.358], [51.212, 4.358], [51.057, 3.715], [51.054, 3.718], [51.054, 3.721], [51.054, 3.721], [51.054, 3.721], [51.054, 3.718], [51.055, 3.715], [51.055, 3.714], [51.056, 3.715], [51.057, 3.725], [51.057, 3.726], [51.055, 3.722], [51.057, 3.715], [51.034, 3.738], [51.062, 3.869], [51.214, 4.412], [51.207, 4.387], [51.206, 4.387], [51.207, 4.387], [51.208, 4.39], [51.208, 4.389], [51.207, 4.387], [51.212, 4.402], [51.214, 4.412], [51.207, 4.387], [51.208, 4.387], [51.207, 4.387], [51.207, 4.387], [51.214, 4.412], [51.207, 4.387], [51.214, 4.412], [51.557, 5.091], [51.4, 4.729], [51.318, 4.576], [51.268, 4.488], [51.214, 4.412], [51.207, 4.387], [51.207, 4.387], [51.209, 4.393], [51.209, 4.39], [51.207, 4.387], [51.214, 4.412], [51.207, 4.387], [51.206, 4.394], [51.199, 4.436], [51.2, 4.588], [51.103, 4.87], [51.024, 4.84], [50.997, 4.802], [51.206, 4.558], [51.216, 4.414], [51.214, 4.412], [51.214, 4.412], [51.216, 4.41], [51.214, 4.412], [51.214, 4.405], [51.214, 4.412], [51.206, 4.392], [51.262, 4.434], [51.309, 4.557], [51.586, 4.779], [51.587, 4.779], [51.56, 4.82], [51.462, 4.725], [51.353, 4.627], [51.294, 4.524], [51.205, 4.391], [51.214, 4.412], [51.207, 4.387], [51.208, 4.387], [51.207, 4.387], [51.214, 4.412], [51.216, 4.409], [51.214, 4.412], [51.214, 4.412], [51.211, 4.414], [51.213, 4.416], [51.213, 4.415], [51.214, 4.412], [51.207, 4.387], [51.214, 4.412], [51.207, 4.387], [51.207, 4.387], [51.214, 4.412], [51.217, 4.401], [51.217, 4.4], [51.217, 4.401], [51.207, 4.387], [51.214, 4.412], [51.207, 4.387], [51.19, 4.412], [51.211, 4.49], [51.156, 4.821], [50.985, 4.835], [50.985, 4.835], [50.987, 4.839], [50.987, 4.837], [50.987, 4.839], [51.145, 4.86], [51.217, 4.414], [51.214, 4.412], [51.211, 4.414], [51.212, 4.416], [51.211, 4.413], [51.214, 4.412], [51.217, 4.411], [51.214, 4.412], [51.245, 4.419], [51.245, 4.419], [51.246, 4.417], [51.246, 4.417], [51.214, 4.412], [51.214, 4.405], [51.214, 4.412], [51.216, 4.413], [51.216, 4.408], [51.218, 4.404], [51.218, 4.4], [51.219, 4.401], [51.217, 4.404], [51.216, 4.409], [51.214, 4.411], [51.21, 4.395], [51.208, 4.389], [51.207, 4.387], [51.207, 4.387], [51.206, 4.387], [51.212, 4.394], [51.211, 4.408], [51.216, 4.394], [51.206, 4.392], [51.054, 4.447], [50.906, 4.713], [50.953, 4.799], [50.951, 4.89], [50.951, 4.89], [50.951, 4.89], [50.951, 4.89], [51.216, 4.394], [50.951, 4.89], [50.951, 4.89], [50.951, 4.89], [50.952, 4.889], [50.951, 4.89], [50.951, 4.89], [51.216, 4.394], [50.951, 4.89], [50.951, 4.89], [51.216, 4.394], [51.193, 4.4], [50.951, 4.89], [50.952, 4.89], [50.951, 4.89], [50.985, 4.762], [50.948, 4.889], [50.948, 4.889], [50.948, 4.889], [50.886, 4.67], [51.231, 4.404], [51.231, 4.404], [51.231, 4.404], [51.231, 4.404], [51.231, 4.404], [50.951, 4.89], [50.951, 4.89], [51.216, 4.394], [51.231, 4.404], [50.951, 4.89], [50.951, 4.89], [50.951, 4.89], [50.951, 4.89], [50.951, 4.89], [51.216, 4.394], [51.207, 4.393], [51.192, 4.403], [50.951, 4.89], [51.216, 4.394], [51.001, 4.647], [51.001, 4.647], [51.001, 4.647], [50.951, 4.89], [50.983, 4.516], [51.216, 4.394], [51.213, 4.392], [50.951, 4.89], [50.871, 4.494], [50.872, 4.491], [50.872, 4.492], [50.871, 4.492], [50.887, 4.67], [50.951, 4.89], [51.216, 4.394], [51.231, 4.404], [50.951, 4.89], [50.986, 4.569], [51.216, 4.394], [50.951, 4.89], [51.216, 4.394], [50.951, 4.89], [51.216, 4.394], [51.218, 4.396], [51.216, 4.394], [51.165, 4.415], [50.986, 4.412], [50.897, 4.685], [50.947, 4.776], [50.951, 4.89], [51.231, 4.404], [51.181, 4.37], [50.951, 4.89], [50.979, 4.86], [50.951, 4.89], [50.978, 4.63], [51.216, 4.394], [51.15, 4.429], [51.061, 4.442], [50.895, 4.687], [50.951, 4.89], [50.951, 4.89], [51.207, 4.395], [51.216, 4.394], [51.231, 4.404], [50.951, 4.89], [51.193, 4.409], [51.216, 4.394], [51.231, 4.404], [50.951, 4.89], [51.231, 4.404], [50.951, 4.89], [50.951, 4.89], [50.906, 4.87], [50.993, 4.53], [51.231, 4.404], [50.951, 4.89], [50.951, 4.89], [50.951, 4.89], [51.216, 4.394], [51.218, 4.405], [51.231, 4.404], [50.951, 4.89], [50.951, 4.89], [51.231, 4.404], [51.218, 4.404], [51.192, 4.406], [50.951, 4.89], [50.951, 4.89], [51.216, 4.394], [51.206, 4.392], [51.136, 4.428], [50.872, 4.727], [50.865, 4.739], [50.951, 4.89], [50.966, 4.836], [50.994, 4.604], [50.994, 4.531], [51.231, 4.404], [51.231, 4.408], [51.158, 4.384], [51.158, 4.387], [51.158, 4.387], [51.158, 4.387], [51.157, 4.385], [51.158, 4.386], [51.157, 4.387], [51.231, 4.404], [50.951, 4.89], [50.933, 4.858], [51.207, 4.388], [51.207, 4.387], [51.207, 4.388], [51.207, 4.382], [51.198, 4.371], [51.169, 4.387], [51.205, 4.391], [51.207, 4.388], [51.207, 4.387], [51.196, 4.391], [51.104, 4.434], [51.009, 4.606], [50.951, 4.89], [50.951, 4.89], [50.951, 4.89], [50.951, 4.89], [50.951, 4.89], [50.951, 4.89], [50.951, 4.89], [50.951, 4.89], [50.951, 4.89], [50.951, 4.89], [50.951, 4.89], [50.951, 4.89], [50.951, 4.89], [50.951, 4.89], [50.951, 4.89], [50.951, 4.89], [50.951, 4.89], [50.951, 4.89], [50.979, 4.86], [50.96, 4.903], [50.949, 4.928], [50.978, 4.492], [51.069, 4.446], [51.231, 4.404], [51.194, 4.398], [50.902, 4.641], [50.935, 4.856], [50.966, 4.837], [50.951, 4.89], [50.954, 4.839], [51.207, 4.387], [51.209, 4.387], [51.207, 4.386], [51.207, 4.387], [51.207, 4.387], [50.96, 4.587], [50.951, 4.89], [50.966, 4.836], [51.207, 4.387], [51.209, 4.387], [51.207, 4.387], [51.231, 4.404], [50.951, 4.89], [51.207, 4.387], [51.209, 4.387], [51.207, 4.386], [51.207, 4.387], [51.207, 4.387], [51.229, 4.404], [51.231, 4.404], [51.206, 4.392], [50.977, 4.491], [50.887, 4.709], [50.951, 4.89], [50.951, 4.89], [50.951, 4.89], [50.96, 4.815], [50.943, 4.839], [50.981, 4.513], [50.985, 4.543], [51.137, 4.43], [51.207, 4.387], [51.21, 4.39], [51.195, 4.396], [50.977, 4.491], [50.951, 4.89], [50.951, 4.89], [51.207, 4.387], [51.207, 4.387], [51.207, 4.387], [50.951, 4.89], [50.942, 4.874], [50.898, 4.683], [50.98, 4.554], [51.231, 4.404], [51.231, 4.404], [51.224, 4.399], [50.909, 4.713], [50.951, 4.89], [50.935, 4.863], [50.865, 4.739], [50.992, 4.529], [51.231, 4.404], [50.9, 4.681], [50.951, 4.89], [51.207, 4.387], [51.208, 4.389], [51.151, 4.428], [50.886, 4.709], [50.951, 4.89], [50.933, 4.859], [51.207, 4.387], [51.207, 4.387], [51.231, 4.405], [51.211, 4.391], [51.207, 4.387], [51.212, 4.392], [51.206, 4.392], [51.09, 4.44], [50.91, 4.669], [50.951, 4.89], [50.948, 4.839], [50.96, 4.6], [51.207, 4.387], [51.207, 4.387], [51.207, 4.387], [51.206, 4.387], [51.206, 4.392], [51.042, 4.39], [51.196, 4.389], [51.207, 4.387], [51.208, 4.387], [51.207, 4.387], [51.21, 4.389], [51.229, 4.403], [51.231, 4.404], [51.231, 4.404], [51.232, 4.402], [51.137, 4.428], [50.96, 4.587], [50.936, 4.624], [50.899, 4.684], [50.951, 4.89], [50.951, 4.89], [50.951, 4.89], [51.198, 4.393], [51.207, 4.387], [51.206, 4.392], [50.951, 4.89], [50.938, 4.866], [50.864, 4.747], [50.865, 4.739], [51.231, 4.404], [51.198, 4.416], [51.193, 4.408], [50.951, 4.89], [50.952, 4.889], [50.951, 4.89], [51.231, 4.404], [51.229, 4.403], [50.951, 4.89], [50.993, 4.53], [51.207, 4.387], [51.208, 4.387], [51.207, 4.387], [51.207, 4.387], [51.209, 4.389], [51.231, 4.404], [51.229, 4.403], [51.232, 4.402], [51.059, 4.45], [50.941, 4.61], [50.951, 4.89], [51.207, 4.387], [51.231, 4.404], [51.229, 4.403], [51.207, 4.383], [51.166, 4.414], [50.96, 4.587], [50.96, 4.586], [50.938, 4.753], [50.951, 4.89], [51.206, 4.382], [51.207, 4.387], [50.951, 4.89], [50.969, 4.694], [50.961, 4.602], [51.199, 4.39], [51.207, 4.387], [51.205, 4.392], [51.157, 4.387], [51.157, 4.384], [51.181, 4.39], [51.207, 4.387], [51.231, 4.404], [51.229, 4.403], [51.195, 4.382], [50.951, 4.89], [51.207, 4.387], [51.231, 4.404], [51.231, 4.404], [51.232, 4.404], [51.231, 4.404], [51.229, 4.403], [51.213, 4.391], [50.901, 4.679], [50.951, 4.89], [50.976, 4.916], [50.979, 4.86], [51.231, 4.404], [50.951, 4.89], [51.229, 4.403], [51.231, 4.404], [51.231, 4.404], [51.159, 4.384], [51.192, 4.403], [51.037, 4.428], [51.042, 4.39], [51.042, 4.39], [51.206, 4.381], [51.207, 4.387], [51.21, 4.39], [51.192, 4.399], [51.049, 4.454], [50.898, 4.683], [50.956, 4.805], [50.951, 4.89]],\n",
       "                {&quot;blur&quot;: 15, &quot;maxZoom&quot;: 18, &quot;minOpacity&quot;: 0.5, &quot;radius&quot;: 25}\n",
       "            ).addTo(map_be5018fb19ef59d7685dcec5551bec03);\n",
       "        \n",
       "&lt;/script&gt;\n",
       "&lt;/html&gt;\" style=\"position:absolute;width:100%;height:100%;left:0;top:0;border:none !important;\" allowfullscreen webkitallowfullscreen mozallowfullscreen></iframe></div></div>"
      ],
      "text/plain": [
       "<folium.folium.Map at 0x7f075539a7f0>"
      ]
     },
     "execution_count": 39,
     "metadata": {},
     "output_type": "execute_result"
    }
   ],
   "source": [
    "# Create a base map\n",
    "m = folium.Map(location=[51.207, 4.387], zoom_start=13)\n",
    "\n",
    "# Extract locations from both dataframes\n",
    "locations_1 = processed_dataframes['person_1_df_updated'][['latitude', 'longitude']].values.tolist()\n",
    "locations_2 = processed_dataframes['person_2_df_updated'][['latitude', 'longitude']].values.tolist()\n",
    "locations_3 = processed_dataframes['person_3_df_updated'][['latitude', 'longitude']].values.tolist()\n",
    "\n",
    "# Combine the locations\n",
    "all_locations = locations_1 + locations_2 + locations_3\n",
    "\n",
    "# Create a heatmap\n",
    "HeatMap(all_locations).add_to(m)\n",
    "\n",
    "m"
   ]
  },
  {
   "cell_type": "code",
   "execution_count": 37,
   "metadata": {
    "scrolled": false
   },
   "outputs": [
    {
     "data": {
      "text/html": [
       "<div style=\"width:100%;\"><div style=\"position:relative;width:100%;height:0;padding-bottom:60%;\"><span style=\"color:#565656\">Make this Notebook Trusted to load map: File -> Trust Notebook</span><iframe srcdoc=\"&lt;!DOCTYPE html&gt;\n",
       "&lt;html&gt;\n",
       "&lt;head&gt;\n",
       "    \n",
       "    &lt;meta http-equiv=&quot;content-type&quot; content=&quot;text/html; charset=UTF-8&quot; /&gt;\n",
       "    \n",
       "        &lt;script&gt;\n",
       "            L_NO_TOUCH = false;\n",
       "            L_DISABLE_3D = false;\n",
       "        &lt;/script&gt;\n",
       "    \n",
       "    &lt;style&gt;html, body {width: 100%;height: 100%;margin: 0;padding: 0;}&lt;/style&gt;\n",
       "    &lt;style&gt;#map {position:absolute;top:0;bottom:0;right:0;left:0;}&lt;/style&gt;\n",
       "    &lt;script src=&quot;https://cdn.jsdelivr.net/npm/leaflet@1.9.3/dist/leaflet.js&quot;&gt;&lt;/script&gt;\n",
       "    &lt;script src=&quot;https://code.jquery.com/jquery-1.12.4.min.js&quot;&gt;&lt;/script&gt;\n",
       "    &lt;script src=&quot;https://cdn.jsdelivr.net/npm/bootstrap@5.2.2/dist/js/bootstrap.bundle.min.js&quot;&gt;&lt;/script&gt;\n",
       "    &lt;script src=&quot;https://cdnjs.cloudflare.com/ajax/libs/Leaflet.awesome-markers/2.0.2/leaflet.awesome-markers.js&quot;&gt;&lt;/script&gt;\n",
       "    &lt;link rel=&quot;stylesheet&quot; href=&quot;https://cdn.jsdelivr.net/npm/leaflet@1.9.3/dist/leaflet.css&quot;/&gt;\n",
       "    &lt;link rel=&quot;stylesheet&quot; href=&quot;https://cdn.jsdelivr.net/npm/bootstrap@5.2.2/dist/css/bootstrap.min.css&quot;/&gt;\n",
       "    &lt;link rel=&quot;stylesheet&quot; href=&quot;https://netdna.bootstrapcdn.com/bootstrap/3.0.0/css/bootstrap.min.css&quot;/&gt;\n",
       "    &lt;link rel=&quot;stylesheet&quot; href=&quot;https://cdn.jsdelivr.net/npm/@fortawesome/fontawesome-free@6.2.0/css/all.min.css&quot;/&gt;\n",
       "    &lt;link rel=&quot;stylesheet&quot; href=&quot;https://cdnjs.cloudflare.com/ajax/libs/Leaflet.awesome-markers/2.0.2/leaflet.awesome-markers.css&quot;/&gt;\n",
       "    &lt;link rel=&quot;stylesheet&quot; href=&quot;https://cdn.jsdelivr.net/gh/python-visualization/folium/folium/templates/leaflet.awesome.rotate.min.css&quot;/&gt;\n",
       "    \n",
       "            &lt;meta name=&quot;viewport&quot; content=&quot;width=device-width,\n",
       "                initial-scale=1.0, maximum-scale=1.0, user-scalable=no&quot; /&gt;\n",
       "            &lt;style&gt;\n",
       "                #map_d724073ba25298460cddd1757ee1bd44 {\n",
       "                    position: relative;\n",
       "                    width: 100.0%;\n",
       "                    height: 100.0%;\n",
       "                    left: 0.0%;\n",
       "                    top: 0.0%;\n",
       "                }\n",
       "                .leaflet-container { font-size: 1rem; }\n",
       "            &lt;/style&gt;\n",
       "        \n",
       "    &lt;script src=&quot;https://cdn.jsdelivr.net/gh/python-visualization/folium@main/folium/templates/leaflet_heat.min.js&quot;&gt;&lt;/script&gt;\n",
       "&lt;/head&gt;\n",
       "&lt;body&gt;\n",
       "    \n",
       "    \n",
       "            &lt;div class=&quot;folium-map&quot; id=&quot;map_d724073ba25298460cddd1757ee1bd44&quot; &gt;&lt;/div&gt;\n",
       "        \n",
       "&lt;/body&gt;\n",
       "&lt;script&gt;\n",
       "    \n",
       "    \n",
       "            var map_d724073ba25298460cddd1757ee1bd44 = L.map(\n",
       "                &quot;map_d724073ba25298460cddd1757ee1bd44&quot;,\n",
       "                {\n",
       "                    center: [51.207, 4.387],\n",
       "                    crs: L.CRS.EPSG3857,\n",
       "                    zoom: 13,\n",
       "                    zoomControl: true,\n",
       "                    preferCanvas: false,\n",
       "                }\n",
       "            );\n",
       "\n",
       "            \n",
       "\n",
       "        \n",
       "    \n",
       "            var tile_layer_3aab180ef97591f32efdfbbea07b1c27 = L.tileLayer(\n",
       "                &quot;https://{s}.tile.openstreetmap.org/{z}/{x}/{y}.png&quot;,\n",
       "                {&quot;attribution&quot;: &quot;Data by \\u0026copy; \\u003ca target=\\&quot;_blank\\&quot; href=\\&quot;http://openstreetmap.org\\&quot;\\u003eOpenStreetMap\\u003c/a\\u003e, under \\u003ca target=\\&quot;_blank\\&quot; href=\\&quot;http://www.openstreetmap.org/copyright\\&quot;\\u003eODbL\\u003c/a\\u003e.&quot;, &quot;detectRetina&quot;: false, &quot;maxNativeZoom&quot;: 18, &quot;maxZoom&quot;: 18, &quot;minZoom&quot;: 0, &quot;noWrap&quot;: false, &quot;opacity&quot;: 1, &quot;subdomains&quot;: &quot;abc&quot;, &quot;tms&quot;: false}\n",
       "            ).addTo(map_d724073ba25298460cddd1757ee1bd44);\n",
       "        \n",
       "    \n",
       "            var heat_map_81a91fce4d7aace400642f4ed98f09b2 = L.heatLayer(\n",
       "                [[-49.327, -72.891], [-49.327, -72.891], [-49.317, -72.899], [-49.327, -72.891], [-49.327, -72.891], [-49.327, -72.891], [-49.327, -72.891], [-49.334, -72.883], [-50.339, -72.263], [-50.34, -72.265], [-50.335, -72.254], [-50.336, -72.256], [-50.338, -72.262], [-50.338, -72.265], [-50.338, -72.263], [-50.338, -72.264], [-50.334, -72.253], [-50.336, -72.25], [-50.379, -72.268], [-50.38, -72.287], [-50.381, -72.288], [-50.391, -72.266], [-50.391, -72.266], [-50.383, -72.25], [-50.335, -72.254], [-50.332, -72.258], [-50.331, -72.266], [-50.328, -72.268], [-50.326, -72.265], [-50.323, -72.264], [-50.321, -72.266], [-50.323, -72.267], [-50.325, -72.272], [-50.334, -72.27], [-50.338, -72.263], [-50.338, -72.264], [-50.338, -72.264], [-50.339, -72.265], [-50.338, -72.258], [-50.335, -72.253], [-50.334, -72.255], [-50.335, -72.254], [-50.334, -72.255], [-50.335, -72.253], [-50.334, -72.255], [-50.335, -72.254], [-50.339, -72.265], [-50.427, -72.752], [-50.469, -73.034], [-50.469, -73.032], [-50.468, -73.033], [-50.469, -73.033], [-50.472, -73.033], [-50.469, -73.03], [-50.329, -72.34], [-50.338, -72.267], [-50.338, -72.258], [-50.335, -72.254], [-50.334, -72.255], [-50.335, -72.254], [-50.338, -72.259], [-50.338, -72.264], [-50.338, -72.266], [-50.338, -72.263], [-50.338, -72.26], [-50.338, -72.26], [-50.335, -72.254], [-50.334, -72.254], [-50.334, -72.253], [-50.335, -72.254], [-50.334, -72.255], [-50.335, -72.253], [-50.334, -72.255], [-50.3, -72.065], [-50.284, -72.053], [-54.839, -68.313], [-54.809, -68.32], [-54.808, -68.304], [-54.804, -68.298], [-54.803, -68.297], [-54.807, -68.304], [-54.809, -68.319], [-54.808, -68.301], [-54.808, -68.301], [-54.836, -68.251], [-54.855, -68.219], [-54.867, -68.251], [-54.809, -68.313], [-54.809, -68.32], [-54.805, -68.3], [-54.806, -68.305], [-54.809, -68.305], [-54.809, -68.32], [-54.809, -68.316], [-54.809, -68.32], [-54.809, -68.316], [-54.809, -68.316], [-54.809, -68.316], [-54.809, -68.316], [-54.809, -68.316], [-54.809, -68.316], [-54.81, -68.319], [-54.809, -68.32], [-54.807, -68.305], [-54.833, -68.423], [-54.82, -68.47], [-54.847, -68.481], [-54.837, -68.562], [-54.855, -68.578], [-54.807, -68.306], [-54.809, -68.315], [-54.809, -68.32], [-54.809, -68.316], [-54.809, -68.32], [-54.809, -68.32], [-54.809, -68.32], [-54.809, -68.316], [-54.809, -68.32], [-54.811, -68.316], [-54.815, -68.311], [-54.81, -68.318], [-54.809, -68.316], [-54.809, -68.319], [-54.81, -68.32], [-54.813, -68.312], [-54.812, -68.315], [-54.809, -68.319], [-54.809, -68.32], [-54.81, -68.318], [-54.809, -68.32], [-54.809, -68.316], [-54.809, -68.32], [-54.81, -68.318], [-34.557, -58.414], [-34.557, -58.414], [-34.559, -58.411], [-25.625, -54.551], [-25.604, -54.563], [-25.6, -54.562], [-25.685, -54.44], [-25.686, -54.44], [-25.688, -54.439], [-25.691, -54.438], [-25.691, -54.437], [-25.578, -54.557], [-25.625, -54.55], [-25.624, -54.551], [-25.696, -54.438], [-25.685, -54.443], [-25.682, -54.447], [-25.686, -54.446], [-25.688, -54.445], [-25.682, -54.447], [-25.625, -54.551], [-25.624, -54.551], [-25.624, -54.55], [-25.624, -54.55], [-25.624, -54.551], [-34.609, -58.372], [-34.609, -58.379], [-34.609, -58.378], [-34.608, -58.379], [-34.608, -58.379], [-34.609, -58.379], [-34.812, -58.539], [51.183, 4.381], [51.173, 4.351], [51.172, 4.347], [51.135, 4.557], [51.172, 4.5], [51.172, 4.347], [51.177, 4.35], [51.172, 4.347], [51.172, 4.347], [51.17, 4.363], [51.171, 4.365], [51.172, 4.347], [51.175, 4.349], [51.171, 4.347], [51.175, 4.351], [51.175, 4.351], [51.174, 4.351], [51.172, 4.347], [51.213, 4.391], [51.172, 4.347], [51.172, 4.347], [51.216, 4.394], [51.172, 4.347], [51.174, 4.351], [51.219, 2.907], [50.929, 3.012], [50.933, 3.013], [50.929, 3.012], [51.172, 4.347], [51.175, 4.351], [51.172, 4.347], [51.245, 4.418], [51.246, 4.416], [51.174, 4.348], [51.172, 4.347], [51.172, 4.347], [51.172, 4.347], [51.171, 4.347], [51.204, 4.376], [51.216, 4.394], [51.216, 4.394], [51.216, 4.394], [51.172, 4.347], [51.174, 4.347], [51.172, 4.347], [51.216, 4.394], [51.213, 4.393], [51.216, 4.394], [51.172, 4.347], [51.216, 4.394], [51.172, 4.347], [51.171, 4.353], [51.172, 4.347], [51.216, 4.394], [51.172, 4.347], [51.173, 4.365], [51.172, 4.347], [51.066, 4.408], [51.172, 4.347], [51.172, 4.347], [51.041, 5.185], [51.049, 5.189], [51.169, 4.363], [51.172, 4.347], [51.171, 4.347], [51.181, 4.345], [51.215, 4.392], [51.213, 4.393], [51.216, 4.394], [51.172, 4.347], [51.174, 4.353], [51.172, 4.347], [51.216, 4.394], [51.214, 4.391], [51.216, 4.394], [51.172, 4.347], [51.172, 4.347], [51.172, 4.347], [51.216, 4.394], [51.172, 4.347], [51.173, 4.365], [51.172, 4.347], [51.216, 4.394], [51.172, 4.347], [51.154, 3.229], [50.929, 3.012], [51.172, 4.347], [51.213, 4.391], [51.216, 4.394], [51.21, 4.387], [51.172, 4.347], [51.216, 4.394], [51.216, 4.394], [51.213, 4.393], [51.216, 4.394], [51.172, 4.347], [51.216, 4.394], [51.216, 4.394], [51.172, 4.347], [51.213, 4.391], [51.216, 4.394], [51.216, 4.394], [51.172, 4.347], [51.216, 4.394], [51.219, 4.403], [51.172, 4.347], [51.17, 4.363], [51.171, 4.365], [51.172, 4.347], [51.172, 4.347], [51.062, 3.757], [51.172, 4.347], [51.168, 4.362], [51.172, 4.347], [51.173, 4.365], [51.172, 4.347], [51.174, 4.351], [51.174, 4.351], [51.178, 4.354], [51.216, 4.394], [51.205, 4.379], [51.174, 4.355], [51.171, 4.347], [51.208, 4.385], [51.172, 4.347], [51.216, 4.394], [51.216, 4.394], [51.183, 4.348], [51.174, 4.354], [51.172, 4.347], [51.172, 4.347], [51.172, 4.347], [51.172, 4.347], [51.171, 4.393], [51.172, 4.394], [51.172, 4.347], [51.222, 2.914], [51.172, 4.347], [51.217, 4.393], [51.216, 4.394], [51.219, 4.404], [51.218, 4.395], [51.174, 4.355], [51.172, 4.347], [51.218, 4.405], [51.172, 4.347], [51.216, 4.394], [51.219, 4.404], [51.219, 4.405], [51.172, 4.347], [51.172, 4.347], [51.172, 4.347], [51.172, 4.347], [51.218, 4.405], [51.219, 4.403], [51.219, 4.403], [51.218, 4.405], [51.22, 4.399], [51.075, 4.487], [51.068, 4.501], [51.069, 4.502], [51.073, 4.493], [51.072, 4.494], [51.067, 4.5], [51.067, 4.5], [51.072, 4.492], [51.068, 4.502], [51.068, 4.502], [51.068, 4.502], [51.068, 4.502], [51.172, 4.347], [51.172, 4.347], [51.172, 4.347], [51.173, 4.365], [51.172, 4.347], [51.303, 4.29], [51.304, 4.289], [51.225, 4.414], [51.233, 4.402], [51.235, 4.384], [51.233, 4.384], [51.172, 4.347], [51.216, 4.394], [51.219, 4.404], [51.22, 4.403], [51.218, 4.404], [51.172, 4.347], [51.171, 4.364], [51.172, 4.347], [51.219, 4.404], [51.219, 4.404], [51.22, 4.403], [51.219, 4.404], [51.219, 4.408], [51.219, 4.404], [51.172, 4.347], [51.202, 4.431], [51.216, 4.394], [51.215, 4.392], [51.216, 4.394], [51.207, 4.387], [51.207, 4.386], [51.207, 4.388], [51.207, 4.387], [51.207, 4.387], [51.207, 4.388], [51.207, 4.388], [51.207, 4.387], [51.198, 4.372], [51.157, 4.384], [51.158, 4.386], [51.157, 4.386], [51.158, 4.386], [51.157, 4.387], [51.207, 4.387], [51.207, 4.386], [51.172, 4.347], [51.207, 4.387], [51.207, 4.387], [51.207, 4.387], [51.207, 4.387], [51.207, 4.387], [51.207, 4.387], [51.207, 4.387], [51.207, 4.386], [51.207, 4.387], [51.207, 4.387], [51.207, 4.386], [51.207, 4.387], [51.186, 4.356], [51.173, 4.365], [51.172, 4.347], [51.18, 4.39], [51.155, 4.384], [51.172, 4.347], [51.176, 4.266], [50.926, 3.014], [50.929, 3.012], [50.929, 3.011], [51.175, 4.35], [51.172, 4.347], [51.245, 4.319], [51.306, 4.294], [51.306, 4.291], [51.306, 4.293], [51.305, 4.29], [51.305, 4.29], [51.172, 4.347], [51.207, 4.387], [51.209, 4.387], [51.207, 4.387], [51.172, 4.347], [51.207, 4.387], [51.172, 4.347], [51.207, 4.387], [51.208, 4.388], [51.207, 4.387], [51.207, 4.387], [51.213, 4.391], [51.172, 4.347], [51.45, 5.495], [51.447, 5.487], [51.449, 5.493], [51.169, 4.363], [51.172, 4.347], [51.22, 4.415], [51.209, 4.397], [51.207, 4.387], [51.207, 4.387], [51.174, 4.355], [51.172, 4.347], [51.175, 4.35], [51.172, 4.347], [51.167, 4.347], [51.168, 4.345], [51.172, 4.347], [51.168, 4.35], [51.169, 4.35], [51.172, 4.347], [51.207, 4.387], [51.208, 4.39], [51.208, 4.388], [51.207, 4.387], [51.193, 4.374], [51.172, 4.347], [51.172, 4.347], [51.171, 4.35], [51.171, 4.352], [51.171, 4.348], [51.172, 4.347], [51.174, 4.355], [51.172, 4.347], [51.207, 4.387], [51.221, 4.398], [51.207, 4.387], [51.171, 4.347], [51.175, 4.35], [51.198, 4.39], [51.207, 4.387], [51.208, 4.388], [51.207, 4.387], [51.184, 4.352], [51.172, 4.347], [51.173, 4.345], [51.172, 4.348], [51.172, 4.347], [51.2, 4.391], [51.207, 4.387], [51.208, 4.388], [51.207, 4.387], [51.172, 4.347], [51.222, 4.448], [51.222, 4.448], [51.189, 4.404], [51.171, 4.347], [51.172, 4.347], [51.208, 4.388], [51.207, 4.387], [51.208, 4.388], [51.207, 4.387], [51.21, 4.39], [51.213, 4.392], [51.21, 4.387], [51.167, 4.386], [51.172, 4.347], [51.174, 4.355], [51.173, 4.354], [51.172, 4.347], [51.205, 4.389], [51.207, 4.394], [51.206, 4.393], [51.172, 4.347], [51.173, 4.349], [51.172, 4.347], [51.173, 4.365], [51.172, 4.347], [51.269, 4.407], [51.304, 4.291], [51.305, 4.29], [51.172, 4.347], [51.207, 4.387], [51.208, 4.387], [51.207, 4.387], [51.172, 4.347], [51.207, 4.387], [51.207, 4.387], [51.207, 4.386], [51.207, 4.387], [51.172, 4.347], [51.207, 4.387], [51.208, 4.388], [51.207, 4.387], [51.209, 4.389], [51.209, 4.39], [51.209, 4.39], [51.21, 4.394], [51.208, 4.393], [51.172, 4.347], [51.207, 4.387], [51.172, 4.347], [51.208, 4.388], [51.207, 4.387], [51.209, 4.388], [51.172, 4.347], [51.174, 4.355], [51.172, 4.347], [51.172, 4.347], [51.222, 4.499], [51.044, 5.182], [51.049, 5.189], [51.049, 5.189], [51.172, 4.347], [51.175, 4.351], [51.172, 4.347], [51.173, 4.366], [51.172, 4.347], [51.21, 4.39], [51.207, 4.387], [51.21, 4.39], [51.207, 4.396], [51.172, 4.347], [51.171, 4.35], [51.171, 4.353], [51.172, 4.347], [51.057, 3.714], [51.057, 3.715], [51.038, 3.73], [50.88, 4.251], [50.862, 4.475], [50.879, 4.666], [50.997, 4.802], [50.997, 4.802], [50.997, 4.802], [51.167, 4.782], [51.211, 4.538], [51.214, 4.412], [51.214, 4.401], [51.213, 4.391], [51.218, 4.402], [51.217, 4.406], [51.218, 4.41], [51.217, 4.411], [51.214, 4.412], [51.214, 4.412], [51.216, 4.394], [51.217, 4.408], [51.218, 4.411], [51.214, 4.412], [51.216, 4.394], [51.214, 4.412], [51.218, 4.411], [51.214, 4.412], [51.214, 4.405], [51.214, 4.412], [51.214, 4.412], [51.216, 4.41], [51.215, 4.41], [51.213, 4.409], [51.216, 4.394], [51.214, 4.412], [51.219, 4.401], [51.214, 4.412], [51.214, 4.412], [51.214, 4.412], [51.216, 4.394], [51.216, 4.408], [51.216, 4.407], [51.215, 4.405], [51.214, 4.412], [51.205, 4.39], [51.098, 4.04], [51.171, 4.258], [51.047, 3.713], [51.047, 3.713], [51.047, 3.713], [51.041, 3.73], [51.047, 3.714], [51.057, 3.715], [51.055, 3.714], [51.057, 3.714], [51.061, 3.713], [51.12, 3.728], [51.12, 3.728], [51.057, 3.714], [51.038, 3.766], [51.055, 3.831], [51.131, 4.103], [51.19, 4.306], [51.216, 4.414], [51.214, 4.412], [51.214, 4.412], [51.219, 4.403], [51.216, 4.407], [51.214, 4.412], [51.211, 4.408], [51.207, 4.395], [51.211, 4.49], [50.997, 4.802], [51.143, 4.86], [51.207, 4.551], [51.214, 4.412], [51.216, 4.408], [51.218, 4.409], [51.214, 4.412], [51.216, 4.394], [51.214, 4.412], [51.218, 4.411], [51.214, 4.412], [51.216, 4.394], [51.219, 4.397], [51.216, 4.394], [51.217, 4.408], [51.215, 4.411], [51.214, 4.412], [51.214, 4.412], [51.214, 4.407], [51.214, 4.404], [51.215, 4.41], [51.214, 4.412], [51.215, 4.41], [51.214, 4.412], [51.214, 4.412], [51.216, 4.401], [51.216, 4.394], [51.213, 4.411], [51.208, 4.4], [51.199, 4.39], [51.194, 4.405], [51.193, 4.41], [51.193, 4.411], [51.199, 4.411], [51.21, 4.408], [51.214, 4.412], [51.207, 4.395], [51.206, 4.392], [51.196, 4.395], [51.013, 4.451], [50.912, 4.462], [50.912, 4.462], [50.885, 4.306], [50.887, 4.306], [50.887, 4.305], [50.911, 4.339], [50.909, 4.447], [51.139, 4.43], [51.215, 4.413], [51.217, 4.401], [51.22, 4.401], [51.216, 4.394], [51.216, 4.401], [51.216, 4.408], [51.214, 4.412], [51.207, 4.391], [51.208, 4.393], [51.206, 4.398], [51.205, 4.399], [51.216, 4.394], [51.214, 4.412], [51.218, 4.411], [51.214, 4.412], [51.216, 4.394], [51.209, 4.402], [51.203, 4.428], [51.214, 4.412], [51.216, 4.394], [51.194, 4.411], [51.194, 4.411], [51.213, 4.411], [51.214, 4.412], [51.207, 4.391], [51.214, 4.412], [51.214, 4.412], [51.218, 4.411], [51.217, 4.411], [51.214, 4.412], [51.214, 4.411], [51.213, 4.409], [51.214, 4.412], [51.214, 4.412], [51.214, 4.412], [51.214, 4.404], [51.214, 4.412], [51.214, 4.412], [51.245, 4.419], [51.245, 4.416], [51.246, 4.417], [51.246, 4.417], [51.246, 4.417], [51.246, 4.417], [51.214, 4.412], [51.214, 4.412], [51.214, 4.412], [51.208, 4.403], [51.125, 4.43], [51.035, 4.444], [51.013, 4.451], [50.868, 4.453], [50.891, 4.451], [50.882, 4.449], [51.042, 4.454], [51.216, 4.394], [51.214, 4.412], [51.216, 4.394], [51.214, 4.412], [51.193, 4.399], [51.211, 4.479], [51.085, 4.859], [50.997, 4.802], [50.997, 4.802], [51.14, 4.861], [51.2, 4.596], [51.214, 4.412], [51.216, 4.397], [51.216, 4.394], [51.214, 4.412], [51.214, 4.412], [51.214, 4.412], [51.193, 4.41], [51.214, 4.405], [51.216, 4.394], [51.213, 4.393], [51.216, 4.394], [51.214, 4.412], [51.205, 4.39], [51.102, 4.043], [51.036, 3.736], [51.036, 3.735], [51.214, 4.412], [51.216, 4.394], [51.205, 4.391], [51.131, 4.103], [51.051, 3.719], [51.052, 3.719], [51.053, 3.835], [51.075, 3.987], [51.132, 4.115], [51.207, 4.333], [51.219, 4.401], [51.214, 4.412], [51.213, 4.409], [51.214, 4.412], [51.204, 4.389], [51.102, 4.043], [51.066, 3.881], [51.057, 3.714], [51.051, 3.747], [51.051, 3.748], [51.057, 3.715], [51.057, 3.715], [51.082, 4.009], [51.143, 4.183], [51.214, 4.412], [51.213, 4.409], [51.214, 4.412], [51.218, 4.409], [51.215, 4.41], [51.214, 4.412], [51.216, 4.394], [51.213, 4.393], [51.216, 4.394], [51.216, 4.4], [51.218, 4.411], [51.214, 4.412], [51.195, 4.418], [51.21, 4.408], [51.216, 4.394], [51.214, 4.412], [51.211, 4.407], [51.214, 4.411], [51.214, 4.412], [51.216, 4.394], [51.214, 4.393], [51.216, 4.394], [51.214, 4.412], [51.213, 4.405], [51.214, 4.412], [51.213, 4.409], [51.214, 4.412], [51.216, 4.394], [51.214, 4.412], [51.216, 4.394], [51.214, 4.412], [51.216, 4.394], [51.214, 4.412], [51.214, 4.412], [51.216, 4.407], [51.214, 4.412], [51.214, 4.412], [51.214, 4.412], [51.216, 4.394], [51.212, 4.393], [51.216, 4.394], [51.214, 4.411], [51.217, 4.411], [51.214, 4.412], [51.216, 4.394], [51.214, 4.399], [51.214, 4.412], [51.214, 4.412], [51.214, 4.411], [51.216, 4.394], [51.213, 4.393], [51.216, 4.394], [51.217, 4.408], [51.218, 4.411], [51.214, 4.412], [51.216, 4.394], [51.216, 4.407], [51.217, 4.407], [51.216, 4.408], [51.213, 4.411], [51.214, 4.412], [51.216, 4.394], [51.22, 4.415], [51.214, 4.412], [51.214, 4.412], [51.213, 4.409], [51.214, 4.412], [51.214, 4.412], [51.213, 4.405], [51.213, 4.405], [51.213, 4.405], [51.215, 4.402], [51.211, 4.398], [51.213, 4.394], [51.214, 4.412], [51.213, 4.405], [51.214, 4.41], [51.214, 4.412], [51.207, 4.391], [51.205, 4.391], [51.017, 4.451], [50.813, 4.38], [50.813, 4.381], [50.813, 4.382], [50.813, 4.38], [50.813, 4.382], [50.811, 4.383], [50.811, 4.383], [50.813, 4.381], [50.861, 4.437], [50.915, 4.463], [51.103, 4.435], [51.207, 4.391], [51.214, 4.412], [51.216, 4.399], [51.216, 4.394], [51.214, 4.393], [51.216, 4.394], [51.214, 4.412], [51.216, 4.394], [51.214, 4.412], [51.217, 4.408], [51.193, 4.4], [51.207, 4.551], [51.056, 4.879], [50.997, 4.802], [51.148, 4.858], [51.211, 4.491], [51.214, 4.412], [51.214, 4.412], [51.214, 4.412], [51.214, 4.412], [51.215, 4.409], [51.215, 4.402], [51.218, 4.405], [51.219, 4.408], [51.218, 4.41], [51.218, 4.411], [51.217, 4.411], [51.214, 4.412], [51.216, 4.394], [51.214, 4.412], [51.216, 4.402], [51.221, 4.401], [51.221, 4.403], [51.214, 4.412], [51.136, 4.144], [51.061, 3.861], [50.982, 3.642], [50.984, 3.527], [50.984, 3.527], [50.984, 3.527], [50.984, 3.527], [50.984, 3.527], [50.984, 3.527], [50.984, 3.527], [50.982, 3.527], [50.98, 3.641], [51.043, 3.725], [51.041, 3.73], [51.057, 3.715], [51.144, 3.602], [51.21, 3.491], [51.259, 3.383], [51.341, 3.29], [51.349, 3.289], [51.352, 3.289], [51.353, 3.291], [51.353, 3.295], [51.354, 3.299], [51.356, 3.303], [51.355, 3.302], [51.356, 3.306], [51.353, 3.29], [51.351, 3.289], [51.347, 3.289], [51.344, 3.288], [51.341, 3.289], [51.317, 3.306], [51.317, 3.306], [51.317, 3.306], [51.335, 3.291], [51.335, 3.291], [51.335, 3.291], [51.21, 3.528], [51.216, 4.414], [51.214, 4.412], [51.216, 4.394], [51.215, 4.392], [51.23, 4.402], [51.23, 4.404], [51.215, 4.392], [51.216, 4.394], [51.214, 4.412], [51.193, 4.411], [51.193, 4.411], [51.216, 4.394], [51.213, 4.393], [51.214, 4.412], [51.218, 4.41], [51.218, 4.411], [51.214, 4.412], [51.216, 4.394], [51.218, 4.411], [51.217, 4.411], [51.214, 4.412], [51.216, 4.405], [51.216, 4.408], [51.214, 4.412], [51.214, 4.412], [51.212, 4.402], [51.214, 4.412], [51.213, 4.409], [51.214, 4.412], [51.214, 4.404], [51.215, 4.41], [51.214, 4.412], [51.212, 4.414], [51.211, 4.412], [51.214, 4.412], [51.205, 4.564], [51.061, 4.98], [51.05, 4.948], [51.05, 4.948], [51.016, 4.946], [51.05, 4.948], [51.05, 4.948], [51.143, 4.948], [51.205, 4.562], [51.214, 4.412], [51.219, 4.404], [51.218, 4.405], [51.218, 4.404], [51.214, 4.412], [51.214, 4.412], [51.207, 4.387], [51.218, 4.405], [51.217, 4.408], [51.217, 4.411], [51.214, 4.412], [51.219, 4.404], [51.219, 4.404], [51.216, 4.408], [51.214, 4.412], [51.219, 4.404], [51.218, 4.405], [51.216, 4.408], [51.218, 4.411], [51.214, 4.412], [51.219, 4.404], [51.218, 4.405], [51.219, 4.402], [51.219, 4.404], [51.217, 4.411], [51.214, 4.412], [51.185, 4.436], [51.183, 4.437], [51.182, 4.437], [51.18, 4.433], [51.191, 4.424], [51.202, 4.413], [51.207, 4.42], [51.22, 4.373], [51.218, 4.37], [51.22, 4.38], [51.216, 4.399], [51.207, 4.388], [51.21, 4.389], [51.213, 4.393], [51.219, 4.397], [51.22, 4.399], [51.221, 4.4], [51.221, 4.4], [51.221, 4.4], [51.221, 4.4], [51.221, 4.401], [51.221, 4.4], [51.221, 4.401], [51.222, 4.401], [51.058, 3.855], [51.191, 4.423], [51.214, 4.412], [51.195, 4.418], [51.195, 4.418], [51.214, 4.412], [51.219, 4.404], [51.207, 4.387], [51.207, 4.387], [51.207, 4.387], [51.207, 4.387], [51.219, 4.404], [51.228, 4.402], [51.227, 4.411], [51.219, 4.404], [51.217, 4.406], [51.217, 4.408], [51.217, 4.411], [51.214, 4.412], [51.216, 4.394], [51.216, 4.394], [51.217, 4.41], [51.211, 4.415], [51.211, 4.412], [51.214, 4.412], [51.216, 4.394], [51.216, 4.394], [51.216, 4.407], [51.214, 4.411], [51.207, 4.391], [51.169, 4.386], [51.216, 4.394], [51.207, 4.388], [51.208, 4.386], [51.208, 4.386], [51.216, 4.394], [51.207, 4.387], [51.207, 4.387], [51.216, 4.394], [51.207, 4.387], [51.216, 4.394], [51.207, 4.387], [51.207, 4.387], [51.216, 4.394], [51.207, 4.387], [51.207, 4.388], [51.207, 4.388], [51.207, 4.388], [51.207, 4.388], [51.207, 4.391], [51.206, 4.392], [51.161, 4.417], [50.839, 4.381], [50.84, 4.381], [50.839, 4.381], [50.842, 4.375], [50.861, 4.449], [50.863, 4.447], [50.893, 4.453], [50.915, 4.462], [50.978, 4.487], [51.035, 4.445], [51.12, 4.428], [51.207, 4.391], [51.207, 4.387], [51.207, 4.387], [51.207, 4.387], [51.207, 4.387], [51.207, 4.388], [51.207, 4.387], [51.207, 4.387], [51.207, 4.387], [51.204, 4.377], [51.214, 4.412], [51.207, 4.387], [51.207, 4.388], [51.207, 4.387], [51.207, 4.387], [51.216, 4.394], [51.205, 4.38], [51.199, 4.372], [51.159, 4.385], [51.158, 4.386], [51.157, 4.387], [51.207, 4.387], [51.207, 4.387], [51.198, 4.372], [51.169, 4.387], [51.205, 4.391], [51.208, 4.386], [51.207, 4.388], [51.207, 4.388], [51.207, 4.388], [51.207, 4.388], [51.207, 4.387], [51.207, 4.387], [51.214, 4.412], [51.217, 4.419], [51.218, 4.42], [51.216, 4.421], [50.982, 4.838], [50.982, 4.838], [51.207, 4.386], [51.208, 4.386], [51.207, 4.386], [51.207, 4.386], [51.207, 4.387], [51.207, 4.386], [51.207, 4.386], [51.207, 4.386], [51.208, 4.386], [51.207, 4.387], [51.207, 4.387], [51.207, 4.386], [51.207, 4.387], [51.214, 4.412], [51.215, 4.393], [51.21, 4.389], [51.211, 4.39], [51.211, 4.39], [51.214, 4.412], [51.207, 4.387], [51.207, 4.387], [51.207, 4.391], [51.214, 4.412], [51.195, 4.418], [51.209, 4.389], [51.207, 4.387], [51.214, 4.412], [51.211, 4.408], [51.198, 4.416], [51.207, 4.387], [51.207, 4.387], [51.214, 4.412], [51.213, 4.408], [51.214, 4.412], [51.207, 4.387], [51.207, 4.387], [51.207, 4.387], [51.214, 4.412], [51.212, 4.417], [51.211, 4.414], [51.211, 4.412], [51.214, 4.412], [51.215, 4.409], [51.214, 4.412], [51.212, 4.358], [51.212, 4.358], [51.057, 3.715], [51.054, 3.718], [51.054, 3.721], [51.054, 3.721], [51.054, 3.721], [51.054, 3.718], [51.055, 3.715], [51.055, 3.714], [51.056, 3.715], [51.057, 3.725], [51.057, 3.726], [51.055, 3.722], [51.057, 3.715], [51.034, 3.738], [51.062, 3.869], [51.214, 4.412], [51.207, 4.387], [51.206, 4.387], [51.207, 4.387], [51.208, 4.39], [51.208, 4.389], [51.207, 4.387], [51.212, 4.402], [51.214, 4.412], [51.207, 4.387], [51.208, 4.387], [51.207, 4.387], [51.207, 4.387], [51.214, 4.412], [51.207, 4.387], [51.214, 4.412], [51.557, 5.091], [51.4, 4.729], [51.318, 4.576], [51.268, 4.488], [51.214, 4.412], [51.207, 4.387], [51.207, 4.387], [51.209, 4.393], [51.209, 4.39], [51.207, 4.387], [51.214, 4.412], [51.207, 4.387], [51.206, 4.394], [51.199, 4.436], [51.2, 4.588], [51.103, 4.87], [51.024, 4.84], [50.997, 4.802], [51.206, 4.558], [51.216, 4.414], [51.214, 4.412], [51.214, 4.412], [51.216, 4.41], [51.214, 4.412], [51.214, 4.405], [51.214, 4.412], [51.206, 4.392], [51.262, 4.434], [51.309, 4.557], [51.586, 4.779], [51.587, 4.779], [51.56, 4.82], [51.462, 4.725], [51.353, 4.627], [51.294, 4.524], [51.205, 4.391], [51.214, 4.412], [51.207, 4.387], [51.208, 4.387], [51.207, 4.387], [51.214, 4.412], [51.216, 4.409], [51.214, 4.412], [51.214, 4.412], [51.211, 4.414], [51.213, 4.416], [51.213, 4.415], [51.214, 4.412], [51.207, 4.387], [51.214, 4.412], [51.207, 4.387], [51.207, 4.387], [51.214, 4.412], [51.217, 4.401], [51.217, 4.4], [51.217, 4.401], [51.207, 4.387], [51.214, 4.412], [51.207, 4.387], [51.19, 4.412], [51.211, 4.49], [51.156, 4.821], [50.985, 4.835], [50.985, 4.835], [50.987, 4.839], [50.987, 4.837], [50.987, 4.839], [51.145, 4.86], [51.217, 4.414], [51.214, 4.412], [51.211, 4.414], [51.212, 4.416], [51.211, 4.413], [51.214, 4.412], [51.217, 4.411], [51.214, 4.412], [51.245, 4.419], [51.245, 4.419], [51.246, 4.417], [51.246, 4.417], [51.214, 4.412], [51.214, 4.405], [51.214, 4.412], [51.216, 4.413], [51.216, 4.408], [51.218, 4.404], [51.218, 4.4], [51.219, 4.401], [51.217, 4.404], [51.216, 4.409], [51.214, 4.411], [51.21, 4.395], [51.208, 4.389], [51.207, 4.387], [51.207, 4.387], [51.206, 4.387], [51.212, 4.394], [51.211, 4.408]],\n",
       "                {&quot;blur&quot;: 15, &quot;maxZoom&quot;: 18, &quot;minOpacity&quot;: 0.5, &quot;radius&quot;: 25}\n",
       "            ).addTo(map_d724073ba25298460cddd1757ee1bd44);\n",
       "        \n",
       "&lt;/script&gt;\n",
       "&lt;/html&gt;\" style=\"position:absolute;width:100%;height:100%;left:0;top:0;border:none !important;\" allowfullscreen webkitallowfullscreen mozallowfullscreen></iframe></div></div>"
      ],
      "text/plain": [
       "<folium.folium.Map at 0x7f0755367670>"
      ]
     },
     "execution_count": 37,
     "metadata": {},
     "output_type": "execute_result"
    }
   ],
   "source": [
    "# Create a base map\n",
    "m = folium.Map(location=[51.207, 4.387], zoom_start=13)\n",
    "\n",
    "# Extract locations from both dataframes\n",
    "locations_2 = processed_dataframes['person_1_df_updated'][['latitude', 'longitude']].values.tolist()\n",
    "locations_3 = processed_dataframes['person_2_df_updated'][['latitude', 'longitude']].values.tolist()\n",
    "\n",
    "# Combine the locations\n",
    "all_locations = locations_2 + locations_3\n",
    "\n",
    "# Create a heatmap\n",
    "HeatMap(all_locations).add_to(m)\n",
    "\n",
    "m"
   ]
  },
  {
   "cell_type": "code",
   "execution_count": 38,
   "metadata": {},
   "outputs": [
    {
     "data": {
      "text/html": [
       "<div style=\"width:100%;\"><div style=\"position:relative;width:100%;height:0;padding-bottom:60%;\"><span style=\"color:#565656\">Make this Notebook Trusted to load map: File -> Trust Notebook</span><iframe srcdoc=\"&lt;!DOCTYPE html&gt;\n",
       "&lt;html&gt;\n",
       "&lt;head&gt;\n",
       "    \n",
       "    &lt;meta http-equiv=&quot;content-type&quot; content=&quot;text/html; charset=UTF-8&quot; /&gt;\n",
       "    \n",
       "        &lt;script&gt;\n",
       "            L_NO_TOUCH = false;\n",
       "            L_DISABLE_3D = false;\n",
       "        &lt;/script&gt;\n",
       "    \n",
       "    &lt;style&gt;html, body {width: 100%;height: 100%;margin: 0;padding: 0;}&lt;/style&gt;\n",
       "    &lt;style&gt;#map {position:absolute;top:0;bottom:0;right:0;left:0;}&lt;/style&gt;\n",
       "    &lt;script src=&quot;https://cdn.jsdelivr.net/npm/leaflet@1.9.3/dist/leaflet.js&quot;&gt;&lt;/script&gt;\n",
       "    &lt;script src=&quot;https://code.jquery.com/jquery-1.12.4.min.js&quot;&gt;&lt;/script&gt;\n",
       "    &lt;script src=&quot;https://cdn.jsdelivr.net/npm/bootstrap@5.2.2/dist/js/bootstrap.bundle.min.js&quot;&gt;&lt;/script&gt;\n",
       "    &lt;script src=&quot;https://cdnjs.cloudflare.com/ajax/libs/Leaflet.awesome-markers/2.0.2/leaflet.awesome-markers.js&quot;&gt;&lt;/script&gt;\n",
       "    &lt;link rel=&quot;stylesheet&quot; href=&quot;https://cdn.jsdelivr.net/npm/leaflet@1.9.3/dist/leaflet.css&quot;/&gt;\n",
       "    &lt;link rel=&quot;stylesheet&quot; href=&quot;https://cdn.jsdelivr.net/npm/bootstrap@5.2.2/dist/css/bootstrap.min.css&quot;/&gt;\n",
       "    &lt;link rel=&quot;stylesheet&quot; href=&quot;https://netdna.bootstrapcdn.com/bootstrap/3.0.0/css/bootstrap.min.css&quot;/&gt;\n",
       "    &lt;link rel=&quot;stylesheet&quot; href=&quot;https://cdn.jsdelivr.net/npm/@fortawesome/fontawesome-free@6.2.0/css/all.min.css&quot;/&gt;\n",
       "    &lt;link rel=&quot;stylesheet&quot; href=&quot;https://cdnjs.cloudflare.com/ajax/libs/Leaflet.awesome-markers/2.0.2/leaflet.awesome-markers.css&quot;/&gt;\n",
       "    &lt;link rel=&quot;stylesheet&quot; href=&quot;https://cdn.jsdelivr.net/gh/python-visualization/folium/folium/templates/leaflet.awesome.rotate.min.css&quot;/&gt;\n",
       "    \n",
       "            &lt;meta name=&quot;viewport&quot; content=&quot;width=device-width,\n",
       "                initial-scale=1.0, maximum-scale=1.0, user-scalable=no&quot; /&gt;\n",
       "            &lt;style&gt;\n",
       "                #map_93887b8572d0d5cce9ecb0d508f95f79 {\n",
       "                    position: relative;\n",
       "                    width: 100.0%;\n",
       "                    height: 100.0%;\n",
       "                    left: 0.0%;\n",
       "                    top: 0.0%;\n",
       "                }\n",
       "                .leaflet-container { font-size: 1rem; }\n",
       "            &lt;/style&gt;\n",
       "        \n",
       "    &lt;script src=&quot;https://cdn.jsdelivr.net/gh/python-visualization/folium@main/folium/templates/leaflet_heat.min.js&quot;&gt;&lt;/script&gt;\n",
       "&lt;/head&gt;\n",
       "&lt;body&gt;\n",
       "    \n",
       "    \n",
       "            &lt;div class=&quot;folium-map&quot; id=&quot;map_93887b8572d0d5cce9ecb0d508f95f79&quot; &gt;&lt;/div&gt;\n",
       "        \n",
       "&lt;/body&gt;\n",
       "&lt;script&gt;\n",
       "    \n",
       "    \n",
       "            var map_93887b8572d0d5cce9ecb0d508f95f79 = L.map(\n",
       "                &quot;map_93887b8572d0d5cce9ecb0d508f95f79&quot;,\n",
       "                {\n",
       "                    center: [51.207, 4.387],\n",
       "                    crs: L.CRS.EPSG3857,\n",
       "                    zoom: 13,\n",
       "                    zoomControl: true,\n",
       "                    preferCanvas: false,\n",
       "                }\n",
       "            );\n",
       "\n",
       "            \n",
       "\n",
       "        \n",
       "    \n",
       "            var tile_layer_eb55676ab1d814959e5b3d85a1037ba2 = L.tileLayer(\n",
       "                &quot;https://{s}.tile.openstreetmap.org/{z}/{x}/{y}.png&quot;,\n",
       "                {&quot;attribution&quot;: &quot;Data by \\u0026copy; \\u003ca target=\\&quot;_blank\\&quot; href=\\&quot;http://openstreetmap.org\\&quot;\\u003eOpenStreetMap\\u003c/a\\u003e, under \\u003ca target=\\&quot;_blank\\&quot; href=\\&quot;http://www.openstreetmap.org/copyright\\&quot;\\u003eODbL\\u003c/a\\u003e.&quot;, &quot;detectRetina&quot;: false, &quot;maxNativeZoom&quot;: 18, &quot;maxZoom&quot;: 18, &quot;minZoom&quot;: 0, &quot;noWrap&quot;: false, &quot;opacity&quot;: 1, &quot;subdomains&quot;: &quot;abc&quot;, &quot;tms&quot;: false}\n",
       "            ).addTo(map_93887b8572d0d5cce9ecb0d508f95f79);\n",
       "        \n",
       "    \n",
       "            var heat_map_9689c17c0a4df8220bc6e8b0eeb5c0fe = L.heatLayer(\n",
       "                [[-49.327, -72.891], [-49.327, -72.891], [-49.317, -72.899], [-49.327, -72.891], [-49.327, -72.891], [-49.327, -72.891], [-49.327, -72.891], [-49.334, -72.883], [-50.339, -72.263], [-50.34, -72.265], [-50.335, -72.254], [-50.336, -72.256], [-50.338, -72.262], [-50.338, -72.265], [-50.338, -72.263], [-50.338, -72.264], [-50.334, -72.253], [-50.336, -72.25], [-50.379, -72.268], [-50.38, -72.287], [-50.381, -72.288], [-50.391, -72.266], [-50.391, -72.266], [-50.383, -72.25], [-50.335, -72.254], [-50.332, -72.258], [-50.331, -72.266], [-50.328, -72.268], [-50.326, -72.265], [-50.323, -72.264], [-50.321, -72.266], [-50.323, -72.267], [-50.325, -72.272], [-50.334, -72.27], [-50.338, -72.263], [-50.338, -72.264], [-50.338, -72.264], [-50.339, -72.265], [-50.338, -72.258], [-50.335, -72.253], [-50.334, -72.255], [-50.335, -72.254], [-50.334, -72.255], [-50.335, -72.253], [-50.334, -72.255], [-50.335, -72.254], [-50.339, -72.265], [-50.427, -72.752], [-50.469, -73.034], [-50.469, -73.032], [-50.468, -73.033], [-50.469, -73.033], [-50.472, -73.033], [-50.469, -73.03], [-50.329, -72.34], [-50.338, -72.267], [-50.338, -72.258], [-50.335, -72.254], [-50.334, -72.255], [-50.335, -72.254], [-50.338, -72.259], [-50.338, -72.264], [-50.338, -72.266], [-50.338, -72.263], [-50.338, -72.26], [-50.338, -72.26], [-50.335, -72.254], [-50.334, -72.254], [-50.334, -72.253], [-50.335, -72.254], [-50.334, -72.255], [-50.335, -72.253], [-50.334, -72.255], [-50.3, -72.065], [-50.284, -72.053], [-54.839, -68.313], [-54.809, -68.32], [-54.808, -68.304], [-54.804, -68.298], [-54.803, -68.297], [-54.807, -68.304], [-54.809, -68.319], [-54.808, -68.301], [-54.808, -68.301], [-54.836, -68.251], [-54.855, -68.219], [-54.867, -68.251], [-54.809, -68.313], [-54.809, -68.32], [-54.805, -68.3], [-54.806, -68.305], [-54.809, -68.305], [-54.809, -68.32], [-54.809, -68.316], [-54.809, -68.32], [-54.809, -68.316], [-54.809, -68.316], [-54.809, -68.316], [-54.809, -68.316], [-54.809, -68.316], [-54.809, -68.316], [-54.81, -68.319], [-54.809, -68.32], [-54.807, -68.305], [-54.833, -68.423], [-54.82, -68.47], [-54.847, -68.481], [-54.837, -68.562], [-54.855, -68.578], [-54.807, -68.306], [-54.809, -68.315], [-54.809, -68.32], [-54.809, -68.316], [-54.809, -68.32], [-54.809, -68.32], [-54.809, -68.32], [-54.809, -68.316], [-54.809, -68.32], [-54.811, -68.316], [-54.815, -68.311], [-54.81, -68.318], [-54.809, -68.316], [-54.809, -68.319], [-54.81, -68.32], [-54.813, -68.312], [-54.812, -68.315], [-54.809, -68.319], [-54.809, -68.32], [-54.81, -68.318], [-54.809, -68.32], [-54.809, -68.316], [-54.809, -68.32], [-54.81, -68.318], [-34.557, -58.414], [-34.557, -58.414], [-34.559, -58.411], [-25.625, -54.551], [-25.604, -54.563], [-25.6, -54.562], [-25.685, -54.44], [-25.686, -54.44], [-25.688, -54.439], [-25.691, -54.438], [-25.691, -54.437], [-25.578, -54.557], [-25.625, -54.55], [-25.624, -54.551], [-25.696, -54.438], [-25.685, -54.443], [-25.682, -54.447], [-25.686, -54.446], [-25.688, -54.445], [-25.682, -54.447], [-25.625, -54.551], [-25.624, -54.551], [-25.624, -54.55], [-25.624, -54.55], [-25.624, -54.551], [-34.609, -58.372], [-34.609, -58.379], [-34.609, -58.378], [-34.608, -58.379], [-34.608, -58.379], [-34.609, -58.379], [-34.812, -58.539], [51.183, 4.381], [51.173, 4.351], [51.172, 4.347], [51.135, 4.557], [51.172, 4.5], [51.172, 4.347], [51.177, 4.35], [51.172, 4.347], [51.172, 4.347], [51.17, 4.363], [51.171, 4.365], [51.172, 4.347], [51.175, 4.349], [51.171, 4.347], [51.175, 4.351], [51.175, 4.351], [51.174, 4.351], [51.172, 4.347], [51.213, 4.391], [51.172, 4.347], [51.172, 4.347], [51.216, 4.394], [51.172, 4.347], [51.174, 4.351], [51.219, 2.907], [50.929, 3.012], [50.933, 3.013], [50.929, 3.012], [51.172, 4.347], [51.175, 4.351], [51.172, 4.347], [51.245, 4.418], [51.246, 4.416], [51.174, 4.348], [51.172, 4.347], [51.172, 4.347], [51.172, 4.347], [51.171, 4.347], [51.204, 4.376], [51.216, 4.394], [51.216, 4.394], [51.216, 4.394], [51.172, 4.347], [51.174, 4.347], [51.172, 4.347], [51.216, 4.394], [51.213, 4.393], [51.216, 4.394], [51.172, 4.347], [51.216, 4.394], [51.172, 4.347], [51.171, 4.353], [51.172, 4.347], [51.216, 4.394], [51.172, 4.347], [51.173, 4.365], [51.172, 4.347], [51.066, 4.408], [51.172, 4.347], [51.172, 4.347], [51.041, 5.185], [51.049, 5.189], [51.169, 4.363], [51.172, 4.347], [51.171, 4.347], [51.181, 4.345], [51.215, 4.392], [51.213, 4.393], [51.216, 4.394], [51.172, 4.347], [51.174, 4.353], [51.172, 4.347], [51.216, 4.394], [51.214, 4.391], [51.216, 4.394], [51.172, 4.347], [51.172, 4.347], [51.172, 4.347], [51.216, 4.394], [51.172, 4.347], [51.173, 4.365], [51.172, 4.347], [51.216, 4.394], [51.172, 4.347], [51.154, 3.229], [50.929, 3.012], [51.172, 4.347], [51.213, 4.391], [51.216, 4.394], [51.21, 4.387], [51.172, 4.347], [51.216, 4.394], [51.216, 4.394], [51.213, 4.393], [51.216, 4.394], [51.172, 4.347], [51.216, 4.394], [51.216, 4.394], [51.172, 4.347], [51.213, 4.391], [51.216, 4.394], [51.216, 4.394], [51.172, 4.347], [51.216, 4.394], [51.219, 4.403], [51.172, 4.347], [51.17, 4.363], [51.171, 4.365], [51.172, 4.347], [51.172, 4.347], [51.062, 3.757], [51.172, 4.347], [51.168, 4.362], [51.172, 4.347], [51.173, 4.365], [51.172, 4.347], [51.174, 4.351], [51.174, 4.351], [51.178, 4.354], [51.216, 4.394], [51.205, 4.379], [51.174, 4.355], [51.171, 4.347], [51.208, 4.385], [51.172, 4.347], [51.216, 4.394], [51.216, 4.394], [51.183, 4.348], [51.174, 4.354], [51.172, 4.347], [51.172, 4.347], [51.172, 4.347], [51.172, 4.347], [51.171, 4.393], [51.172, 4.394], [51.172, 4.347], [51.222, 2.914], [51.172, 4.347], [51.217, 4.393], [51.216, 4.394], [51.219, 4.404], [51.218, 4.395], [51.174, 4.355], [51.172, 4.347], [51.218, 4.405], [51.172, 4.347], [51.216, 4.394], [51.219, 4.404], [51.219, 4.405], [51.172, 4.347], [51.172, 4.347], [51.172, 4.347], [51.172, 4.347], [51.218, 4.405], [51.219, 4.403], [51.219, 4.403], [51.218, 4.405], [51.22, 4.399], [51.075, 4.487], [51.068, 4.501], [51.069, 4.502], [51.073, 4.493], [51.072, 4.494], [51.067, 4.5], [51.067, 4.5], [51.072, 4.492], [51.068, 4.502], [51.068, 4.502], [51.068, 4.502], [51.068, 4.502], [51.172, 4.347], [51.172, 4.347], [51.172, 4.347], [51.173, 4.365], [51.172, 4.347], [51.303, 4.29], [51.304, 4.289], [51.225, 4.414], [51.233, 4.402], [51.235, 4.384], [51.233, 4.384], [51.172, 4.347], [51.216, 4.394], [51.219, 4.404], [51.22, 4.403], [51.218, 4.404], [51.172, 4.347], [51.171, 4.364], [51.172, 4.347], [51.219, 4.404], [51.219, 4.404], [51.22, 4.403], [51.219, 4.404], [51.219, 4.408], [51.219, 4.404], [51.172, 4.347], [51.202, 4.431], [51.216, 4.394], [51.215, 4.392], [51.216, 4.394], [51.207, 4.387], [51.207, 4.386], [51.207, 4.388], [51.207, 4.387], [51.207, 4.387], [51.207, 4.388], [51.207, 4.388], [51.207, 4.387], [51.198, 4.372], [51.157, 4.384], [51.158, 4.386], [51.157, 4.386], [51.158, 4.386], [51.157, 4.387], [51.207, 4.387], [51.207, 4.386], [51.172, 4.347], [51.207, 4.387], [51.207, 4.387], [51.207, 4.387], [51.207, 4.387], [51.207, 4.387], [51.207, 4.387], [51.207, 4.387], [51.207, 4.386], [51.207, 4.387], [51.207, 4.387], [51.207, 4.386], [51.207, 4.387], [51.186, 4.356], [51.173, 4.365], [51.172, 4.347], [51.18, 4.39], [51.155, 4.384], [51.172, 4.347], [51.176, 4.266], [50.926, 3.014], [50.929, 3.012], [50.929, 3.011], [51.175, 4.35], [51.172, 4.347], [51.245, 4.319], [51.306, 4.294], [51.306, 4.291], [51.306, 4.293], [51.305, 4.29], [51.305, 4.29], [51.172, 4.347], [51.207, 4.387], [51.209, 4.387], [51.207, 4.387], [51.172, 4.347], [51.207, 4.387], [51.172, 4.347], [51.207, 4.387], [51.208, 4.388], [51.207, 4.387], [51.207, 4.387], [51.213, 4.391], [51.172, 4.347], [51.45, 5.495], [51.447, 5.487], [51.449, 5.493], [51.169, 4.363], [51.172, 4.347], [51.22, 4.415], [51.209, 4.397], [51.207, 4.387], [51.207, 4.387], [51.174, 4.355], [51.172, 4.347], [51.175, 4.35], [51.172, 4.347], [51.167, 4.347], [51.168, 4.345], [51.172, 4.347], [51.168, 4.35], [51.169, 4.35], [51.172, 4.347], [51.207, 4.387], [51.208, 4.39], [51.208, 4.388], [51.207, 4.387], [51.193, 4.374], [51.172, 4.347], [51.172, 4.347], [51.171, 4.35], [51.171, 4.352], [51.171, 4.348], [51.172, 4.347], [51.174, 4.355], [51.172, 4.347], [51.207, 4.387], [51.221, 4.398], [51.207, 4.387], [51.171, 4.347], [51.175, 4.35], [51.198, 4.39], [51.207, 4.387], [51.208, 4.388], [51.207, 4.387], [51.184, 4.352], [51.172, 4.347], [51.173, 4.345], [51.172, 4.348], [51.172, 4.347], [51.2, 4.391], [51.207, 4.387], [51.208, 4.388], [51.207, 4.387], [51.172, 4.347], [51.222, 4.448], [51.222, 4.448], [51.189, 4.404], [51.171, 4.347], [51.172, 4.347], [51.208, 4.388], [51.207, 4.387], [51.208, 4.388], [51.207, 4.387], [51.21, 4.39], [51.213, 4.392], [51.21, 4.387], [51.167, 4.386], [51.172, 4.347], [51.174, 4.355], [51.173, 4.354], [51.172, 4.347], [51.205, 4.389], [51.207, 4.394], [51.206, 4.393], [51.172, 4.347], [51.173, 4.349], [51.172, 4.347], [51.173, 4.365], [51.172, 4.347], [51.269, 4.407], [51.304, 4.291], [51.305, 4.29], [51.172, 4.347], [51.207, 4.387], [51.208, 4.387], [51.207, 4.387], [51.172, 4.347], [51.207, 4.387], [51.207, 4.387], [51.207, 4.386], [51.207, 4.387], [51.172, 4.347], [51.207, 4.387], [51.208, 4.388], [51.207, 4.387], [51.209, 4.389], [51.209, 4.39], [51.209, 4.39], [51.21, 4.394], [51.208, 4.393], [51.172, 4.347], [51.207, 4.387], [51.172, 4.347], [51.208, 4.388], [51.207, 4.387], [51.209, 4.388], [51.172, 4.347], [51.174, 4.355], [51.172, 4.347], [51.172, 4.347], [51.222, 4.499], [51.044, 5.182], [51.049, 5.189], [51.049, 5.189], [51.172, 4.347], [51.175, 4.351], [51.172, 4.347], [51.173, 4.366], [51.172, 4.347], [51.21, 4.39], [51.207, 4.387], [51.21, 4.39], [51.207, 4.396], [51.172, 4.347], [51.171, 4.35], [51.171, 4.353], [51.172, 4.347], [51.216, 4.394], [51.206, 4.392], [51.054, 4.447], [50.906, 4.713], [50.953, 4.799], [50.951, 4.89], [50.951, 4.89], [50.951, 4.89], [50.951, 4.89], [51.216, 4.394], [50.951, 4.89], [50.951, 4.89], [50.951, 4.89], [50.952, 4.889], [50.951, 4.89], [50.951, 4.89], [51.216, 4.394], [50.951, 4.89], [50.951, 4.89], [51.216, 4.394], [51.193, 4.4], [50.951, 4.89], [50.952, 4.89], [50.951, 4.89], [50.985, 4.762], [50.948, 4.889], [50.948, 4.889], [50.948, 4.889], [50.886, 4.67], [51.231, 4.404], [51.231, 4.404], [51.231, 4.404], [51.231, 4.404], [51.231, 4.404], [50.951, 4.89], [50.951, 4.89], [51.216, 4.394], [51.231, 4.404], [50.951, 4.89], [50.951, 4.89], [50.951, 4.89], [50.951, 4.89], [50.951, 4.89], [51.216, 4.394], [51.207, 4.393], [51.192, 4.403], [50.951, 4.89], [51.216, 4.394], [51.001, 4.647], [51.001, 4.647], [51.001, 4.647], [50.951, 4.89], [50.983, 4.516], [51.216, 4.394], [51.213, 4.392], [50.951, 4.89], [50.871, 4.494], [50.872, 4.491], [50.872, 4.492], [50.871, 4.492], [50.887, 4.67], [50.951, 4.89], [51.216, 4.394], [51.231, 4.404], [50.951, 4.89], [50.986, 4.569], [51.216, 4.394], [50.951, 4.89], [51.216, 4.394], [50.951, 4.89], [51.216, 4.394], [51.218, 4.396], [51.216, 4.394], [51.165, 4.415], [50.986, 4.412], [50.897, 4.685], [50.947, 4.776], [50.951, 4.89], [51.231, 4.404], [51.181, 4.37], [50.951, 4.89], [50.979, 4.86], [50.951, 4.89], [50.978, 4.63], [51.216, 4.394], [51.15, 4.429], [51.061, 4.442], [50.895, 4.687], [50.951, 4.89], [50.951, 4.89], [51.207, 4.395], [51.216, 4.394], [51.231, 4.404], [50.951, 4.89], [51.193, 4.409], [51.216, 4.394], [51.231, 4.404], [50.951, 4.89], [51.231, 4.404], [50.951, 4.89], [50.951, 4.89], [50.906, 4.87], [50.993, 4.53], [51.231, 4.404], [50.951, 4.89], [50.951, 4.89], [50.951, 4.89], [51.216, 4.394], [51.218, 4.405], [51.231, 4.404], [50.951, 4.89], [50.951, 4.89], [51.231, 4.404], [51.218, 4.404], [51.192, 4.406], [50.951, 4.89], [50.951, 4.89], [51.216, 4.394], [51.206, 4.392], [51.136, 4.428], [50.872, 4.727], [50.865, 4.739], [50.951, 4.89], [50.966, 4.836], [50.994, 4.604], [50.994, 4.531], [51.231, 4.404], [51.231, 4.408], [51.158, 4.384], [51.158, 4.387], [51.158, 4.387], [51.158, 4.387], [51.157, 4.385], [51.158, 4.386], [51.157, 4.387], [51.231, 4.404], [50.951, 4.89], [50.933, 4.858], [51.207, 4.388], [51.207, 4.387], [51.207, 4.388], [51.207, 4.382], [51.198, 4.371], [51.169, 4.387], [51.205, 4.391], [51.207, 4.388], [51.207, 4.387], [51.196, 4.391], [51.104, 4.434], [51.009, 4.606], [50.951, 4.89], [50.951, 4.89], [50.951, 4.89], [50.951, 4.89], [50.951, 4.89], [50.951, 4.89], [50.951, 4.89], [50.951, 4.89], [50.951, 4.89], [50.951, 4.89], [50.951, 4.89], [50.951, 4.89], [50.951, 4.89], [50.951, 4.89], [50.951, 4.89], [50.951, 4.89], [50.951, 4.89], [50.951, 4.89], [50.979, 4.86], [50.96, 4.903], [50.949, 4.928], [50.978, 4.492], [51.069, 4.446], [51.231, 4.404], [51.194, 4.398], [50.902, 4.641], [50.935, 4.856], [50.966, 4.837], [50.951, 4.89], [50.954, 4.839], [51.207, 4.387], [51.209, 4.387], [51.207, 4.386], [51.207, 4.387], [51.207, 4.387], [50.96, 4.587], [50.951, 4.89], [50.966, 4.836], [51.207, 4.387], [51.209, 4.387], [51.207, 4.387], [51.231, 4.404], [50.951, 4.89], [51.207, 4.387], [51.209, 4.387], [51.207, 4.386], [51.207, 4.387], [51.207, 4.387], [51.229, 4.404], [51.231, 4.404], [51.206, 4.392], [50.977, 4.491], [50.887, 4.709], [50.951, 4.89], [50.951, 4.89], [50.951, 4.89], [50.96, 4.815], [50.943, 4.839], [50.981, 4.513], [50.985, 4.543], [51.137, 4.43], [51.207, 4.387], [51.21, 4.39], [51.195, 4.396], [50.977, 4.491], [50.951, 4.89], [50.951, 4.89], [51.207, 4.387], [51.207, 4.387], [51.207, 4.387], [50.951, 4.89], [50.942, 4.874], [50.898, 4.683], [50.98, 4.554], [51.231, 4.404], [51.231, 4.404], [51.224, 4.399], [50.909, 4.713], [50.951, 4.89], [50.935, 4.863], [50.865, 4.739], [50.992, 4.529], [51.231, 4.404], [50.9, 4.681], [50.951, 4.89], [51.207, 4.387], [51.208, 4.389], [51.151, 4.428], [50.886, 4.709], [50.951, 4.89], [50.933, 4.859], [51.207, 4.387], [51.207, 4.387], [51.231, 4.405], [51.211, 4.391], [51.207, 4.387], [51.212, 4.392], [51.206, 4.392], [51.09, 4.44], [50.91, 4.669], [50.951, 4.89], [50.948, 4.839], [50.96, 4.6], [51.207, 4.387], [51.207, 4.387], [51.207, 4.387], [51.206, 4.387], [51.206, 4.392], [51.042, 4.39], [51.196, 4.389], [51.207, 4.387], [51.208, 4.387], [51.207, 4.387], [51.21, 4.389], [51.229, 4.403], [51.231, 4.404], [51.231, 4.404], [51.232, 4.402], [51.137, 4.428], [50.96, 4.587], [50.936, 4.624], [50.899, 4.684], [50.951, 4.89], [50.951, 4.89], [50.951, 4.89], [51.198, 4.393], [51.207, 4.387], [51.206, 4.392], [50.951, 4.89], [50.938, 4.866], [50.864, 4.747], [50.865, 4.739], [51.231, 4.404], [51.198, 4.416], [51.193, 4.408], [50.951, 4.89], [50.952, 4.889], [50.951, 4.89], [51.231, 4.404], [51.229, 4.403], [50.951, 4.89], [50.993, 4.53], [51.207, 4.387], [51.208, 4.387], [51.207, 4.387], [51.207, 4.387], [51.209, 4.389], [51.231, 4.404], [51.229, 4.403], [51.232, 4.402], [51.059, 4.45], [50.941, 4.61], [50.951, 4.89], [51.207, 4.387], [51.231, 4.404], [51.229, 4.403], [51.207, 4.383], [51.166, 4.414], [50.96, 4.587], [50.96, 4.586], [50.938, 4.753], [50.951, 4.89], [51.206, 4.382], [51.207, 4.387], [50.951, 4.89], [50.969, 4.694], [50.961, 4.602], [51.199, 4.39], [51.207, 4.387], [51.205, 4.392], [51.157, 4.387], [51.157, 4.384], [51.181, 4.39], [51.207, 4.387], [51.231, 4.404], [51.229, 4.403], [51.195, 4.382], [50.951, 4.89], [51.207, 4.387], [51.231, 4.404], [51.231, 4.404], [51.232, 4.404], [51.231, 4.404], [51.229, 4.403], [51.213, 4.391], [50.901, 4.679], [50.951, 4.89], [50.976, 4.916], [50.979, 4.86], [51.231, 4.404], [50.951, 4.89], [51.229, 4.403], [51.231, 4.404], [51.231, 4.404], [51.159, 4.384], [51.192, 4.403], [51.037, 4.428], [51.042, 4.39], [51.042, 4.39], [51.206, 4.381], [51.207, 4.387], [51.21, 4.39], [51.192, 4.399], [51.049, 4.454], [50.898, 4.683], [50.956, 4.805], [50.951, 4.89]],\n",
       "                {&quot;blur&quot;: 15, &quot;maxZoom&quot;: 18, &quot;minOpacity&quot;: 0.5, &quot;radius&quot;: 25}\n",
       "            ).addTo(map_93887b8572d0d5cce9ecb0d508f95f79);\n",
       "        \n",
       "&lt;/script&gt;\n",
       "&lt;/html&gt;\" style=\"position:absolute;width:100%;height:100%;left:0;top:0;border:none !important;\" allowfullscreen webkitallowfullscreen mozallowfullscreen></iframe></div></div>"
      ],
      "text/plain": [
       "<folium.folium.Map at 0x7f0755391f10>"
      ]
     },
     "execution_count": 38,
     "metadata": {},
     "output_type": "execute_result"
    }
   ],
   "source": [
    "# Create a base map\n",
    "m = folium.Map(location=[51.207, 4.387], zoom_start=13)\n",
    "\n",
    "# Extract locations from both dataframes\n",
    "locations_2 = processed_dataframes['person_1_df_updated'][['latitude', 'longitude']].values.tolist()\n",
    "locations_3 = processed_dataframes['person_3_df_updated'][['latitude', 'longitude']].values.tolist()\n",
    "\n",
    "# Combine the locations\n",
    "all_locations = locations_2 + locations_3\n",
    "\n",
    "# Create a heatmap\n",
    "HeatMap(all_locations).add_to(m)\n",
    "\n",
    "m"
   ]
  },
  {
   "cell_type": "code",
   "execution_count": 57,
   "metadata": {},
   "outputs": [
    {
     "data": {
      "text/html": [
       "<div style=\"width:100%;\"><div style=\"position:relative;width:100%;height:0;padding-bottom:60%;\"><span style=\"color:#565656\">Make this Notebook Trusted to load map: File -> Trust Notebook</span><iframe srcdoc=\"&lt;!DOCTYPE html&gt;\n",
       "&lt;html&gt;\n",
       "&lt;head&gt;\n",
       "    \n",
       "    &lt;meta http-equiv=&quot;content-type&quot; content=&quot;text/html; charset=UTF-8&quot; /&gt;\n",
       "    \n",
       "        &lt;script&gt;\n",
       "            L_NO_TOUCH = false;\n",
       "            L_DISABLE_3D = false;\n",
       "        &lt;/script&gt;\n",
       "    \n",
       "    &lt;style&gt;html, body {width: 100%;height: 100%;margin: 0;padding: 0;}&lt;/style&gt;\n",
       "    &lt;style&gt;#map {position:absolute;top:0;bottom:0;right:0;left:0;}&lt;/style&gt;\n",
       "    &lt;script src=&quot;https://cdn.jsdelivr.net/npm/leaflet@1.9.3/dist/leaflet.js&quot;&gt;&lt;/script&gt;\n",
       "    &lt;script src=&quot;https://code.jquery.com/jquery-1.12.4.min.js&quot;&gt;&lt;/script&gt;\n",
       "    &lt;script src=&quot;https://cdn.jsdelivr.net/npm/bootstrap@5.2.2/dist/js/bootstrap.bundle.min.js&quot;&gt;&lt;/script&gt;\n",
       "    &lt;script src=&quot;https://cdnjs.cloudflare.com/ajax/libs/Leaflet.awesome-markers/2.0.2/leaflet.awesome-markers.js&quot;&gt;&lt;/script&gt;\n",
       "    &lt;link rel=&quot;stylesheet&quot; href=&quot;https://cdn.jsdelivr.net/npm/leaflet@1.9.3/dist/leaflet.css&quot;/&gt;\n",
       "    &lt;link rel=&quot;stylesheet&quot; href=&quot;https://cdn.jsdelivr.net/npm/bootstrap@5.2.2/dist/css/bootstrap.min.css&quot;/&gt;\n",
       "    &lt;link rel=&quot;stylesheet&quot; href=&quot;https://netdna.bootstrapcdn.com/bootstrap/3.0.0/css/bootstrap.min.css&quot;/&gt;\n",
       "    &lt;link rel=&quot;stylesheet&quot; href=&quot;https://cdn.jsdelivr.net/npm/@fortawesome/fontawesome-free@6.2.0/css/all.min.css&quot;/&gt;\n",
       "    &lt;link rel=&quot;stylesheet&quot; href=&quot;https://cdnjs.cloudflare.com/ajax/libs/Leaflet.awesome-markers/2.0.2/leaflet.awesome-markers.css&quot;/&gt;\n",
       "    &lt;link rel=&quot;stylesheet&quot; href=&quot;https://cdn.jsdelivr.net/gh/python-visualization/folium/folium/templates/leaflet.awesome.rotate.min.css&quot;/&gt;\n",
       "    \n",
       "            &lt;meta name=&quot;viewport&quot; content=&quot;width=device-width,\n",
       "                initial-scale=1.0, maximum-scale=1.0, user-scalable=no&quot; /&gt;\n",
       "            &lt;style&gt;\n",
       "                #map_56801e1f316d693a18bcca1267882324 {\n",
       "                    position: relative;\n",
       "                    width: 100.0%;\n",
       "                    height: 100.0%;\n",
       "                    left: 0.0%;\n",
       "                    top: 0.0%;\n",
       "                }\n",
       "                .leaflet-container { font-size: 1rem; }\n",
       "            &lt;/style&gt;\n",
       "        \n",
       "    &lt;script src=&quot;https://cdn.jsdelivr.net/gh/python-visualization/folium@main/folium/templates/leaflet_heat.min.js&quot;&gt;&lt;/script&gt;\n",
       "&lt;/head&gt;\n",
       "&lt;body&gt;\n",
       "    \n",
       "    \n",
       "            &lt;div class=&quot;folium-map&quot; id=&quot;map_56801e1f316d693a18bcca1267882324&quot; &gt;&lt;/div&gt;\n",
       "        \n",
       "&lt;/body&gt;\n",
       "&lt;script&gt;\n",
       "    \n",
       "    \n",
       "            var map_56801e1f316d693a18bcca1267882324 = L.map(\n",
       "                &quot;map_56801e1f316d693a18bcca1267882324&quot;,\n",
       "                {\n",
       "                    center: [51.207, 4.387],\n",
       "                    crs: L.CRS.EPSG3857,\n",
       "                    zoom: 13,\n",
       "                    zoomControl: true,\n",
       "                    preferCanvas: false,\n",
       "                }\n",
       "            );\n",
       "\n",
       "            \n",
       "\n",
       "        \n",
       "    \n",
       "            var tile_layer_24fdb29a63ea7141c769f1e865f32ba0 = L.tileLayer(\n",
       "                &quot;https://{s}.tile.openstreetmap.org/{z}/{x}/{y}.png&quot;,\n",
       "                {&quot;attribution&quot;: &quot;Data by \\u0026copy; \\u003ca target=\\&quot;_blank\\&quot; href=\\&quot;http://openstreetmap.org\\&quot;\\u003eOpenStreetMap\\u003c/a\\u003e, under \\u003ca target=\\&quot;_blank\\&quot; href=\\&quot;http://www.openstreetmap.org/copyright\\&quot;\\u003eODbL\\u003c/a\\u003e.&quot;, &quot;detectRetina&quot;: false, &quot;maxNativeZoom&quot;: 18, &quot;maxZoom&quot;: 18, &quot;minZoom&quot;: 0, &quot;noWrap&quot;: false, &quot;opacity&quot;: 1, &quot;subdomains&quot;: &quot;abc&quot;, &quot;tms&quot;: false}\n",
       "            ).addTo(map_56801e1f316d693a18bcca1267882324);\n",
       "        \n",
       "    \n",
       "            var heat_map_d048d2fda9621d90919df1a19642ccdc = L.heatLayer(\n",
       "                [[51.057, 3.714], [51.057, 3.715], [51.038, 3.73], [50.88, 4.251], [50.862, 4.475], [50.879, 4.666], [50.997, 4.802], [50.997, 4.802], [50.997, 4.802], [51.167, 4.782], [51.211, 4.538], [51.214, 4.412], [51.214, 4.401], [51.213, 4.391], [51.218, 4.402], [51.217, 4.406], [51.218, 4.41], [51.217, 4.411], [51.214, 4.412], [51.214, 4.412], [51.216, 4.394], [51.217, 4.408], [51.218, 4.411], [51.214, 4.412], [51.216, 4.394], [51.214, 4.412], [51.218, 4.411], [51.214, 4.412], [51.214, 4.405], [51.214, 4.412], [51.214, 4.412], [51.216, 4.41], [51.215, 4.41], [51.213, 4.409], [51.216, 4.394], [51.214, 4.412], [51.219, 4.401], [51.214, 4.412], [51.214, 4.412], [51.214, 4.412], [51.216, 4.394], [51.216, 4.408], [51.216, 4.407], [51.215, 4.405], [51.214, 4.412], [51.205, 4.39], [51.098, 4.04], [51.171, 4.258], [51.047, 3.713], [51.047, 3.713], [51.047, 3.713], [51.041, 3.73], [51.047, 3.714], [51.057, 3.715], [51.055, 3.714], [51.057, 3.714], [51.061, 3.713], [51.12, 3.728], [51.12, 3.728], [51.057, 3.714], [51.038, 3.766], [51.055, 3.831], [51.131, 4.103], [51.19, 4.306], [51.216, 4.414], [51.214, 4.412], [51.214, 4.412], [51.219, 4.403], [51.216, 4.407], [51.214, 4.412], [51.211, 4.408], [51.207, 4.395], [51.211, 4.49], [50.997, 4.802], [51.143, 4.86], [51.207, 4.551], [51.214, 4.412], [51.216, 4.408], [51.218, 4.409], [51.214, 4.412], [51.216, 4.394], [51.214, 4.412], [51.218, 4.411], [51.214, 4.412], [51.216, 4.394], [51.219, 4.397], [51.216, 4.394], [51.217, 4.408], [51.215, 4.411], [51.214, 4.412], [51.214, 4.412], [51.214, 4.407], [51.214, 4.404], [51.215, 4.41], [51.214, 4.412], [51.215, 4.41], [51.214, 4.412], [51.214, 4.412], [51.216, 4.401], [51.216, 4.394], [51.213, 4.411], [51.208, 4.4], [51.199, 4.39], [51.194, 4.405], [51.193, 4.41], [51.193, 4.411], [51.199, 4.411], [51.21, 4.408], [51.214, 4.412], [51.207, 4.395], [51.206, 4.392], [51.196, 4.395], [51.013, 4.451], [50.912, 4.462], [50.912, 4.462], [50.885, 4.306], [50.887, 4.306], [50.887, 4.305], [50.911, 4.339], [50.909, 4.447], [51.139, 4.43], [51.215, 4.413], [51.217, 4.401], [51.22, 4.401], [51.216, 4.394], [51.216, 4.401], [51.216, 4.408], [51.214, 4.412], [51.207, 4.391], [51.208, 4.393], [51.206, 4.398], [51.205, 4.399], [51.216, 4.394], [51.214, 4.412], [51.218, 4.411], [51.214, 4.412], [51.216, 4.394], [51.209, 4.402], [51.203, 4.428], [51.214, 4.412], [51.216, 4.394], [51.194, 4.411], [51.194, 4.411], [51.213, 4.411], [51.214, 4.412], [51.207, 4.391], [51.214, 4.412], [51.214, 4.412], [51.218, 4.411], [51.217, 4.411], [51.214, 4.412], [51.214, 4.411], [51.213, 4.409], [51.214, 4.412], [51.214, 4.412], [51.214, 4.412], [51.214, 4.404], [51.214, 4.412], [51.214, 4.412], [51.245, 4.419], [51.245, 4.416], [51.246, 4.417], [51.246, 4.417], [51.246, 4.417], [51.246, 4.417], [51.214, 4.412], [51.214, 4.412], [51.214, 4.412], [51.208, 4.403], [51.125, 4.43], [51.035, 4.444], [51.013, 4.451], [50.868, 4.453], [50.891, 4.451], [50.882, 4.449], [51.042, 4.454], [51.216, 4.394], [51.214, 4.412], [51.216, 4.394], [51.214, 4.412], [51.193, 4.399], [51.211, 4.479], [51.085, 4.859], [50.997, 4.802], [50.997, 4.802], [51.14, 4.861], [51.2, 4.596], [51.214, 4.412], [51.216, 4.397], [51.216, 4.394], [51.214, 4.412], [51.214, 4.412], [51.214, 4.412], [51.193, 4.41], [51.214, 4.405], [51.216, 4.394], [51.213, 4.393], [51.216, 4.394], [51.214, 4.412], [51.205, 4.39], [51.102, 4.043], [51.036, 3.736], [51.036, 3.735], [51.214, 4.412], [51.216, 4.394], [51.205, 4.391], [51.131, 4.103], [51.051, 3.719], [51.052, 3.719], [51.053, 3.835], [51.075, 3.987], [51.132, 4.115], [51.207, 4.333], [51.219, 4.401], [51.214, 4.412], [51.213, 4.409], [51.214, 4.412], [51.204, 4.389], [51.102, 4.043], [51.066, 3.881], [51.057, 3.714], [51.051, 3.747], [51.051, 3.748], [51.057, 3.715], [51.057, 3.715], [51.082, 4.009], [51.143, 4.183], [51.214, 4.412], [51.213, 4.409], [51.214, 4.412], [51.218, 4.409], [51.215, 4.41], [51.214, 4.412], [51.216, 4.394], [51.213, 4.393], [51.216, 4.394], [51.216, 4.4], [51.218, 4.411], [51.214, 4.412], [51.195, 4.418], [51.21, 4.408], [51.216, 4.394], [51.214, 4.412], [51.211, 4.407], [51.214, 4.411], [51.214, 4.412], [51.216, 4.394], [51.214, 4.393], [51.216, 4.394], [51.214, 4.412], [51.213, 4.405], [51.214, 4.412], [51.213, 4.409], [51.214, 4.412], [51.216, 4.394], [51.214, 4.412], [51.216, 4.394], [51.214, 4.412], [51.216, 4.394], [51.214, 4.412], [51.214, 4.412], [51.216, 4.407], [51.214, 4.412], [51.214, 4.412], [51.214, 4.412], [51.216, 4.394], [51.212, 4.393], [51.216, 4.394], [51.214, 4.411], [51.217, 4.411], [51.214, 4.412], [51.216, 4.394], [51.214, 4.399], [51.214, 4.412], [51.214, 4.412], [51.214, 4.411], [51.216, 4.394], [51.213, 4.393], [51.216, 4.394], [51.217, 4.408], [51.218, 4.411], [51.214, 4.412], [51.216, 4.394], [51.216, 4.407], [51.217, 4.407], [51.216, 4.408], [51.213, 4.411], [51.214, 4.412], [51.216, 4.394], [51.22, 4.415], [51.214, 4.412], [51.214, 4.412], [51.213, 4.409], [51.214, 4.412], [51.214, 4.412], [51.213, 4.405], [51.213, 4.405], [51.213, 4.405], [51.215, 4.402], [51.211, 4.398], [51.213, 4.394], [51.214, 4.412], [51.213, 4.405], [51.214, 4.41], [51.214, 4.412], [51.207, 4.391], [51.205, 4.391], [51.017, 4.451], [50.813, 4.38], [50.813, 4.381], [50.813, 4.382], [50.813, 4.38], [50.813, 4.382], [50.811, 4.383], [50.811, 4.383], [50.813, 4.381], [50.861, 4.437], [50.915, 4.463], [51.103, 4.435], [51.207, 4.391], [51.214, 4.412], [51.216, 4.399], [51.216, 4.394], [51.214, 4.393], [51.216, 4.394], [51.214, 4.412], [51.216, 4.394], [51.214, 4.412], [51.217, 4.408], [51.193, 4.4], [51.207, 4.551], [51.056, 4.879], [50.997, 4.802], [51.148, 4.858], [51.211, 4.491], [51.214, 4.412], [51.214, 4.412], [51.214, 4.412], [51.214, 4.412], [51.215, 4.409], [51.215, 4.402], [51.218, 4.405], [51.219, 4.408], [51.218, 4.41], [51.218, 4.411], [51.217, 4.411], [51.214, 4.412], [51.216, 4.394], [51.214, 4.412], [51.216, 4.402], [51.221, 4.401], [51.221, 4.403], [51.214, 4.412], [51.136, 4.144], [51.061, 3.861], [50.982, 3.642], [50.984, 3.527], [50.984, 3.527], [50.984, 3.527], [50.984, 3.527], [50.984, 3.527], [50.984, 3.527], [50.984, 3.527], [50.982, 3.527], [50.98, 3.641], [51.043, 3.725], [51.041, 3.73], [51.057, 3.715], [51.144, 3.602], [51.21, 3.491], [51.259, 3.383], [51.341, 3.29], [51.349, 3.289], [51.352, 3.289], [51.353, 3.291], [51.353, 3.295], [51.354, 3.299], [51.356, 3.303], [51.355, 3.302], [51.356, 3.306], [51.353, 3.29], [51.351, 3.289], [51.347, 3.289], [51.344, 3.288], [51.341, 3.289], [51.317, 3.306], [51.317, 3.306], [51.317, 3.306], [51.335, 3.291], [51.335, 3.291], [51.335, 3.291], [51.21, 3.528], [51.216, 4.414], [51.214, 4.412], [51.216, 4.394], [51.215, 4.392], [51.23, 4.402], [51.23, 4.404], [51.215, 4.392], [51.216, 4.394], [51.214, 4.412], [51.193, 4.411], [51.193, 4.411], [51.216, 4.394], [51.213, 4.393], [51.214, 4.412], [51.218, 4.41], [51.218, 4.411], [51.214, 4.412], [51.216, 4.394], [51.218, 4.411], [51.217, 4.411], [51.214, 4.412], [51.216, 4.405], [51.216, 4.408], [51.214, 4.412], [51.214, 4.412], [51.212, 4.402], [51.214, 4.412], [51.213, 4.409], [51.214, 4.412], [51.214, 4.404], [51.215, 4.41], [51.214, 4.412], [51.212, 4.414], [51.211, 4.412], [51.214, 4.412], [51.205, 4.564], [51.061, 4.98], [51.05, 4.948], [51.05, 4.948], [51.016, 4.946], [51.05, 4.948], [51.05, 4.948], [51.143, 4.948], [51.205, 4.562], [51.214, 4.412], [51.219, 4.404], [51.218, 4.405], [51.218, 4.404], [51.214, 4.412], [51.214, 4.412], [51.207, 4.387], [51.218, 4.405], [51.217, 4.408], [51.217, 4.411], [51.214, 4.412], [51.219, 4.404], [51.219, 4.404], [51.216, 4.408], [51.214, 4.412], [51.219, 4.404], [51.218, 4.405], [51.216, 4.408], [51.218, 4.411], [51.214, 4.412], [51.219, 4.404], [51.218, 4.405], [51.219, 4.402], [51.219, 4.404], [51.217, 4.411], [51.214, 4.412], [51.185, 4.436], [51.183, 4.437], [51.182, 4.437], [51.18, 4.433], [51.191, 4.424], [51.202, 4.413], [51.207, 4.42], [51.22, 4.373], [51.218, 4.37], [51.22, 4.38], [51.216, 4.399], [51.207, 4.388], [51.21, 4.389], [51.213, 4.393], [51.219, 4.397], [51.22, 4.399], [51.221, 4.4], [51.221, 4.4], [51.221, 4.4], [51.221, 4.4], [51.221, 4.401], [51.221, 4.4], [51.221, 4.401], [51.222, 4.401], [51.058, 3.855], [51.191, 4.423], [51.214, 4.412], [51.195, 4.418], [51.195, 4.418], [51.214, 4.412], [51.219, 4.404], [51.207, 4.387], [51.207, 4.387], [51.207, 4.387], [51.207, 4.387], [51.219, 4.404], [51.228, 4.402], [51.227, 4.411], [51.219, 4.404], [51.217, 4.406], [51.217, 4.408], [51.217, 4.411], [51.214, 4.412], [51.216, 4.394], [51.216, 4.394], [51.217, 4.41], [51.211, 4.415], [51.211, 4.412], [51.214, 4.412], [51.216, 4.394], [51.216, 4.394], [51.216, 4.407], [51.214, 4.411], [51.207, 4.391], [51.169, 4.386], [51.216, 4.394], [51.207, 4.388], [51.208, 4.386], [51.208, 4.386], [51.216, 4.394], [51.207, 4.387], [51.207, 4.387], [51.216, 4.394], [51.207, 4.387], [51.216, 4.394], [51.207, 4.387], [51.207, 4.387], [51.216, 4.394], [51.207, 4.387], [51.207, 4.388], [51.207, 4.388], [51.207, 4.388], [51.207, 4.388], [51.207, 4.391], [51.206, 4.392], [51.161, 4.417], [50.839, 4.381], [50.84, 4.381], [50.839, 4.381], [50.842, 4.375], [50.861, 4.449], [50.863, 4.447], [50.893, 4.453], [50.915, 4.462], [50.978, 4.487], [51.035, 4.445], [51.12, 4.428], [51.207, 4.391], [51.207, 4.387], [51.207, 4.387], [51.207, 4.387], [51.207, 4.387], [51.207, 4.388], [51.207, 4.387], [51.207, 4.387], [51.207, 4.387], [51.204, 4.377], [51.214, 4.412], [51.207, 4.387], [51.207, 4.388], [51.207, 4.387], [51.207, 4.387], [51.216, 4.394], [51.205, 4.38], [51.199, 4.372], [51.159, 4.385], [51.158, 4.386], [51.157, 4.387], [51.207, 4.387], [51.207, 4.387], [51.198, 4.372], [51.169, 4.387], [51.205, 4.391], [51.208, 4.386], [51.207, 4.388], [51.207, 4.388], [51.207, 4.388], [51.207, 4.388], [51.207, 4.387], [51.207, 4.387], [51.214, 4.412], [51.217, 4.419], [51.218, 4.42], [51.216, 4.421], [50.982, 4.838], [50.982, 4.838], [51.207, 4.386], [51.208, 4.386], [51.207, 4.386], [51.207, 4.386], [51.207, 4.387], [51.207, 4.386], [51.207, 4.386], [51.207, 4.386], [51.208, 4.386], [51.207, 4.387], [51.207, 4.387], [51.207, 4.386], [51.207, 4.387], [51.214, 4.412], [51.215, 4.393], [51.21, 4.389], [51.211, 4.39], [51.211, 4.39], [51.214, 4.412], [51.207, 4.387], [51.207, 4.387], [51.207, 4.391], [51.214, 4.412], [51.195, 4.418], [51.209, 4.389], [51.207, 4.387], [51.214, 4.412], [51.211, 4.408], [51.198, 4.416], [51.207, 4.387], [51.207, 4.387], [51.214, 4.412], [51.213, 4.408], [51.214, 4.412], [51.207, 4.387], [51.207, 4.387], [51.207, 4.387], [51.214, 4.412], [51.212, 4.417], [51.211, 4.414], [51.211, 4.412], [51.214, 4.412], [51.215, 4.409], [51.214, 4.412], [51.212, 4.358], [51.212, 4.358], [51.057, 3.715], [51.054, 3.718], [51.054, 3.721], [51.054, 3.721], [51.054, 3.721], [51.054, 3.718], [51.055, 3.715], [51.055, 3.714], [51.056, 3.715], [51.057, 3.725], [51.057, 3.726], [51.055, 3.722], [51.057, 3.715], [51.034, 3.738], [51.062, 3.869], [51.214, 4.412], [51.207, 4.387], [51.206, 4.387], [51.207, 4.387], [51.208, 4.39], [51.208, 4.389], [51.207, 4.387], [51.212, 4.402], [51.214, 4.412], [51.207, 4.387], [51.208, 4.387], [51.207, 4.387], [51.207, 4.387], [51.214, 4.412], [51.207, 4.387], [51.214, 4.412], [51.557, 5.091], [51.4, 4.729], [51.318, 4.576], [51.268, 4.488], [51.214, 4.412], [51.207, 4.387], [51.207, 4.387], [51.209, 4.393], [51.209, 4.39], [51.207, 4.387], [51.214, 4.412], [51.207, 4.387], [51.206, 4.394], [51.199, 4.436], [51.2, 4.588], [51.103, 4.87], [51.024, 4.84], [50.997, 4.802], [51.206, 4.558], [51.216, 4.414], [51.214, 4.412], [51.214, 4.412], [51.216, 4.41], [51.214, 4.412], [51.214, 4.405], [51.214, 4.412], [51.206, 4.392], [51.262, 4.434], [51.309, 4.557], [51.586, 4.779], [51.587, 4.779], [51.56, 4.82], [51.462, 4.725], [51.353, 4.627], [51.294, 4.524], [51.205, 4.391], [51.214, 4.412], [51.207, 4.387], [51.208, 4.387], [51.207, 4.387], [51.214, 4.412], [51.216, 4.409], [51.214, 4.412], [51.214, 4.412], [51.211, 4.414], [51.213, 4.416], [51.213, 4.415], [51.214, 4.412], [51.207, 4.387], [51.214, 4.412], [51.207, 4.387], [51.207, 4.387], [51.214, 4.412], [51.217, 4.401], [51.217, 4.4], [51.217, 4.401], [51.207, 4.387], [51.214, 4.412], [51.207, 4.387], [51.19, 4.412], [51.211, 4.49], [51.156, 4.821], [50.985, 4.835], [50.985, 4.835], [50.987, 4.839], [50.987, 4.837], [50.987, 4.839], [51.145, 4.86], [51.217, 4.414], [51.214, 4.412], [51.211, 4.414], [51.212, 4.416], [51.211, 4.413], [51.214, 4.412], [51.217, 4.411], [51.214, 4.412], [51.245, 4.419], [51.245, 4.419], [51.246, 4.417], [51.246, 4.417], [51.214, 4.412], [51.214, 4.405], [51.214, 4.412], [51.216, 4.413], [51.216, 4.408], [51.218, 4.404], [51.218, 4.4], [51.219, 4.401], [51.217, 4.404], [51.216, 4.409], [51.214, 4.411], [51.21, 4.395], [51.208, 4.389], [51.207, 4.387], [51.207, 4.387], [51.206, 4.387], [51.212, 4.394], [51.211, 4.408], [51.216, 4.394], [51.206, 4.392], [51.054, 4.447], [50.906, 4.713], [50.953, 4.799], [50.951, 4.89], [50.951, 4.89], [50.951, 4.89], [50.951, 4.89], [51.216, 4.394], [50.951, 4.89], [50.951, 4.89], [50.951, 4.89], [50.952, 4.889], [50.951, 4.89], [50.951, 4.89], [51.216, 4.394], [50.951, 4.89], [50.951, 4.89], [51.216, 4.394], [51.193, 4.4], [50.951, 4.89], [50.952, 4.89], [50.951, 4.89], [50.985, 4.762], [50.948, 4.889], [50.948, 4.889], [50.948, 4.889], [50.886, 4.67], [51.231, 4.404], [51.231, 4.404], [51.231, 4.404], [51.231, 4.404], [51.231, 4.404], [50.951, 4.89], [50.951, 4.89], [51.216, 4.394], [51.231, 4.404], [50.951, 4.89], [50.951, 4.89], [50.951, 4.89], [50.951, 4.89], [50.951, 4.89], [51.216, 4.394], [51.207, 4.393], [51.192, 4.403], [50.951, 4.89], [51.216, 4.394], [51.001, 4.647], [51.001, 4.647], [51.001, 4.647], [50.951, 4.89], [50.983, 4.516], [51.216, 4.394], [51.213, 4.392], [50.951, 4.89], [50.871, 4.494], [50.872, 4.491], [50.872, 4.492], [50.871, 4.492], [50.887, 4.67], [50.951, 4.89], [51.216, 4.394], [51.231, 4.404], [50.951, 4.89], [50.986, 4.569], [51.216, 4.394], [50.951, 4.89], [51.216, 4.394], [50.951, 4.89], [51.216, 4.394], [51.218, 4.396], [51.216, 4.394], [51.165, 4.415], [50.986, 4.412], [50.897, 4.685], [50.947, 4.776], [50.951, 4.89], [51.231, 4.404], [51.181, 4.37], [50.951, 4.89], [50.979, 4.86], [50.951, 4.89], [50.978, 4.63], [51.216, 4.394], [51.15, 4.429], [51.061, 4.442], [50.895, 4.687], [50.951, 4.89], [50.951, 4.89], [51.207, 4.395], [51.216, 4.394], [51.231, 4.404], [50.951, 4.89], [51.193, 4.409], [51.216, 4.394], [51.231, 4.404], [50.951, 4.89], [51.231, 4.404], [50.951, 4.89], [50.951, 4.89], [50.906, 4.87], [50.993, 4.53], [51.231, 4.404], [50.951, 4.89], [50.951, 4.89], [50.951, 4.89], [51.216, 4.394], [51.218, 4.405], [51.231, 4.404], [50.951, 4.89], [50.951, 4.89], [51.231, 4.404], [51.218, 4.404], [51.192, 4.406], [50.951, 4.89], [50.951, 4.89], [51.216, 4.394], [51.206, 4.392], [51.136, 4.428], [50.872, 4.727], [50.865, 4.739], [50.951, 4.89], [50.966, 4.836], [50.994, 4.604], [50.994, 4.531], [51.231, 4.404], [51.231, 4.408], [51.158, 4.384], [51.158, 4.387], [51.158, 4.387], [51.158, 4.387], [51.157, 4.385], [51.158, 4.386], [51.157, 4.387], [51.231, 4.404], [50.951, 4.89], [50.933, 4.858], [51.207, 4.388], [51.207, 4.387], [51.207, 4.388], [51.207, 4.382], [51.198, 4.371], [51.169, 4.387], [51.205, 4.391], [51.207, 4.388], [51.207, 4.387], [51.196, 4.391], [51.104, 4.434], [51.009, 4.606], [50.951, 4.89], [50.951, 4.89], [50.951, 4.89], [50.951, 4.89], [50.951, 4.89], [50.951, 4.89], [50.951, 4.89], [50.951, 4.89], [50.951, 4.89], [50.951, 4.89], [50.951, 4.89], [50.951, 4.89], [50.951, 4.89], [50.951, 4.89], [50.951, 4.89], [50.951, 4.89], [50.951, 4.89], [50.951, 4.89], [50.979, 4.86], [50.96, 4.903], [50.949, 4.928], [50.978, 4.492], [51.069, 4.446], [51.231, 4.404], [51.194, 4.398], [50.902, 4.641], [50.935, 4.856], [50.966, 4.837], [50.951, 4.89], [50.954, 4.839], [51.207, 4.387], [51.209, 4.387], [51.207, 4.386], [51.207, 4.387], [51.207, 4.387], [50.96, 4.587], [50.951, 4.89], [50.966, 4.836], [51.207, 4.387], [51.209, 4.387], [51.207, 4.387], [51.231, 4.404], [50.951, 4.89], [51.207, 4.387], [51.209, 4.387], [51.207, 4.386], [51.207, 4.387], [51.207, 4.387], [51.229, 4.404], [51.231, 4.404], [51.206, 4.392], [50.977, 4.491], [50.887, 4.709], [50.951, 4.89], [50.951, 4.89], [50.951, 4.89], [50.96, 4.815], [50.943, 4.839], [50.981, 4.513], [50.985, 4.543], [51.137, 4.43], [51.207, 4.387], [51.21, 4.39], [51.195, 4.396], [50.977, 4.491], [50.951, 4.89], [50.951, 4.89], [51.207, 4.387], [51.207, 4.387], [51.207, 4.387], [50.951, 4.89], [50.942, 4.874], [50.898, 4.683], [50.98, 4.554], [51.231, 4.404], [51.231, 4.404], [51.224, 4.399], [50.909, 4.713], [50.951, 4.89], [50.935, 4.863], [50.865, 4.739], [50.992, 4.529], [51.231, 4.404], [50.9, 4.681], [50.951, 4.89], [51.207, 4.387], [51.208, 4.389], [51.151, 4.428], [50.886, 4.709], [50.951, 4.89], [50.933, 4.859], [51.207, 4.387], [51.207, 4.387], [51.231, 4.405], [51.211, 4.391], [51.207, 4.387], [51.212, 4.392], [51.206, 4.392], [51.09, 4.44], [50.91, 4.669], [50.951, 4.89], [50.948, 4.839], [50.96, 4.6], [51.207, 4.387], [51.207, 4.387], [51.207, 4.387], [51.206, 4.387], [51.206, 4.392], [51.042, 4.39], [51.196, 4.389], [51.207, 4.387], [51.208, 4.387], [51.207, 4.387], [51.21, 4.389], [51.229, 4.403], [51.231, 4.404], [51.231, 4.404], [51.232, 4.402], [51.137, 4.428], [50.96, 4.587], [50.936, 4.624], [50.899, 4.684], [50.951, 4.89], [50.951, 4.89], [50.951, 4.89], [51.198, 4.393], [51.207, 4.387], [51.206, 4.392], [50.951, 4.89], [50.938, 4.866], [50.864, 4.747], [50.865, 4.739], [51.231, 4.404], [51.198, 4.416], [51.193, 4.408], [50.951, 4.89], [50.952, 4.889], [50.951, 4.89], [51.231, 4.404], [51.229, 4.403], [50.951, 4.89], [50.993, 4.53], [51.207, 4.387], [51.208, 4.387], [51.207, 4.387], [51.207, 4.387], [51.209, 4.389], [51.231, 4.404], [51.229, 4.403], [51.232, 4.402], [51.059, 4.45], [50.941, 4.61], [50.951, 4.89], [51.207, 4.387], [51.231, 4.404], [51.229, 4.403], [51.207, 4.383], [51.166, 4.414], [50.96, 4.587], [50.96, 4.586], [50.938, 4.753], [50.951, 4.89], [51.206, 4.382], [51.207, 4.387], [50.951, 4.89], [50.969, 4.694], [50.961, 4.602], [51.199, 4.39], [51.207, 4.387], [51.205, 4.392], [51.157, 4.387], [51.157, 4.384], [51.181, 4.39], [51.207, 4.387], [51.231, 4.404], [51.229, 4.403], [51.195, 4.382], [50.951, 4.89], [51.207, 4.387], [51.231, 4.404], [51.231, 4.404], [51.232, 4.404], [51.231, 4.404], [51.229, 4.403], [51.213, 4.391], [50.901, 4.679], [50.951, 4.89], [50.976, 4.916], [50.979, 4.86], [51.231, 4.404], [50.951, 4.89], [51.229, 4.403], [51.231, 4.404], [51.231, 4.404], [51.159, 4.384], [51.192, 4.403], [51.037, 4.428], [51.042, 4.39], [51.042, 4.39], [51.206, 4.381], [51.207, 4.387], [51.21, 4.39], [51.192, 4.399], [51.049, 4.454], [50.898, 4.683], [50.956, 4.805], [50.951, 4.89]],\n",
       "                {&quot;blur&quot;: 15, &quot;maxZoom&quot;: 18, &quot;minOpacity&quot;: 0.5, &quot;radius&quot;: 25}\n",
       "            ).addTo(map_56801e1f316d693a18bcca1267882324);\n",
       "        \n",
       "&lt;/script&gt;\n",
       "&lt;/html&gt;\" style=\"position:absolute;width:100%;height:100%;left:0;top:0;border:none !important;\" allowfullscreen webkitallowfullscreen mozallowfullscreen></iframe></div></div>"
      ],
      "text/plain": [
       "<folium.folium.Map at 0x7f29954a3c70>"
      ]
     },
     "execution_count": 57,
     "metadata": {},
     "output_type": "execute_result"
    }
   ],
   "source": [
    "# Create a base map\n",
    "m = folium.Map(location=[51.207, 4.387], zoom_start=13)\n",
    "\n",
    "# Extract locations from both dataframes\n",
    "locations_2 = person_2_df_updated[['latitude', 'longitude']].values.tolist()\n",
    "locations_3 = person_3_df_updated[['latitude', 'longitude']].values.tolist()\n",
    "\n",
    "# Combine the locations\n",
    "all_locations = locations_2 + locations_3\n",
    "\n",
    "# Create a heatmap\n",
    "HeatMap(all_locations).add_to(m)\n",
    "\n",
    "m"
   ]
  },
  {
   "cell_type": "code",
   "execution_count": 58,
   "metadata": {},
   "outputs": [],
   "source": [
    "# Here's a heatmap visualization of the locations visited by both Persons 2 and 3. The map displays areas with higher visit frequencies in more intense colors."
   ]
  },
  {
   "cell_type": "code",
   "execution_count": 63,
   "metadata": {},
   "outputs": [
    {
     "data": {
      "image/png": "[encoded data removed]",
      "text/plain": [
       "<Figure size 720x576 with 1 Axes>"
      ]
     },
     "metadata": {
      "needs_background": "light"
     },
     "output_type": "display_data"
    }
   ],
   "source": [
    "# Extract latitude and longitude values for each user\n",
    "lat_2, lon_2 = person_2_df_updated['latitude'].values, person_2_df_updated['longitude'].values\n",
    "lat_3, lon_3 = person_3_df_updated['latitude'].values, person_3_df_updated['longitude'].values\n",
    "\n",
    "# Plot the scatter plot with cross markers\n",
    "plt.figure(figsize=(10, 8))\n",
    "plt.scatter(lon_2, lat_2, c='blue', label='Person 2', alpha=0.5, s=50, marker='x')\n",
    "plt.scatter(lon_3, lat_3, c='red', label='Person 3', alpha=0.5, s=50, marker='x')\n",
    "plt.xlabel('Longitude')\n",
    "plt.ylabel('Latitude')\n",
    "plt.title('Locations Visited by Persons 2 and 3')\n",
    "plt.legend(loc='upper right')\n",
    "plt.grid(True)\n",
    "plt.show()"
   ]
  },
  {
   "cell_type": "code",
   "execution_count": 65,
   "metadata": {},
   "outputs": [
    {
     "data": {
      "image/png": "[encoded data removed]",
      "text/plain": [
       "<Figure size 1080x720 with 1 Axes>"
      ]
     },
     "metadata": {
      "needs_background": "light"
     },
     "output_type": "display_data"
    }
   ],
   "source": [
    "# Plot the time-series plot\n",
    "plt.figure(figsize=(15, 10))\n",
    "\n",
    "# Plot for Person 2\n",
    "plt.scatter(person_2_df_updated[timestamp_col], lat_2, c='blue', label='Person 2 Latitude', alpha=0.5, s=50, marker='x')\n",
    "plt.scatter(person_2_df_updated[timestamp_col], lon_2, c='cyan', label='Person 2 Longitude', alpha=0.5, s=50, marker='x')\n",
    "\n",
    "# Plot for Person 3\n",
    "plt.scatter(person_3_df_updated[timestamp_col], lat_3, c='red', label='Person 3 Latitude', alpha=0.5, s=50, marker='x')\n",
    "plt.scatter(person_3_df_updated[timestamp_col], lon_3, c='orange', label='Person 3 Longitude', alpha=0.5, s=50, marker='x')\n",
    "\n",
    "plt.xlabel('Time')\n",
    "plt.ylabel('Latitude / Longitude')\n",
    "plt.title('Time-Series of Locations Visited by Persons 2 and 3')\n",
    "plt.legend(loc='upper right')\n",
    "plt.grid(True)\n",
    "plt.xticks(rotation=45)\n",
    "plt.tight_layout()\n",
    "plt.show()\n"
   ]
  },
  {
   "cell_type": "markdown",
   "metadata": {},
   "source": [
    "### задание 1.2. Ввести метрику социальной активности - она должна учитывать количество мест, которое посетил пользователь, как далеко они друг от друга и как долго человек оставался там - метрика должна позволять сравнивать пользователей и находить наиболее активных"
   ]
  },
  {
   "cell_type": "code",
   "execution_count": 33,
   "metadata": {},
   "outputs": [],
   "source": [
    "def average_distance_between_places(df:pd.DataFrame) -> int:\n",
    "    \"\"\"Calculate the average distance between consecutive places visited by the user.\"\"\"\n",
    "    distances = []\n",
    "    for i in range(1, len(df)):\n",
    "        lat_lon_1 = (df.iloc[i-1]['latitude'], df.iloc[i-1]['longitude'])\n",
    "        lat_lon_2 = (df.iloc[i]['latitude'], df.iloc[i]['longitude'])\n",
    "        distances.append(geodesic(lat_lon_1, lat_lon_2).kilometers)\n",
    "    return sum(distances) / len(distances) if distances else 0\n"
   ]
  },
  {
   "cell_type": "markdown",
   "metadata": {},
   "source": [
    "To define a social activity metric, I'll consider the following factors:\n",
    "\n",
    "### Number of Places Visited (NPV):\n",
    "Represents the total number of unique places the person has visited.\n",
    "### Average Distance Between Places (ADBP):\n",
    "Represents the average distance between consecutive places visited by the user. This gives an indication of how far they travel between destinations.\n",
    "### Average Duration at Places (ADAP):\n",
    "Represents the average time spent at each location.\n",
    "### The Social Activity Metric (SAM) can be formulated as:\n",
    "\n",
    "SAM =\n",
    "NPV\n",
    "+\n",
    "ADBP\n",
    "+\n",
    "ADAP\n",
    "\n",
    "\n"
   ]
  },
  {
   "cell_type": "code",
   "execution_count": 34,
   "metadata": {},
   "outputs": [],
   "source": [
    "@timing_decorator\n",
    "def calculate_social_activity_metric_v1(dfs_dict: Dict[str, pd.DataFrame]) -> pd.DataFrame:\n",
    "    \"\"\"\n",
    "    Calculate the original social activity metric for each DataFrame in the provided dictionary, \n",
    "    but format the output as a DataFrame.\n",
    "    \n",
    "    Args:\n",
    "    - dfs_dict (Dict[str, pd.DataFrame]): Dictionary of DataFrames containing location data for different users.\n",
    "    \n",
    "    Returns:\n",
    "    - pd.DataFrame: DataFrame containing the calculated metrics for each user.\n",
    "    \"\"\"\n",
    "    metrics = []\n",
    "    for person_name, df in dfs_dict.items():\n",
    "        NPV = len(set(tuple(x) for x in df[['latitude', 'longitude']].values))\n",
    "        ADBP = average_distance_between_places(df)\n",
    "        ADAP = df['duration(ms)'].mean() / (1000 * 60)  # Convert from ms to minutes\n",
    "        SAM = NPV + ADBP + ADAP\n",
    "        metrics.append({\n",
    "            \"Person\": person_name,\n",
    "            \"NPV\": NPV,\n",
    "            \"ADBP\": ADBP,\n",
    "            \"ADAP\": ADAP,\n",
    "            \"SAM\": SAM\n",
    "        })\n",
    "    \n",
    "    return pd.DataFrame(metrics)"
   ]
  },
  {
   "cell_type": "code",
   "execution_count": 35,
   "metadata": {},
   "outputs": [
    {
     "name": "stdout",
     "output_type": "stream",
     "text": [
      "Execution time for calculate_social_activity_metric_v1: 1.12 seconds\n"
     ]
    },
    {
     "data": {
      "text/html": [
       "<div>\n",
       "<style scoped>\n",
       "    .dataframe tbody tr th:only-of-type {\n",
       "        vertical-align: middle;\n",
       "    }\n",
       "\n",
       "    .dataframe tbody tr th {\n",
       "        vertical-align: top;\n",
       "    }\n",
       "\n",
       "    .dataframe thead th {\n",
       "        text-align: right;\n",
       "    }\n",
       "</style>\n",
       "<table border=\"1\" class=\"dataframe\">\n",
       "  <thead>\n",
       "    <tr style=\"text-align: right;\">\n",
       "      <th></th>\n",
       "      <th>Person</th>\n",
       "      <th>NPV</th>\n",
       "      <th>ADBP</th>\n",
       "      <th>ADAP</th>\n",
       "      <th>SAM</th>\n",
       "    </tr>\n",
       "  </thead>\n",
       "  <tbody>\n",
       "    <tr>\n",
       "      <th>0</th>\n",
       "      <td>person_2_df_updated</td>\n",
       "      <td>297</td>\n",
       "      <td>3.462041</td>\n",
       "      <td>149.929435</td>\n",
       "      <td>450.391475</td>\n",
       "    </tr>\n",
       "    <tr>\n",
       "      <th>1</th>\n",
       "      <td>person_1_df_updated</td>\n",
       "      <td>237</td>\n",
       "      <td>34.677874</td>\n",
       "      <td>173.681145</td>\n",
       "      <td>445.359018</td>\n",
       "    </tr>\n",
       "    <tr>\n",
       "      <th>2</th>\n",
       "      <td>person_3_df_updated</td>\n",
       "      <td>145</td>\n",
       "      <td>13.252757</td>\n",
       "      <td>156.538376</td>\n",
       "      <td>314.791133</td>\n",
       "    </tr>\n",
       "  </tbody>\n",
       "</table>\n",
       "</div>"
      ],
      "text/plain": [
       "                Person  NPV       ADBP        ADAP         SAM\n",
       "0  person_2_df_updated  297   3.462041  149.929435  450.391475\n",
       "1  person_1_df_updated  237  34.677874  173.681145  445.359018\n",
       "2  person_3_df_updated  145  13.252757  156.538376  314.791133"
      ]
     },
     "execution_count": 35,
     "metadata": {},
     "output_type": "execute_result"
    }
   ],
   "source": [
    "# Order the DataFrame by SAM from highest to lowest and return the result\n",
    "social_activity_metric_v1 = calculate_social_activity_metric_v1(dataframes_dict)\n",
    "social_activity_metric_v1 = social_activity_metric_v1.sort_values(by='SAM', ascending=False).reset_index(drop=True)\n",
    "social_activity_metric_v1\n"
   ]
  },
  {
   "cell_type": "markdown",
   "metadata": {},
   "source": [
    "Person 2 appears to be the most socially active, with the highest SAM value of 450.39.\n",
    "Person 1 follows closely behind with a SAM value of 445.36.\n",
    "Person 3 has the lowest SAM value of 314.79."
   ]
  },
  {
   "cell_type": "markdown",
   "metadata": {},
   "source": [
    "# SAM\n",
    "$ SAM = NPV × f(ADBP, ADAP) $\n",
    "\n",
    "## Where:\n",
    "$ f(ADBP, ADAP) $ is a function that gives the average weight of a place using the Average Distance Between Places (ADBP) and the Average Duration at Places (ADAP).\n",
    "\n",
    "## Definition of f:\n",
    "One possible definition of f is the harmonic mean of ADBP and ADAP:\n",
    "$$ f(ADBP, ADAP) = \\frac{2 × ADBP × ADAP}{ADBP + ADAP} $$\n",
    "\n",
    "The harmonic mean gives a balanced weight to both ADBP and ADAP. If one of them is very small while the other is large, the harmonic mean will be closer to the smaller value. This ensures that both the distance between places and the duration at places have an influential role in determining the weight of a place.\n"
   ]
  },
  {
   "cell_type": "code",
   "execution_count": 37,
   "metadata": {},
   "outputs": [],
   "source": [
    "def harmonic_mean(x: float, y: float) -> float:\n",
    "    \"\"\"Calculate the harmonic mean of two numbers.\"\"\"\n",
    "    if x == 0 or y == 0:\n",
    "        return 0\n",
    "    return (2 * x * y) / (x + y)"
   ]
  },
  {
   "cell_type": "code",
   "execution_count": 38,
   "metadata": {},
   "outputs": [],
   "source": [
    "@timing_decorator\n",
    "def calculate_social_activity_metric_v2(dfs_dict: Dict[str, pd.DataFrame]) -> pd.DataFrame:\n",
    "    \"\"\"\n",
    "    Calculate the updated social activity metric for each DataFrame in the provided dictionary.\n",
    "    \n",
    "    Args:\n",
    "    - dfs_dict (Dict[str, pd.DataFrame]): Dictionary of DataFrames containing location data for different users.\n",
    "    \n",
    "    Returns:\n",
    "    - pd.DataFrame: DataFrame containing the calculated metrics for each user.\n",
    "    \"\"\"\n",
    "    metrics = []\n",
    "    for person_name, df in dfs_dict.items():\n",
    "        NPV = len(set(tuple(x) for x in df[['latitude', 'longitude']].values))\n",
    "        ADBP = average_distance_between_places(df)\n",
    "        ADAP = df['duration(ms)'].mean() / (1000 * 60)  # Convert from ms to minutes\n",
    "        weight = harmonic_mean(ADBP, ADAP)\n",
    "        SAM = NPV * weight\n",
    "        metrics.append({\n",
    "            \"Person\": person_name,\n",
    "            \"NPV\": NPV,\n",
    "            \"ADBP\": ADBP,\n",
    "            \"ADAP\": ADAP,\n",
    "            \"Weight\": weight,\n",
    "            \"SAM\": SAM\n",
    "        })\n",
    "    \n",
    "    return pd.DataFrame(metrics)\n"
   ]
  },
  {
   "cell_type": "code",
   "execution_count": 39,
   "metadata": {},
   "outputs": [
    {
     "name": "stdout",
     "output_type": "stream",
     "text": [
      "Execution time for calculate_social_activity_metric_v2: 1.10 seconds\n"
     ]
    },
    {
     "data": {
      "text/html": [
       "<div>\n",
       "<style scoped>\n",
       "    .dataframe tbody tr th:only-of-type {\n",
       "        vertical-align: middle;\n",
       "    }\n",
       "\n",
       "    .dataframe tbody tr th {\n",
       "        vertical-align: top;\n",
       "    }\n",
       "\n",
       "    .dataframe thead th {\n",
       "        text-align: right;\n",
       "    }\n",
       "</style>\n",
       "<table border=\"1\" class=\"dataframe\">\n",
       "  <thead>\n",
       "    <tr style=\"text-align: right;\">\n",
       "      <th></th>\n",
       "      <th>Person</th>\n",
       "      <th>NPV</th>\n",
       "      <th>ADBP</th>\n",
       "      <th>ADAP</th>\n",
       "      <th>Weight</th>\n",
       "      <th>SAM</th>\n",
       "    </tr>\n",
       "  </thead>\n",
       "  <tbody>\n",
       "    <tr>\n",
       "      <th>0</th>\n",
       "      <td>person_1_df_updated</td>\n",
       "      <td>237</td>\n",
       "      <td>34.677874</td>\n",
       "      <td>173.681145</td>\n",
       "      <td>57.812643</td>\n",
       "      <td>13701.596454</td>\n",
       "    </tr>\n",
       "    <tr>\n",
       "      <th>1</th>\n",
       "      <td>person_3_df_updated</td>\n",
       "      <td>145</td>\n",
       "      <td>13.252757</td>\n",
       "      <td>156.538376</td>\n",
       "      <td>24.436672</td>\n",
       "      <td>3543.317380</td>\n",
       "    </tr>\n",
       "    <tr>\n",
       "      <th>2</th>\n",
       "      <td>person_2_df_updated</td>\n",
       "      <td>297</td>\n",
       "      <td>3.462041</td>\n",
       "      <td>149.929435</td>\n",
       "      <td>6.767805</td>\n",
       "      <td>2010.038095</td>\n",
       "    </tr>\n",
       "  </tbody>\n",
       "</table>\n",
       "</div>"
      ],
      "text/plain": [
       "                Person  NPV       ADBP        ADAP     Weight           SAM\n",
       "0  person_1_df_updated  237  34.677874  173.681145  57.812643  13701.596454\n",
       "1  person_3_df_updated  145  13.252757  156.538376  24.436672   3543.317380\n",
       "2  person_2_df_updated  297   3.462041  149.929435   6.767805   2010.038095"
      ]
     },
     "execution_count": 39,
     "metadata": {},
     "output_type": "execute_result"
    }
   ],
   "source": [
    "social_activity_metric_v2 = calculate_social_activity_metric_v2(dataframes_dict)\n",
    "social_activity_metric_v2 = social_activity_metric_v2.sort_values(by='SAM', ascending=False).reset_index(drop=True)\n",
    "social_activity_metric_v2"
   ]
  },
  {
   "cell_type": "code",
   "execution_count": 41,
   "metadata": {},
   "outputs": [
    {
     "data": {
      "text/html": [
       "<div>\n",
       "<style scoped>\n",
       "    .dataframe tbody tr th:only-of-type {\n",
       "        vertical-align: middle;\n",
       "    }\n",
       "\n",
       "    .dataframe tbody tr th {\n",
       "        vertical-align: top;\n",
       "    }\n",
       "\n",
       "    .dataframe thead th {\n",
       "        text-align: right;\n",
       "    }\n",
       "</style>\n",
       "<table border=\"1\" class=\"dataframe\">\n",
       "  <thead>\n",
       "    <tr style=\"text-align: right;\">\n",
       "      <th></th>\n",
       "      <th>latitude</th>\n",
       "      <th>longitude</th>\n",
       "      <th>start_time(YYYYMMddHHmmZ)</th>\n",
       "      <th>duration(ms)</th>\n",
       "      <th>person_id</th>\n",
       "      <th>start_time</th>\n",
       "      <th>end_time</th>\n",
       "      <th>key</th>\n",
       "      <th>day_of_week</th>\n",
       "      <th>hour_of_day</th>\n",
       "    </tr>\n",
       "  </thead>\n",
       "  <tbody>\n",
       "    <tr>\n",
       "      <th>0</th>\n",
       "      <td>-49.327</td>\n",
       "      <td>-72.891</td>\n",
       "      <td>2013-12-25 11:47:00-03:00</td>\n",
       "      <td>1186491</td>\n",
       "      <td>1</td>\n",
       "      <td>2013-12-25 11:47:00-03:00</td>\n",
       "      <td>2013-12-25 12:06:46.491000-03:00</td>\n",
       "      <td>1</td>\n",
       "      <td>2.0</td>\n",
       "      <td>11.0</td>\n",
       "    </tr>\n",
       "    <tr>\n",
       "      <th>1</th>\n",
       "      <td>-49.327</td>\n",
       "      <td>-72.891</td>\n",
       "      <td>2013-12-25 12:13:00-03:00</td>\n",
       "      <td>4393711</td>\n",
       "      <td>1</td>\n",
       "      <td>2013-12-25 12:13:00-03:00</td>\n",
       "      <td>2013-12-25 13:26:13.711000-03:00</td>\n",
       "      <td>1</td>\n",
       "      <td>2.0</td>\n",
       "      <td>12.0</td>\n",
       "    </tr>\n",
       "    <tr>\n",
       "      <th>2</th>\n",
       "      <td>-49.317</td>\n",
       "      <td>-72.899</td>\n",
       "      <td>2013-12-25 13:58:00-03:00</td>\n",
       "      <td>842939</td>\n",
       "      <td>1</td>\n",
       "      <td>2013-12-25 13:58:00-03:00</td>\n",
       "      <td>2013-12-25 14:12:02.939000-03:00</td>\n",
       "      <td>1</td>\n",
       "      <td>2.0</td>\n",
       "      <td>13.0</td>\n",
       "    </tr>\n",
       "    <tr>\n",
       "      <th>3</th>\n",
       "      <td>-49.327</td>\n",
       "      <td>-72.891</td>\n",
       "      <td>2013-12-25 14:40:00-03:00</td>\n",
       "      <td>211887</td>\n",
       "      <td>1</td>\n",
       "      <td>2013-12-25 14:40:00-03:00</td>\n",
       "      <td>2013-12-25 14:43:31.887000-03:00</td>\n",
       "      <td>1</td>\n",
       "      <td>2.0</td>\n",
       "      <td>14.0</td>\n",
       "    </tr>\n",
       "    <tr>\n",
       "      <th>4</th>\n",
       "      <td>-49.327</td>\n",
       "      <td>-72.891</td>\n",
       "      <td>2013-12-25 16:31:00-03:00</td>\n",
       "      <td>71166228</td>\n",
       "      <td>1</td>\n",
       "      <td>2013-12-25 16:31:00-03:00</td>\n",
       "      <td>2013-12-26 12:17:06.228000-03:00</td>\n",
       "      <td>1</td>\n",
       "      <td>2.0</td>\n",
       "      <td>16.0</td>\n",
       "    </tr>\n",
       "  </tbody>\n",
       "</table>\n",
       "</div>"
      ],
      "text/plain": [
       "   latitude  longitude start_time(YYYYMMddHHmmZ)  duration(ms)  person_id   \n",
       "0   -49.327    -72.891 2013-12-25 11:47:00-03:00       1186491          1  \\\n",
       "1   -49.327    -72.891 2013-12-25 12:13:00-03:00       4393711          1   \n",
       "2   -49.317    -72.899 2013-12-25 13:58:00-03:00        842939          1   \n",
       "3   -49.327    -72.891 2013-12-25 14:40:00-03:00        211887          1   \n",
       "4   -49.327    -72.891 2013-12-25 16:31:00-03:00      71166228          1   \n",
       "\n",
       "                  start_time                          end_time  key   \n",
       "0  2013-12-25 11:47:00-03:00  2013-12-25 12:06:46.491000-03:00    1  \\\n",
       "1  2013-12-25 12:13:00-03:00  2013-12-25 13:26:13.711000-03:00    1   \n",
       "2  2013-12-25 13:58:00-03:00  2013-12-25 14:12:02.939000-03:00    1   \n",
       "3  2013-12-25 14:40:00-03:00  2013-12-25 14:43:31.887000-03:00    1   \n",
       "4  2013-12-25 16:31:00-03:00  2013-12-26 12:17:06.228000-03:00    1   \n",
       "\n",
       "   day_of_week  hour_of_day  \n",
       "0          2.0         11.0  \n",
       "1          2.0         12.0  \n",
       "2          2.0         13.0  \n",
       "3          2.0         14.0  \n",
       "4          2.0         16.0  "
      ]
     },
     "execution_count": 41,
     "metadata": {},
     "output_type": "execute_result"
    }
   ],
   "source": [
    "# Extract day of the week and hour of the day separately and then join them\n",
    "\n",
    "def extract_temporal_features(df: pd.DataFrame) -> pd.DataFrame:\n",
    "    timestamp_col = 'start_time(YYYYMMddHHmmZ)'\n",
    "    df[timestamp_col] = pd.to_datetime(df[timestamp_col], errors='coerce')\n",
    "    day_of_week = df[timestamp_col].dt.dayofweek\n",
    "    hour_of_day = df[timestamp_col].dt.hour\n",
    "    df_temp = df.copy()\n",
    "    df_temp['day_of_week'] = day_of_week\n",
    "    df_temp['hour_of_day'] = hour_of_day\n",
    "    return df_temp\n",
    "\n",
    "# Apply the function to the dataframes\n",
    "person_1_temporal = extract_temporal_features(dataframes_dict['person_1_df_updated'])\n",
    "\n",
    "\n",
    "# Display the results\n",
    "person_1_temporal.head()\n"
   ]
  },
  {
   "cell_type": "markdown",
   "metadata": {},
   "source": [
    "## Plotting\n",
    "### By day of the week"
   ]
  },
  {
   "cell_type": "code",
   "execution_count": 42,
   "metadata": {},
   "outputs": [
    {
     "data": {
      "image/png": "[encoded data removed]",
      "text/plain": [
       "<Figure size 720x432 with 1 Axes>"
      ]
     },
     "metadata": {
      "needs_background": "light"
     },
     "output_type": "display_data"
    }
   ],
   "source": [
    "# Activity Distribution by Day of the Week for person_1\n",
    "days = ['Monday', 'Tuesday', 'Wednesday', 'Thursday', 'Friday', 'Saturday', 'Sunday']\n",
    "daywise_counts = person_1_temporal['day_of_week'].value_counts().sort_index()\n",
    "daywise_counts.index = days\n",
    "\n",
    "# Plotting\n",
    "plt.figure(figsize=(10, 6))\n",
    "sns.barplot(x=daywise_counts.index, y=daywise_counts.values, palette=\"viridis\")\n",
    "plt.title('Activity Distribution by Day of the Week for Person 1')\n",
    "plt.ylabel('Number of Activities')\n",
    "plt.xlabel('Day of the Week')\n",
    "plt.xticks(rotation=45)\n",
    "plt.tight_layout()\n",
    "plt.show()\n"
   ]
  },
  {
   "cell_type": "code",
   "execution_count": 43,
   "metadata": {},
   "outputs": [
    {
     "data": {
      "image/png": "[encoded data removed]",
      "text/plain": [
       "<Figure size 720x432 with 1 Axes>"
      ]
     },
     "metadata": {
      "needs_background": "light"
     },
     "output_type": "display_data"
    }
   ],
   "source": [
    "plt.figure(figsize=(10, 6))\n",
    "daywise_counts.plot(kind='bar', color='skyblue')\n",
    "plt.title('Activity Distribution by Day of the Week for Person 1')\n",
    "plt.ylabel('Number of Activities')\n",
    "plt.xlabel('Day of the Week')\n",
    "plt.xticks(rotation=45)\n",
    "plt.tight_layout()\n",
    "plt.grid(axis='y')\n",
    "plt.show()\n"
   ]
  },
  {
   "cell_type": "code",
   "execution_count": 44,
   "metadata": {},
   "outputs": [],
   "source": [
    "def extract_temporal_features(df: pd.DataFrame) -> pd.DataFrame:\n",
    "    \"\"\"\n",
    "    Extracts day of the week and hour of the day from the timestamp column of the dataframe.\n",
    "    \n",
    "    Args:\n",
    "    - df (pd.DataFrame): DataFrame containing the location data with timestamp.\n",
    "    \n",
    "    Returns:\n",
    "    - pd.DataFrame: DataFrame with additional columns for day of the week and hour of the day.\n",
    "    \"\"\"\n",
    "    timestamp_col = 'start_time(YYYYMMddHHmmZ)'\n",
    "    df[timestamp_col] = pd.to_datetime(df[timestamp_col], errors='coerce')\n",
    "    df['day_of_week'] = df[timestamp_col].dt.dayofweek\n",
    "    df['hour_of_day'] = df[timestamp_col].dt.hour\n",
    "    return df"
   ]
  },
  {
   "cell_type": "code",
   "execution_count": 45,
   "metadata": {},
   "outputs": [],
   "source": [
    "# Test the functions for person 1\n",
    "person_1_temporal = extract_temporal_features(dataframes_dict['person_1_df_updated'])\n",
    "person_2_temporal = extract_temporal_features(dataframes_dict['person_2_df_updated'])\n",
    "person_3_temporal = extract_temporal_features(dataframes_dict['person_3_df_updated'])"
   ]
  },
  {
   "cell_type": "code",
   "execution_count": 46,
   "metadata": {},
   "outputs": [],
   "source": [
    "def plot_daywise_activity_with_mean(df: pd.DataFrame, person_name: str) -> None:\n",
    "    \"\"\"\n",
    "    Plot the activity distribution by day of the week for the given dataframe.\n",
    "    \n",
    "    Args:\n",
    "    - df (pd.DataFrame): DataFrame containing the location data.\n",
    "    - person_name (str): Name of the person (for title purposes).\n",
    "    \n",
    "    Returns:\n",
    "    - None: Displays the plot.\n",
    "    \"\"\"\n",
    "    # Count the number of records for each day of the week\n",
    "    daywise_counts = df['day_of_week'].value_counts().sort_index()\n",
    "    \n",
    "    # Calculate the mean interactions per day\n",
    "    mean_interaction_per_day = daywise_counts.mean()\n",
    "    \n",
    "    # Plot\n",
    "    plt.figure(figsize=(10, 6))\n",
    "    daywise_counts.plot(kind='bar', color='skyblue', label='Interactions per Day')\n",
    "    plt.axhline(y=mean_interaction_per_day, color='r', linestyle='-', label=f'Mean Interactions per Day: {mean_interaction_per_day:.2f}')\n",
    "    plt.title(f'Activity Distribution by Day of the Week for {person_name}')\n",
    "    plt.ylabel('Number of Activities')\n",
    "    plt.xlabel('Day of the Week')\n",
    "    plt.xticks(ticks=range(7), labels=['Monday', 'Tuesday', 'Wednesday', 'Thursday', 'Friday', 'Saturday', 'Sunday'], rotation=45)\n",
    "    plt.tight_layout()\n",
    "    plt.grid(axis='y')\n",
    "    plt.legend()\n",
    "    plt.show()\n",
    "\n"
   ]
  },
  {
   "cell_type": "code",
   "execution_count": 47,
   "metadata": {},
   "outputs": [
    {
     "data": {
      "image/png": "[encoded data removed]",
      "text/plain": [
       "<Figure size 720x432 with 1 Axes>"
      ]
     },
     "metadata": {
      "needs_background": "light"
     },
     "output_type": "display_data"
    }
   ],
   "source": [
    "# Test the function\n",
    "plot_daywise_activity_with_mean(person_1_temporal, 'Person 1')"
   ]
  },
  {
   "cell_type": "code",
   "execution_count": 48,
   "metadata": {},
   "outputs": [
    {
     "data": {
      "image/png": "[encoded data removed]",
      "text/plain": [
       "<Figure size 720x432 with 1 Axes>"
      ]
     },
     "metadata": {
      "needs_background": "light"
     },
     "output_type": "display_data"
    }
   ],
   "source": [
    "\n",
    "# Test the function\n",
    "plot_daywise_activity_with_mean(person_2_temporal, 'Person 2')"
   ]
  },
  {
   "cell_type": "code",
   "execution_count": 49,
   "metadata": {},
   "outputs": [
    {
     "data": {
      "image/png": "[encoded data removed]",
      "text/plain": [
       "<Figure size 720x432 with 1 Axes>"
      ]
     },
     "metadata": {
      "needs_background": "light"
     },
     "output_type": "display_data"
    }
   ],
   "source": [
    "\n",
    "# Test the function\n",
    "plot_daywise_activity_with_mean(person_3_temporal, 'Person 3')"
   ]
  },
  {
   "cell_type": "markdown",
   "metadata": {},
   "source": [
    "### By time of the day"
   ]
  },
  {
   "cell_type": "code",
   "execution_count": 52,
   "metadata": {},
   "outputs": [
    {
     "data": {
      "image/png": "[encoded data removed]",
      "text/plain": [
       "<Figure size 864x432 with 1 Axes>"
      ]
     },
     "metadata": {
      "needs_background": "light"
     },
     "output_type": "display_data"
    }
   ],
   "source": [
    "def categorize_time_of_day(hour: int) -> str:\n",
    "    \"\"\"\n",
    "    Categorize the hour into different parts of the day.\n",
    "    \"\"\"\n",
    "    if 4 <= hour < 7:\n",
    "        return \"Early Morning\"\n",
    "    elif 7 <= hour < 10:\n",
    "        return \"Morning\"\n",
    "    elif 10 <= hour < 12:\n",
    "        return \"Late Morning\"\n",
    "    elif 12 <= hour < 14:\n",
    "        return \"Lunch\"\n",
    "    elif 14 <= hour < 17:\n",
    "        return \"Afternoon\"\n",
    "    elif 17 <= hour < 20:\n",
    "        return \"Evening\"\n",
    "    elif 20 <= hour < 22:\n",
    "        return \"Late Evening\"\n",
    "    elif 22 <= hour < 24:\n",
    "        return \"Night\"\n",
    "    else:\n",
    "        return \"Late Night\"\n",
    "\n",
    "# Apply the categorization function to the temporal dataframe\n",
    "person_1_temporal['part_of_day'] = person_1_temporal['hour_of_day'].apply(categorize_time_of_day)\n",
    "\n",
    "# Plotting the distribution\n",
    "plt.figure(figsize=(12, 6))\n",
    "person_1_temporal['part_of_day'].value_counts().reindex([\n",
    "    \"Early Morning\", \"Morning\", \"Late Morning\", \"Lunch\", \"Afternoon\", \n",
    "    \"Evening\", \"Late Evening\", \"Night\", \"Late Night\"\n",
    "]).plot(kind='bar', color='salmon')\n",
    "plt.title('Activity Distribution by Part of the Day for Person 1')\n",
    "plt.ylabel('Number of Activities')\n",
    "plt.xlabel('Part of the Day')\n",
    "plt.xticks(rotation=45)\n",
    "plt.tight_layout()\n",
    "plt.grid(axis='y')\n",
    "plt.show()\n"
   ]
  },
  {
   "cell_type": "code",
   "execution_count": 53,
   "metadata": {},
   "outputs": [],
   "source": [
    "def extract_part_of_day_features(df: pd.DataFrame) -> pd.DataFrame:\n",
    "    \"\"\"\n",
    "    Extract the part of the day (early morning, morning, ... etc.) from the timestamp.\n",
    "    \n",
    "    Args:\n",
    "    - df (pd.DataFrame): Input dataframe with timestamp data.\n",
    "    \n",
    "    Returns:\n",
    "    - pd.DataFrame: DataFrame with an additional 'part_of_day' column.\n",
    "    \"\"\"\n",
    "    timestamp_col = 'start_time(YYYYMMddHHmmZ)'\n",
    "    df[timestamp_col] = pd.to_datetime(df[timestamp_col], errors='coerce')\n",
    "    hour_of_day = df[timestamp_col].dt.hour\n",
    "    conditions = [\n",
    "        (hour_of_day >= 0) & (hour_of_day < 6),\n",
    "        (hour_of_day >= 6) & (hour_of_day < 9),\n",
    "        (hour_of_day >= 9) & (hour_of_day < 12),\n",
    "        (hour_of_day >= 12) & (hour_of_day < 14),\n",
    "        (hour_of_day >= 14) & (hour_of_day < 17),\n",
    "        (hour_of_day >= 17) & (hour_of_day < 20),\n",
    "        (hour_of_day >= 20) & (hour_of_day <= 23)\n",
    "    ]\n",
    "    choices = ['Early Morning', 'Morning', 'Late Morning', 'Lunch', 'Afternoon', 'Evening', 'Night']\n",
    "    df['part_of_day'] = np.select(conditions, choices, default='Unknown')\n",
    "    return df\n",
    "\n",
    "def plot_activity_by_part_of_day(df: pd.DataFrame, person_name: str):\n",
    "    \"\"\"\n",
    "    Generate a bar plot showing activity distribution for different parts of the day.\n",
    "    \n",
    "    Args:\n",
    "    - df (pd.DataFrame): DataFrame with 'part_of_day' column.\n",
    "    - person_name (str): Name of the person for which the plot is generated.\n",
    "    \"\"\"\n",
    "    plt.figure(figsize=(12, 6))\n",
    "    df['part_of_day'].value_counts().reindex([\n",
    "        'Early Morning', 'Morning', 'Late Morning', 'Lunch', 'Afternoon', 'Evening', 'Night'\n",
    "    ]).plot(kind='bar', color='skyblue')\n",
    "    plt.title(f'Activity Distribution by Part of the Day for {person_name}')\n",
    "    plt.ylabel('Number of Activities')\n",
    "    plt.xlabel('Part of the Day')\n",
    "    plt.xticks(rotation=45)\n",
    "    plt.tight_layout()\n",
    "    plt.grid(axis='y')\n",
    "    plt.show()"
   ]
  },
  {
   "cell_type": "code",
   "execution_count": 54,
   "metadata": {},
   "outputs": [
    {
     "data": {
      "image/png": "[encoded data removed]",
      "text/plain": [
       "<Figure size 864x432 with 1 Axes>"
      ]
     },
     "metadata": {
      "needs_background": "light"
     },
     "output_type": "display_data"
    }
   ],
   "source": [
    "# Test the functions\n",
    "person_1_part_of_day = extract_part_of_day_features(dataframes_dict['person_1_df_updated'])\n",
    "plot_activity_by_part_of_day(person_1_part_of_day, 'Person 1')\n"
   ]
  },
  {
   "cell_type": "code",
   "execution_count": 55,
   "metadata": {},
   "outputs": [
    {
     "data": {
      "image/png": "[encoded data removed]",
      "text/plain": [
       "<Figure size 864x432 with 1 Axes>"
      ]
     },
     "metadata": {
      "needs_background": "light"
     },
     "output_type": "display_data"
    }
   ],
   "source": [
    "# Test the functions\n",
    "person_2_part_of_day = extract_part_of_day_features(dataframes_dict['person_2_df_updated'])\n",
    "plot_activity_by_part_of_day(person_2_part_of_day, 'Person 2')\n"
   ]
  },
  {
   "cell_type": "code",
   "execution_count": 56,
   "metadata": {},
   "outputs": [
    {
     "data": {
      "image/png": "[encoded data removed]",
      "text/plain": [
       "<Figure size 864x432 with 1 Axes>"
      ]
     },
     "metadata": {
      "needs_background": "light"
     },
     "output_type": "display_data"
    }
   ],
   "source": [
    "# Test the functions\n",
    "person_3_part_of_day = extract_part_of_day_features(dataframes_dict['person_3_df_updated'])\n",
    "plot_activity_by_part_of_day(person_3_part_of_day, 'Person 2')\n"
   ]
  },
  {
   "cell_type": "markdown",
   "metadata": {},
   "source": [
    "## Another option to calculate sam using day specification"
   ]
  },
  {
   "cell_type": "code",
   "execution_count": 57,
   "metadata": {},
   "outputs": [],
   "source": [
    "PARTS_OF_DAY = {\n",
    "    \"Early Morning\": (0, 6, 0.5),\n",
    "    \"Morning\": (6, 12, 1),\n",
    "    \"Afternoon\": (12, 17, 1.5),\n",
    "    \"Evening\": (17, 21, 2),\n",
    "    \"Night\": (21, 24, 1)\n",
    "}\n"
   ]
  },
  {
   "cell_type": "code",
   "execution_count": 58,
   "metadata": {},
   "outputs": [
    {
     "data": {
      "text/plain": [
       "{'person_1_df_updated': 4.6875,\n",
       " 'person_2_df_updated': 25.90476190476191,\n",
       " 'person_3_df_updated': 11.904761904761905}"
      ]
     },
     "execution_count": 58,
     "metadata": {},
     "output_type": "execute_result"
    }
   ],
   "source": [
    "def calculate_weighted_sam(df: pd.DataFrame) -> float:\n",
    "    \"\"\"\n",
    "    Calculate the Social Activity Metric (SAM) based on the weighted importance of different parts of the day.\n",
    "    \n",
    "    Args:\n",
    "    - df (pd.DataFrame): DataFrame containing the temporal features of a user's activities.\n",
    "    \n",
    "    Returns:\n",
    "    - float: Weighted SAM for the user.\n",
    "    \"\"\"\n",
    "    weighted_sam = 0\n",
    "    total_weight = sum([weight for _, _, weight in PARTS_OF_DAY.values()])\n",
    "    \n",
    "    for part, (start_hour, end_hour, weight) in PARTS_OF_DAY.items():\n",
    "        part_df = df[(df['hour_of_day'] >= start_hour) & (df['hour_of_day'] < end_hour)]\n",
    "        average_activities = part_df.shape[0] / len(df['day_of_week'].unique())\n",
    "        weighted_sam += average_activities * weight\n",
    "    \n",
    "    return weighted_sam / total_weight\n",
    "\n",
    "# Calculate the weighted SAM for each user and store the results in a dictionary\n",
    "weighted_sam_dict = {}\n",
    "for person, df in processed_dataframes.items():\n",
    "    weighted_sam_dict[person] = calculate_weighted_sam(df)\n",
    "\n",
    "weighted_sam_dict\n"
   ]
  },
  {
   "cell_type": "code",
   "execution_count": 59,
   "metadata": {},
   "outputs": [],
   "source": [
    "'person_2 >> person_3 >> person_1';"
   ]
  },
  {
   "cell_type": "code",
   "execution_count": 60,
   "metadata": {},
   "outputs": [],
   "source": [
    "def weighted_adap(df: pd.DataFrame, weights: dict) -> float:\n",
    "    \"\"\"\n",
    "    Compute the weighted Average Duration At Places (ADAP) based on parts of the day.\n",
    "    \n",
    "    Args:\n",
    "    - df (pd.DataFrame): DataFrame containing user data with 'hour_of_day' and 'duration(ms)' columns.\n",
    "    - weights (dict): A dictionary mapping parts of the day to their weights.\n",
    "    \n",
    "    Returns:\n",
    "    - float: The weighted ADAP.\n",
    "    \"\"\"\n",
    "    total_weighted_duration = 0\n",
    "    total_weight = 0\n",
    "    \n",
    "    for part, (start, end) in PARTS_OF_DAY.items():\n",
    "        mask = (df['hour_of_day'] >= start) & (df['hour_of_day'] < end)\n",
    "        segment_duration = df[mask]['duration(ms)'].sum() / (1000 * 60)  # Convert to minutes\n",
    "        total_weighted_duration += segment_duration * weights[part]\n",
    "        total_weight += weights[part]\n",
    "    \n",
    "    return total_weighted_duration / total_weight\n"
   ]
  },
  {
   "cell_type": "code",
   "execution_count": 61,
   "metadata": {},
   "outputs": [],
   "source": [
    "def calculate_social_activity_metric_weighted(df: pd.DataFrame, weights: dict) -> dict:\n",
    "    \"\"\"\n",
    "    Calculate the Social Activity Metric (SAM) with weighted ADAP.\n",
    "    \n",
    "    Args:\n",
    "    - df (pd.DataFrame): DataFrame containing user data.\n",
    "    - weights (dict): A dictionary mapping parts of the day to their weights.\n",
    "    \n",
    "    Returns:\n",
    "    - dict: A dictionary containing NPV, ADBP, weighted ADAP, and SAM values.\n",
    "    \"\"\"\n",
    "    NPV = len(set(tuple(x) for x in df[['latitude', 'longitude']].values))\n",
    "    ADBP = average_distance_between_places(df)\n",
    "    ADAP_weighted = weighted_adap(df, weights)\n",
    "    SAM = NPV + ADBP + ADAP_weighted\n",
    "    \n",
    "    return {\n",
    "        \"NPV\": NPV,\n",
    "        \"ADBP\": ADBP,\n",
    "        \"Weighted ADAP\": ADAP_weighted,\n",
    "        \"SAM\": SAM\n",
    "    }\n"
   ]
  },
  {
   "cell_type": "code",
   "execution_count": 62,
   "metadata": {},
   "outputs": [],
   "source": [
    "PARTS_OF_DAY = {\n",
    "    'early_morning': (0, 6),\n",
    "    'morning': (6, 12),\n",
    "    'afternoon': (12, 17),\n",
    "    'evening': (17, 21),\n",
    "    'night': (21, 24)\n",
    "}\n",
    "\n",
    "WEIGHTS = {\n",
    "    'early_morning': 0.5,\n",
    "    'morning': 1,\n",
    "    'afternoon': 1.5,\n",
    "    'evening': 2,\n",
    "    'night': 0.5\n",
    "}\n"
   ]
  },
  {
   "cell_type": "code",
   "execution_count": 63,
   "metadata": {},
   "outputs": [],
   "source": [
    "modified_sam_values = {}\n",
    "\n",
    "for person, df in processed_dataframes.items():\n",
    "    metrics = calculate_social_activity_metric_weighted(df, WEIGHTS)\n",
    "    modified_sam_values[person] = metrics\n",
    "\n",
    "# Convert results to a DataFrame for better visualization\n",
    "modified_sam_df = pd.DataFrame(modified_sam_values).T\n"
   ]
  },
  {
   "cell_type": "code",
   "execution_count": 64,
   "metadata": {},
   "outputs": [
    {
     "data": {
      "text/html": [
       "<div>\n",
       "<style scoped>\n",
       "    .dataframe tbody tr th:only-of-type {\n",
       "        vertical-align: middle;\n",
       "    }\n",
       "\n",
       "    .dataframe tbody tr th {\n",
       "        vertical-align: top;\n",
       "    }\n",
       "\n",
       "    .dataframe thead th {\n",
       "        text-align: right;\n",
       "    }\n",
       "</style>\n",
       "<table border=\"1\" class=\"dataframe\">\n",
       "  <thead>\n",
       "    <tr style=\"text-align: right;\">\n",
       "      <th></th>\n",
       "      <th>NPV</th>\n",
       "      <th>ADBP</th>\n",
       "      <th>Weighted ADAP</th>\n",
       "      <th>SAM</th>\n",
       "    </tr>\n",
       "  </thead>\n",
       "  <tbody>\n",
       "    <tr>\n",
       "      <th>person_1_df_updated</th>\n",
       "      <td>237.0</td>\n",
       "      <td>34.677874</td>\n",
       "      <td>2838.595383</td>\n",
       "      <td>3110.273257</td>\n",
       "    </tr>\n",
       "    <tr>\n",
       "      <th>person_2_df_updated</th>\n",
       "      <td>297.0</td>\n",
       "      <td>3.462041</td>\n",
       "      <td>27375.840591</td>\n",
       "      <td>27676.302632</td>\n",
       "    </tr>\n",
       "    <tr>\n",
       "      <th>person_3_df_updated</th>\n",
       "      <td>145.0</td>\n",
       "      <td>13.252757</td>\n",
       "      <td>15201.826730</td>\n",
       "      <td>15360.079487</td>\n",
       "    </tr>\n",
       "  </tbody>\n",
       "</table>\n",
       "</div>"
      ],
      "text/plain": [
       "                       NPV       ADBP  Weighted ADAP           SAM\n",
       "person_1_df_updated  237.0  34.677874    2838.595383   3110.273257\n",
       "person_2_df_updated  297.0   3.462041   27375.840591  27676.302632\n",
       "person_3_df_updated  145.0  13.252757   15201.826730  15360.079487"
      ]
     },
     "execution_count": 64,
     "metadata": {},
     "output_type": "execute_result"
    }
   ],
   "source": [
    "modified_sam_df"
   ]
  },
  {
   "cell_type": "code",
   "execution_count": 65,
   "metadata": {},
   "outputs": [],
   "source": [
    "def calculate_social_activity_metric_harmonic_v2(dfs, weights):\n",
    "    \"\"\"\n",
    "    Calculate SAM using harmonic mean and part-of-day weights for each DataFrame.\n",
    "    Args:\n",
    "    - dfs (dict): Dictionary of DataFrames containing location data for different users.\n",
    "    - weights (dict): Weights assigned to different parts of the day.\n",
    "    \n",
    "    Returns:\n",
    "    - pd.DataFrame: DataFrame containing the calculated metrics for each user.\n",
    "    \"\"\"\n",
    "    metrics = {}\n",
    "    for person, df in dfs.items():\n",
    "        NPV = len(set(tuple(x) for x in df[['latitude', 'longitude']].values))\n",
    "        ADBP = average_distance_between_places(df)\n",
    "        weighted_ADAP = weighted_adap(df, weights)\n",
    "        weight = harmonic_mean(ADBP, weighted_ADAP)\n",
    "        SAM = NPV * weight\n",
    "        metrics[person] = {\n",
    "            \"NPV\": NPV,\n",
    "            \"ADBP\": ADBP,\n",
    "            \"Weighted ADAP\": weighted_ADAP,\n",
    "            \"Weight\": weight,\n",
    "            \"SAM\": SAM\n",
    "        }\n",
    "    \n",
    "    return pd.DataFrame(metrics).T\n",
    "\n"
   ]
  },
  {
   "cell_type": "code",
   "execution_count": 66,
   "metadata": {},
   "outputs": [
    {
     "data": {
      "text/html": [
       "<div>\n",
       "<style scoped>\n",
       "    .dataframe tbody tr th:only-of-type {\n",
       "        vertical-align: middle;\n",
       "    }\n",
       "\n",
       "    .dataframe tbody tr th {\n",
       "        vertical-align: top;\n",
       "    }\n",
       "\n",
       "    .dataframe thead th {\n",
       "        text-align: right;\n",
       "    }\n",
       "</style>\n",
       "<table border=\"1\" class=\"dataframe\">\n",
       "  <thead>\n",
       "    <tr style=\"text-align: right;\">\n",
       "      <th></th>\n",
       "      <th>NPV</th>\n",
       "      <th>ADBP</th>\n",
       "      <th>Weighted ADAP</th>\n",
       "      <th>Weight</th>\n",
       "      <th>SAM</th>\n",
       "    </tr>\n",
       "  </thead>\n",
       "  <tbody>\n",
       "    <tr>\n",
       "      <th>person_1_df_updated</th>\n",
       "      <td>237.0</td>\n",
       "      <td>34.677874</td>\n",
       "      <td>2838.595383</td>\n",
       "      <td>68.518685</td>\n",
       "      <td>16238.928279</td>\n",
       "    </tr>\n",
       "    <tr>\n",
       "      <th>person_2_df_updated</th>\n",
       "      <td>297.0</td>\n",
       "      <td>3.462041</td>\n",
       "      <td>27375.840591</td>\n",
       "      <td>6.923206</td>\n",
       "      <td>2056.192121</td>\n",
       "    </tr>\n",
       "    <tr>\n",
       "      <th>person_3_df_updated</th>\n",
       "      <td>145.0</td>\n",
       "      <td>13.252757</td>\n",
       "      <td>15201.826730</td>\n",
       "      <td>26.482427</td>\n",
       "      <td>3839.951948</td>\n",
       "    </tr>\n",
       "  </tbody>\n",
       "</table>\n",
       "</div>"
      ],
      "text/plain": [
       "                       NPV       ADBP  Weighted ADAP     Weight           SAM\n",
       "person_1_df_updated  237.0  34.677874    2838.595383  68.518685  16238.928279\n",
       "person_2_df_updated  297.0   3.462041   27375.840591   6.923206   2056.192121\n",
       "person_3_df_updated  145.0  13.252757   15201.826730  26.482427   3839.951948"
      ]
     },
     "execution_count": 66,
     "metadata": {},
     "output_type": "execute_result"
    }
   ],
   "source": [
    "# Calculate the modified SAM for each person using harmonic mean\n",
    "modified_sam_harmonic_df = calculate_social_activity_metric_harmonic_v2(processed_dataframes, WEIGHTS)\n",
    "modified_sam_harmonic_df"
   ]
  },
  {
   "cell_type": "markdown",
   "metadata": {},
   "source": [
    "## Check if clients know each other"
   ]
  },
  {
   "cell_type": "code",
   "execution_count": 70,
   "metadata": {},
   "outputs": [],
   "source": [
    "@timing_decorator\n",
    "def location_and_time_overlap_count_rtree(df1: pd.DataFrame, df2: pd.DataFrame, location_threshold: float = 0.00001, \n",
    "                                              time_threshold: pd.Timedelta = pd.Timedelta(minutes=1)) -> int:\n",
    "    overlaps_count = 0\n",
    "    \n",
    "    # Step 1: Index df2 locations using R-tree\n",
    "    idx = index.Index()\n",
    "    for i, row in df2.iterrows():\n",
    "        idx.insert(i, (row['longitude'], row['latitude'], row['longitude'], row['latitude']))\n",
    "    \n",
    "    # Step 2: Query R-tree using df1 locations\n",
    "    for _, row1 in df1.iterrows():\n",
    "        left, bottom = row1['longitude'] - location_threshold, row1['latitude'] - location_threshold\n",
    "        right, top = row1['longitude'] + location_threshold, row1['latitude'] + location_threshold\n",
    "        \n",
    "        for j in idx.intersection((left, bottom, right, top)):\n",
    "            row2 = df2.iloc[j]\n",
    "            \n",
    "            # Step 3: Temporal Filtering\n",
    "            start_time_1 = row1['start_time(YYYYMMddHHmmZ)']\n",
    "            end_time_1 = start_time_1 + pd.Timedelta(milliseconds=row1['duration(ms)'])\n",
    "            start_time_2 = row2['start_time(YYYYMMddHHmmZ)']\n",
    "            end_time_2 = start_time_2 + pd.Timedelta(milliseconds=row2['duration(ms)'])\n",
    "            \n",
    "            if max(start_time_1, start_time_2) <= min(end_time_1, end_time_2) + time_threshold:\n",
    "                overlaps_count += 1\n",
    "                \n",
    "    return overlaps_count\n"
   ]
  },
  {
   "cell_type": "code",
   "execution_count": 71,
   "metadata": {},
   "outputs": [
    {
     "name": "stdout",
     "output_type": "stream",
     "text": [
      "Execution time for location_and_time_overlap_count_rtree: 0.88 seconds\n",
      "Execution time for location_and_time_overlap_count_rtree: 0.50 seconds\n",
      "Execution time for location_and_time_overlap_count_rtree: 0.68 seconds\n"
     ]
    },
    {
     "data": {
      "text/plain": [
       "{'Person_1_Person_2': 0, 'Person_1_Person_3': 0, 'Person_2_Person_3': 58}"
      ]
     },
     "execution_count": 71,
     "metadata": {},
     "output_type": "execute_result"
    }
   ],
   "source": [
    "# Check for overlaps between each pair of users using the optimized function\n",
    "overlap_counts_v4 = {}\n",
    "for i in range(1, len(processed_dataframes) + 1):\n",
    "    for j in range(i + 1, len(processed_dataframes) + 1):\n",
    "        overlap_counts_v4[f'Person_{i}_Person_{j}'] = location_and_time_overlap_count_rtree(\n",
    "            processed_dataframes[f'person_{i}_df_updated'], \n",
    "            processed_dataframes[f'person_{j}_df_updated']\n",
    "        )\n",
    "\n",
    "overlap_counts_v4"
   ]
  },
  {
   "cell_type": "code",
   "execution_count": null,
   "metadata": {},
   "outputs": [],
   "source": [
    "# Person 3 and 2 defenitely know each other because they have 58 1 meter overlaps that was for at leas 1 minute long =>\n",
    "# That wasn't coincidence of any sort "
   ]
  },
  {
   "cell_type": "code",
   "execution_count": 121,
   "metadata": {},
   "outputs": [],
   "source": [
    "''' \n",
    "If users are related, that could be usefull for banking industry for example to make \n",
    "models as PD/LGD. Users with high credit risks would probably communicate with thouth who have high  risk and\n",
    "vice a verca\n",
    "''';"
   ]
  },
  {
   "cell_type": "markdown",
   "metadata": {},
   "source": [
    "## Add external data from OpenStreetMap"
   ]
  },
  {
   "cell_type": "code",
   "execution_count": 75,
   "metadata": {},
   "outputs": [],
   "source": [
    "# !conda create -n ox -c conda-forge --strict-channel-priority osmnx\n",
    "# In terminal\n",
    "\n",
    "\n",
    "# doesn't worked on my machine so decided to use just geopandas that is less convinient, but also solid instrument "
   ]
  },
  {
   "cell_type": "code",
   "execution_count": 84,
   "metadata": {},
   "outputs": [],
   "source": [
    "import geopandas\n",
    "import geopandas as gpd\n",
    "import requests\n",
    "from shapely.geometry import Point"
   ]
  },
  {
   "cell_type": "code",
   "execution_count": 89,
   "metadata": {},
   "outputs": [
    {
     "name": "stdout",
     "output_type": "stream",
     "text": [
      "   type        id        lat       lon   \n",
      "0  node  26611122  52.363773  4.911543  \\\n",
      "1  node  26612532  52.360459  4.929170   \n",
      "2  node  26654662  52.383284  4.913121   \n",
      "3  node  26654664  52.381326  4.913204   \n",
      "4  node  26752359  52.358285  4.923750   \n",
      "\n",
      "                                                tags                  geometry  \n",
      "0  {'amenity': 'university', 'name': 'UvA Faculte...  POINT (4.91154 52.36377)  \n",
      "1  {'addr:city': 'Amsterdam', 'addr:country': 'NL...  POINT (4.92917 52.36046)  \n",
      "2  {'amenity': 'place_of_worship', 'building': 'm...  POINT (4.91312 52.38328)  \n",
      "3  {'amenity': 'school', 'isced:level': '0;1', 'n...  POINT (4.91320 52.38133)  \n",
      "4                            {'amenity': 'post_box'}  POINT (4.92375 52.35829)  \n"
     ]
    }
   ],
   "source": [
    "import requests\n",
    "import geopandas as gpd\n",
    "from shapely.geometry import Point\n",
    "\n",
    "# Define the Overpass API endpoint\n",
    "OVERPASS_API = \"https://overpass-api.de/api/interpreter\"\n",
    "\n",
    "# Define the query to fetch all POIs in Amsterdam\n",
    "query = \"\"\"\n",
    "[out:json];\n",
    "area[\"name\"=\"Amsterdam\"][\"admin_level\"=\"8\"];\n",
    "node(area)[amenity];\n",
    "out center;\n",
    "\"\"\"\n",
    "\n",
    "# Make the API request\n",
    "response = requests.get(OVERPASS_API, params={'data': query})\n",
    "data = response.json()\n",
    "\n",
    "# Extract nodes from the response\n",
    "nodes = data['elements']\n",
    "\n",
    "# Create a GeoDataFrame from nodes\n",
    "geometry = [Point(node['lon'], node['lat']) for node in nodes]\n",
    "pois_gdf = gpd.GeoDataFrame(nodes, geometry=geometry)\n",
    "\n",
    "# Save the GeoDataFrame to a file (optional)\n",
    "pois_gdf.to_file(\"amsterdam_pois.geojson\", driver='GeoJSON')\n",
    "\n",
    "print(pois_gdf.head())\n"
   ]
  },
  {
   "cell_type": "code",
   "execution_count": 91,
   "metadata": {},
   "outputs": [
    {
     "data": {
      "image/png": "[encoded data removed]",
      "text/plain": [
       "<Figure size 720x720 with 1 Axes>"
      ]
     },
     "metadata": {
      "needs_background": "light"
     },
     "output_type": "display_data"
    }
   ],
   "source": [
    "import geopandas as gpd\n",
    "import matplotlib.pyplot as plt\n",
    "\n",
    "# Get the naturalearth_lowres dataset\n",
    "world = gpd.read_file(gpd.datasets.get_path('naturalearth_lowres'))\n",
    "\n",
    "# Filter for Netherlands\n",
    "netherlands = world[world['name'] == \"Netherlands\"]\n",
    "\n",
    "# Plot\n",
    "fig, ax = plt.subplots(figsize=(10, 10))\n",
    "netherlands.plot(ax=ax, color='lightgrey', edgecolor='black')\n",
    "gdf.plot(ax=ax, markersize=5, color='red')\n",
    "ax.set_title(\"POIs in Amsterdam\")\n",
    "plt.show()"
   ]
  },
  {
   "cell_type": "code",
   "execution_count": 92,
   "metadata": {},
   "outputs": [],
   "source": [
    "def check_visits_to_amenities(person_gdf, pois_gdf, amenities_of_interest, distance_threshold=0.0001):\n",
    "    \"\"\"\n",
    "    Check if a person visited specific amenities.\n",
    "    \n",
    "    Args:\n",
    "    - person_gdf (GeoDataFrame): The person's movement data.\n",
    "    - pois_gdf (GeoDataFrame): The POIs data.\n",
    "    - amenities_of_interest (list): List of amenities to check.\n",
    "    - distance_threshold (float): The distance threshold to consider a visit.\n",
    "    \n",
    "    Returns:\n",
    "    - dict: Dictionary with amenity as the key and the count of visits as the value.\n",
    "    \"\"\"\n",
    "    \n",
    "    # Filter the POIs to only include the amenities of interest\n",
    "    filtered_pois = pois_gdf[pois_gdf['amenity'].isin(amenities_of_interest)]\n",
    "    \n",
    "    visit_counts = {amenity: 0 for amenity in amenities_of_interest}\n",
    "    \n",
    "    # For each record in the person's data, check if they were near any of the filtered POIs\n",
    "    for _, person_row in person_gdf.iterrows():\n",
    "        for _, poi_row in filtered_pois.iterrows():\n",
    "            if person_row['geometry'].distance(poi_row['geometry']) <= distance_threshold:\n",
    "                visit_counts[poi_row['amenity']] += 1\n",
    "                \n",
    "    return visit_counts\n"
   ]
  },
  {
   "cell_type": "code",
   "execution_count": 96,
   "metadata": {},
   "outputs": [
    {
     "data": {
      "text/html": [
       "<div>\n",
       "<style scoped>\n",
       "    .dataframe tbody tr th:only-of-type {\n",
       "        vertical-align: middle;\n",
       "    }\n",
       "\n",
       "    .dataframe tbody tr th {\n",
       "        vertical-align: top;\n",
       "    }\n",
       "\n",
       "    .dataframe thead th {\n",
       "        text-align: right;\n",
       "    }\n",
       "</style>\n",
       "<table border=\"1\" class=\"dataframe\">\n",
       "  <thead>\n",
       "    <tr style=\"text-align: right;\">\n",
       "      <th></th>\n",
       "      <th>type</th>\n",
       "      <th>id</th>\n",
       "      <th>lat</th>\n",
       "      <th>lon</th>\n",
       "      <th>tags</th>\n",
       "      <th>geometry</th>\n",
       "      <th>amenity</th>\n",
       "    </tr>\n",
       "  </thead>\n",
       "  <tbody>\n",
       "    <tr>\n",
       "      <th>0</th>\n",
       "      <td>node</td>\n",
       "      <td>26611122</td>\n",
       "      <td>52.363773</td>\n",
       "      <td>4.911543</td>\n",
       "      <td>{'amenity': 'university', 'name': 'UvA Faculte...</td>\n",
       "      <td>POINT (4.91154 52.36377)</td>\n",
       "      <td>university</td>\n",
       "    </tr>\n",
       "    <tr>\n",
       "      <th>1</th>\n",
       "      <td>node</td>\n",
       "      <td>26612532</td>\n",
       "      <td>52.360459</td>\n",
       "      <td>4.929170</td>\n",
       "      <td>{'addr:city': 'Amsterdam', 'addr:country': 'NL...</td>\n",
       "      <td>POINT (4.92917 52.36046)</td>\n",
       "      <td>fire_station</td>\n",
       "    </tr>\n",
       "    <tr>\n",
       "      <th>2</th>\n",
       "      <td>node</td>\n",
       "      <td>26654662</td>\n",
       "      <td>52.383284</td>\n",
       "      <td>4.913121</td>\n",
       "      <td>{'amenity': 'place_of_worship', 'building': 'm...</td>\n",
       "      <td>POINT (4.91312 52.38328)</td>\n",
       "      <td>place_of_worship</td>\n",
       "    </tr>\n",
       "    <tr>\n",
       "      <th>3</th>\n",
       "      <td>node</td>\n",
       "      <td>26654664</td>\n",
       "      <td>52.381326</td>\n",
       "      <td>4.913204</td>\n",
       "      <td>{'amenity': 'school', 'isced:level': '0;1', 'n...</td>\n",
       "      <td>POINT (4.91320 52.38133)</td>\n",
       "      <td>school</td>\n",
       "    </tr>\n",
       "    <tr>\n",
       "      <th>4</th>\n",
       "      <td>node</td>\n",
       "      <td>26752359</td>\n",
       "      <td>52.358285</td>\n",
       "      <td>4.923750</td>\n",
       "      <td>{'amenity': 'post_box'}</td>\n",
       "      <td>POINT (4.92375 52.35829)</td>\n",
       "      <td>post_box</td>\n",
       "    </tr>\n",
       "  </tbody>\n",
       "</table>\n",
       "</div>"
      ],
      "text/plain": [
       "   type        id        lat       lon   \n",
       "0  node  26611122  52.363773  4.911543  \\\n",
       "1  node  26612532  52.360459  4.929170   \n",
       "2  node  26654662  52.383284  4.913121   \n",
       "3  node  26654664  52.381326  4.913204   \n",
       "4  node  26752359  52.358285  4.923750   \n",
       "\n",
       "                                                tags   \n",
       "0  {'amenity': 'university', 'name': 'UvA Faculte...  \\\n",
       "1  {'addr:city': 'Amsterdam', 'addr:country': 'NL...   \n",
       "2  {'amenity': 'place_of_worship', 'building': 'm...   \n",
       "3  {'amenity': 'school', 'isced:level': '0;1', 'n...   \n",
       "4                            {'amenity': 'post_box'}   \n",
       "\n",
       "                   geometry           amenity  \n",
       "0  POINT (4.91154 52.36377)        university  \n",
       "1  POINT (4.92917 52.36046)      fire_station  \n",
       "2  POINT (4.91312 52.38328)  place_of_worship  \n",
       "3  POINT (4.91320 52.38133)            school  \n",
       "4  POINT (4.92375 52.35829)          post_box  "
      ]
     },
     "execution_count": 96,
     "metadata": {},
     "output_type": "execute_result"
    }
   ],
   "source": [
    "# Extract 'amenity' from the 'tags' column and create a new 'amenity' column in the dataframe\n",
    "pois_gdf['amenity'] = pois_gdf['tags'].apply(lambda x: x.get('amenity', None))\n",
    "\n",
    "# Check the first few rows of the dataframe after extraction\n",
    "pois_gdf.head()\n"
   ]
  },
  {
   "cell_type": "code",
   "execution_count": 99,
   "metadata": {},
   "outputs": [
    {
     "data": {
      "text/html": [
       "<div>\n",
       "<style scoped>\n",
       "    .dataframe tbody tr th:only-of-type {\n",
       "        vertical-align: middle;\n",
       "    }\n",
       "\n",
       "    .dataframe tbody tr th {\n",
       "        vertical-align: top;\n",
       "    }\n",
       "\n",
       "    .dataframe thead th {\n",
       "        text-align: right;\n",
       "    }\n",
       "</style>\n",
       "<table border=\"1\" class=\"dataframe\">\n",
       "  <thead>\n",
       "    <tr style=\"text-align: right;\">\n",
       "      <th></th>\n",
       "      <th>latitude</th>\n",
       "      <th>longitude</th>\n",
       "      <th>start_time(YYYYMMddHHmmZ)</th>\n",
       "      <th>duration(ms)</th>\n",
       "      <th>person_id</th>\n",
       "      <th>start_time</th>\n",
       "      <th>end_time</th>\n",
       "      <th>key</th>\n",
       "      <th>day_of_week</th>\n",
       "      <th>hour_of_day</th>\n",
       "      <th>part_of_day</th>\n",
       "      <th>geometry</th>\n",
       "    </tr>\n",
       "  </thead>\n",
       "  <tbody>\n",
       "    <tr>\n",
       "      <th>0</th>\n",
       "      <td>-49.327</td>\n",
       "      <td>-72.891</td>\n",
       "      <td>2013-12-25 11:47:00-03:00</td>\n",
       "      <td>1186491</td>\n",
       "      <td>1</td>\n",
       "      <td>2013-12-25 11:47:00-03:00</td>\n",
       "      <td>2013-12-25 12:06:46.491000-03:00</td>\n",
       "      <td>1</td>\n",
       "      <td>2.0</td>\n",
       "      <td>11.0</td>\n",
       "      <td>Late Morning</td>\n",
       "      <td>POINT (-72.89100 -49.32700)</td>\n",
       "    </tr>\n",
       "    <tr>\n",
       "      <th>1</th>\n",
       "      <td>-49.327</td>\n",
       "      <td>-72.891</td>\n",
       "      <td>2013-12-25 12:13:00-03:00</td>\n",
       "      <td>4393711</td>\n",
       "      <td>1</td>\n",
       "      <td>2013-12-25 12:13:00-03:00</td>\n",
       "      <td>2013-12-25 13:26:13.711000-03:00</td>\n",
       "      <td>1</td>\n",
       "      <td>2.0</td>\n",
       "      <td>12.0</td>\n",
       "      <td>Lunch</td>\n",
       "      <td>POINT (-72.89100 -49.32700)</td>\n",
       "    </tr>\n",
       "    <tr>\n",
       "      <th>2</th>\n",
       "      <td>-49.317</td>\n",
       "      <td>-72.899</td>\n",
       "      <td>2013-12-25 13:58:00-03:00</td>\n",
       "      <td>842939</td>\n",
       "      <td>1</td>\n",
       "      <td>2013-12-25 13:58:00-03:00</td>\n",
       "      <td>2013-12-25 14:12:02.939000-03:00</td>\n",
       "      <td>1</td>\n",
       "      <td>2.0</td>\n",
       "      <td>13.0</td>\n",
       "      <td>Lunch</td>\n",
       "      <td>POINT (-72.89900 -49.31700)</td>\n",
       "    </tr>\n",
       "    <tr>\n",
       "      <th>3</th>\n",
       "      <td>-49.327</td>\n",
       "      <td>-72.891</td>\n",
       "      <td>2013-12-25 14:40:00-03:00</td>\n",
       "      <td>211887</td>\n",
       "      <td>1</td>\n",
       "      <td>2013-12-25 14:40:00-03:00</td>\n",
       "      <td>2013-12-25 14:43:31.887000-03:00</td>\n",
       "      <td>1</td>\n",
       "      <td>2.0</td>\n",
       "      <td>14.0</td>\n",
       "      <td>Afternoon</td>\n",
       "      <td>POINT (-72.89100 -49.32700)</td>\n",
       "    </tr>\n",
       "    <tr>\n",
       "      <th>4</th>\n",
       "      <td>-49.327</td>\n",
       "      <td>-72.891</td>\n",
       "      <td>2013-12-25 16:31:00-03:00</td>\n",
       "      <td>71166228</td>\n",
       "      <td>1</td>\n",
       "      <td>2013-12-25 16:31:00-03:00</td>\n",
       "      <td>2013-12-26 12:17:06.228000-03:00</td>\n",
       "      <td>1</td>\n",
       "      <td>2.0</td>\n",
       "      <td>16.0</td>\n",
       "      <td>Afternoon</td>\n",
       "      <td>POINT (-72.89100 -49.32700)</td>\n",
       "    </tr>\n",
       "  </tbody>\n",
       "</table>\n",
       "</div>"
      ],
      "text/plain": [
       "   latitude  longitude start_time(YYYYMMddHHmmZ)  duration(ms)  person_id   \n",
       "0   -49.327    -72.891 2013-12-25 11:47:00-03:00       1186491          1  \\\n",
       "1   -49.327    -72.891 2013-12-25 12:13:00-03:00       4393711          1   \n",
       "2   -49.317    -72.899 2013-12-25 13:58:00-03:00        842939          1   \n",
       "3   -49.327    -72.891 2013-12-25 14:40:00-03:00        211887          1   \n",
       "4   -49.327    -72.891 2013-12-25 16:31:00-03:00      71166228          1   \n",
       "\n",
       "                  start_time                          end_time  key   \n",
       "0  2013-12-25 11:47:00-03:00  2013-12-25 12:06:46.491000-03:00    1  \\\n",
       "1  2013-12-25 12:13:00-03:00  2013-12-25 13:26:13.711000-03:00    1   \n",
       "2  2013-12-25 13:58:00-03:00  2013-12-25 14:12:02.939000-03:00    1   \n",
       "3  2013-12-25 14:40:00-03:00  2013-12-25 14:43:31.887000-03:00    1   \n",
       "4  2013-12-25 16:31:00-03:00  2013-12-26 12:17:06.228000-03:00    1   \n",
       "\n",
       "   day_of_week  hour_of_day   part_of_day                     geometry  \n",
       "0          2.0         11.0  Late Morning  POINT (-72.89100 -49.32700)  \n",
       "1          2.0         12.0         Lunch  POINT (-72.89100 -49.32700)  \n",
       "2          2.0         13.0         Lunch  POINT (-72.89900 -49.31700)  \n",
       "3          2.0         14.0     Afternoon  POINT (-72.89100 -49.32700)  \n",
       "4          2.0         16.0     Afternoon  POINT (-72.89100 -49.32700)  "
      ]
     },
     "execution_count": 99,
     "metadata": {},
     "output_type": "execute_result"
    }
   ],
   "source": [
    "from shapely.geometry import Point\n",
    "\n",
    "# Convert latitude and longitude to geometry\n",
    "person_1_gdf = gpd.GeoDataFrame(processed_dataframes['person_1_df_updated'], \n",
    "                                geometry=gpd.points_from_xy(processed_dataframes['person_1_df_updated'].longitude, \n",
    "                                                            processed_dataframes['person_1_df_updated'].latitude))\n",
    "\n",
    "person_1_gdf.head()\n"
   ]
  },
  {
   "cell_type": "code",
   "execution_count": 163,
   "metadata": {},
   "outputs": [
    {
     "data": {
      "text/plain": [
       "0"
      ]
     },
     "execution_count": 163,
     "metadata": {},
     "output_type": "execute_result"
    }
   ],
   "source": [
    "def calculate_enhanced_sam(user_gdf: gpd.GeoDataFrame,\n",
    "                           pois_gdf: gpd.GeoDataFrame, distance_threshold: float = 0.00001) -> float:\n",
    "    \"\"\"\n",
    "    Calculate the enhanced SAM score by incorporating visits to social amenities.\n",
    "    \n",
    "    Args:\n",
    "    - user_gdf (gpd.GeoDataFrame): User location data.\n",
    "    - pois_gdf (gpd.GeoDataFrame): Points of interest data.\n",
    "    - distance_threshold (float): Threshold for considering a user's location to be at a POI.\n",
    "    \n",
    "    Returns:\n",
    "    - float: Enhanced SAM score.\n",
    "    \"\"\"\n",
    "    social_amenities = ['bar', 'cafe', 'club', 'restaurant', 'theater', 'cinema']\n",
    "    social_pois = pois_gdf[pois_gdf['amenity'].isin(social_amenities)]\n",
    "    \n",
    "    # Check for visits to these social amenities\n",
    "    visits_count = 0\n",
    "    for _, user_row in user_gdf.iterrows():\n",
    "        user_point = user_row['geometry']\n",
    "        for _, poi_row in social_pois.iterrows():\n",
    "            poi_point = poi_row['geometry']\n",
    "            if user_point.distance(poi_point) <= distance_threshold:\n",
    "                visits_count += 1\n",
    "                break  # Break after the first match to avoid counting a visit multiple times\n",
    "    \n",
    "    # For demonstration, we're using a basic SAM calculation: Number of POIs visited.\n",
    "    # This can be enhanced with more sophisticated metrics like duration, frequency, etc.\n",
    "    enhanced_sam = visits_count\n",
    "    return enhanced_sam\n",
    "\n",
    "# Calculate the enhanced SAM for person 1\n",
    "enhanced_sam_person_1 = calculate_enhanced_sam(person_1_gdf, pois_gdf)\n",
    "enhanced_sam_person_1\n"
   ]
  },
  {
   "cell_type": "code",
   "execution_count": 101,
   "metadata": {},
   "outputs": [],
   "source": [
    "def create_geodataframe(df, lat_col='latitude', lon_col='longitude') -> gpd.GeoDataFrame:\n",
    "    \"\"\"\n",
    "    Convert a DataFrame with latitude and longitude columns to a GeoDataFrame.\n",
    "\n",
    "    Args:\n",
    "    - df (pd.DataFrame): The original DataFrame.\n",
    "    - lat_col (str): The name of the column containing latitude values.\n",
    "    - lon_col (str): The name of the column containing longitude values.\n",
    "\n",
    "    Returns:\n",
    "    - gpd.GeoDataFrame: A GeoDataFrame with the points created from latitude and longitude.\n",
    "    \"\"\"\n",
    "    gdf = gpd.GeoDataFrame(df, geometry=gpd.points_from_xy(df[lon_col], df[lat_col]))\n",
    "    return gdf\n",
    "\n",
    "# Usage example\n",
    "person_1_gdf = create_geodataframe(processed_dataframes['person_1_df_updated'])\n",
    "person_2_gdf = create_geodataframe(processed_dataframes['person_2_df_updated'])\n",
    "person_3_gdf = create_geodataframe(processed_dataframes['person_3_df_updated'])"
   ]
  },
  {
   "cell_type": "code",
   "execution_count": 103,
   "metadata": {},
   "outputs": [
    {
     "data": {
      "text/plain": [
       "3"
      ]
     },
     "execution_count": 103,
     "metadata": {},
     "output_type": "execute_result"
    }
   ],
   "source": [
    "# Calculate the enhanced SAM for person 1\n",
    "enhanced_sam_person_1 = calculate_enhanced_sam(person_1_gdf, pois_gdf,distance_threshold=1)\n",
    "enhanced_sam_person_1"
   ]
  },
  {
   "cell_type": "code",
   "execution_count": 102,
   "metadata": {},
   "outputs": [
    {
     "data": {
      "text/plain": [
       "7"
      ]
     },
     "execution_count": 102,
     "metadata": {},
     "output_type": "execute_result"
    }
   ],
   "source": [
    "# Calculate the enhanced SAM for person 1\n",
    "enhanced_sam_person_2 = calculate_enhanced_sam(person_2_gdf, pois_gdf,distance_threshold=1)\n",
    "enhanced_sam_person_2"
   ]
  },
  {
   "cell_type": "code",
   "execution_count": 104,
   "metadata": {},
   "outputs": [
    {
     "data": {
      "text/plain": [
       "0"
      ]
     },
     "execution_count": 104,
     "metadata": {},
     "output_type": "execute_result"
    }
   ],
   "source": [
    "# Calculate the enhanced SAM for person 1\n",
    "enhanced_sam_person_3 = calculate_enhanced_sam(person_3_gdf, pois_gdf,distance_threshold=1)\n",
    "enhanced_sam_person_3"
   ]
  },
  {
   "cell_type": "code",
   "execution_count": 105,
   "metadata": {},
   "outputs": [],
   "source": [
    "@timing_decorator\n",
    "def calculate_enhanced_sam_optimized(user_gdf: gpd.GeoDataFrame, \n",
    "                                     pois_gdf: gpd.GeoDataFrame, distance_threshold: float = 0.001) -> float:\n",
    "    \"\"\"\n",
    "    Calculate the enhanced SAM score by incorporating visits to social amenities using optimized approach.\n",
    "    \n",
    "    Args:\n",
    "    - user_gdf (gpd.GeoDataFrame): User location data.\n",
    "    - pois_gdf (gpd.GeoDataFrame): Points of interest data.\n",
    "    - distance_threshold (float): Threshold for considering a user's location to be at a POI.\n",
    "    \n",
    "    Returns:\n",
    "    - float: Enhanced SAM score.\n",
    "    \"\"\"\n",
    "    social_amenities = ['bar', 'cafe', 'club', 'restaurant', 'theater', 'cinema']\n",
    "    social_pois = pois_gdf[pois_gdf['amenity'].isin(social_amenities)]\n",
    "    \n",
    "    # Create a buffer around each user's point based on the distance threshold\n",
    "    user_gdf['geometry'] = user_gdf.buffer(distance_threshold)\n",
    "    \n",
    "    # Use spatial join to find overlaps between user locations and POIs\n",
    "    joined = gpd.sjoin(user_gdf, social_pois, how=\"inner\", op=\"intersects\")\n",
    "    \n",
    "    # The length of the joined GeoDataFrame gives the number of overlaps\n",
    "    visits_count = len(joined)\n",
    "    \n",
    "    # For demonstration, we're using a basic SAM calculation: Number of POIs visited.\n",
    "    # This can be enhanced with more sophisticated metrics like duration, frequency, etc.\n",
    "    enhanced_sam = visits_count\n",
    "    return enhanced_sam"
   ]
  },
  {
   "cell_type": "code",
   "execution_count": 106,
   "metadata": {},
   "outputs": [
    {
     "name": "stdout",
     "output_type": "stream",
     "text": [
      "Execution time for calculate_enhanced_sam_optimized: 0.03 seconds\n"
     ]
    },
    {
     "data": {
      "text/plain": [
       "122"
      ]
     },
     "execution_count": 106,
     "metadata": {},
     "output_type": "execute_result"
    }
   ],
   "source": [
    "# Calculate the enhanced SAM for person 1 using the optimized function\n",
    "enhanced_sam_person_1_optimized = calculate_enhanced_sam_optimized(person_1_gdf, pois_gdf,distance_threshold=1)\n",
    "enhanced_sam_person_1_optimized"
   ]
  },
  {
   "cell_type": "code",
   "execution_count": 107,
   "metadata": {},
   "outputs": [
    {
     "name": "stdout",
     "output_type": "stream",
     "text": [
      "Execution time for calculate_enhanced_sam_optimized: 0.05 seconds\n"
     ]
    },
    {
     "data": {
      "text/plain": [
       "14841"
      ]
     },
     "execution_count": 107,
     "metadata": {},
     "output_type": "execute_result"
    }
   ],
   "source": [
    "# Calculate the enhanced SAM for person 1 using the optimized function\n",
    "enhanced_sam_person_2_optimized = calculate_enhanced_sam_optimized(person_2_gdf, pois_gdf,distance_threshold=1)\n",
    "enhanced_sam_person_2_optimized"
   ]
  },
  {
   "cell_type": "code",
   "execution_count": 108,
   "metadata": {},
   "outputs": [
    {
     "name": "stdout",
     "output_type": "stream",
     "text": [
      "Execution time for calculate_enhanced_sam_optimized: 0.03 seconds\n"
     ]
    },
    {
     "data": {
      "text/plain": [
       "0"
      ]
     },
     "execution_count": 108,
     "metadata": {},
     "output_type": "execute_result"
    }
   ],
   "source": [
    "# Calculate the enhanced SAM for person 1 using the optimized function\n",
    "enhanced_sam_person_3_optimized = calculate_enhanced_sam_optimized(person_3_gdf, pois_gdf,distance_threshold=1)\n",
    "enhanced_sam_person_3_optimized"
   ]
  },
  {
   "cell_type": "code",
   "execution_count": 109,
   "metadata": {},
   "outputs": [],
   "source": [
    "\"\"\" Based on all this calculations we could understand that Second person is more active than first one\n",
    "and third one is less active, despite have quite similar life balance as second one\"\"\";"
   ]
  },
  {
   "cell_type": "code",
   "execution_count": 110,
   "metadata": {},
   "outputs": [],
   "source": [
    "import numpy as np\n",
    "import geopandas as gpd\n",
    "\n",
    "def calculate_enhanced_sam(user_gdf: gpd.GeoDataFrame,\n",
    "                           pois_gdf: gpd.GeoDataFrame, distance_threshold: float = 0.0001) -> float:\n",
    "    \"\"\"\n",
    "    Calculate the enhanced SAM score by incorporating visits to social amenities.\n",
    "\n",
    "    Args:\n",
    "    - user_gdf (gpd.GeoDataFrame): User location data.\n",
    "    - pois_gdf (gpd.GeoDataFrame): Points of interest data.\n",
    "    - distance_threshold (float): Threshold for considering a user's location to be at a POI.\n",
    "\n",
    "    Returns:\n",
    "    - float: Enhanced SAM score.\n",
    "    \"\"\"\n",
    "    social_amenities = ['bar', 'cafe', 'club', 'restaurant', 'theater', 'cinema']\n",
    "    social_pois = pois_gdf[pois_gdf['amenity'].isin(social_amenities)]\n",
    "\n",
    "    # Check for visits to these social amenities\n",
    "    visits_count = 0\n",
    "    for user_row in user_gdf.itertuples():\n",
    "        user_point = user_row.geometry\n",
    "        # Use spatial index to speed up the process\n",
    "        possible_matches_index = list(social_pois.sindex.intersection(user_point.bounds))\n",
    "        possible_matches = social_pois.iloc[possible_matches_index]\n",
    "        precise_matches = possible_matches[possible_matches.distance(user_point) <= distance_threshold]\n",
    "        visits_count += len(precise_matches)\n",
    "\n",
    "    # Calculate the SAM components\n",
    "    number_of_locations = len(user_gdf['geometry'].unique())\n",
    "    total_distance = user_gdf['geometry'].distance(user_gdf['geometry'].shift()).sum()\n",
    "    total_time = user_gdf['duration(ms)'].sum()\n",
    "\n",
    "    # Use harmonic mean to combine the SAM components\n",
    "    sam_components = [number_of_locations, total_distance, total_time, visits_count]\n",
    "    sam_components = [x if x != 0 else 1 for x in sam_components]  # Replace 0 with 1 to avoid division by zero\n",
    "    harmonic_mean_sam = len(sam_components) / np.sum(1.0 / np.array(sam_components))\n",
    "\n",
    "    return harmonic_mean_sam\n",
    "\n",
    "\n"
   ]
  },
  {
   "cell_type": "code",
   "execution_count": 121,
   "metadata": {},
   "outputs": [],
   "source": [
    "# Calculate the enhanced SAM for person 1\n",
    "enhanced_sam_person_1 = calculate_enhanced_sam(person_1_gdf, pois_gdf)"
   ]
  },
  {
   "cell_type": "code",
   "execution_count": 114,
   "metadata": {},
   "outputs": [],
   "source": [
    "enhanced_sam_person_2 = calculate_enhanced_sam(person_2_gdf, pois_gdf)"
   ]
  },
  {
   "cell_type": "code",
   "execution_count": 115,
   "metadata": {},
   "outputs": [],
   "source": [
    "enhanced_sam_person_3 = calculate_enhanced_sam(person_3_gdf, pois_gdf)"
   ]
  },
  {
   "cell_type": "code",
   "execution_count": 122,
   "metadata": {},
   "outputs": [
    {
     "data": {
      "text/plain": [
       "206.85893970431508"
      ]
     },
     "execution_count": 122,
     "metadata": {},
     "output_type": "execute_result"
    }
   ],
   "source": [
    "enhanced_sam_person_1"
   ]
  },
  {
   "cell_type": "code",
   "execution_count": 116,
   "metadata": {},
   "outputs": [
    {
     "data": {
      "text/plain": [
       "3.9863095349368725"
      ]
     },
     "execution_count": 116,
     "metadata": {},
     "output_type": "execute_result"
    }
   ],
   "source": [
    "enhanced_sam_person_2"
   ]
  },
  {
   "cell_type": "code",
   "execution_count": 117,
   "metadata": {},
   "outputs": [
    {
     "data": {
      "text/plain": [
       "1.9931271474701333"
      ]
     },
     "execution_count": 117,
     "metadata": {},
     "output_type": "execute_result"
    }
   ],
   "source": [
    "enhanced_sam_person_3"
   ]
  },
  {
   "cell_type": "code",
   "execution_count": null,
   "metadata": {},
   "outputs": [],
   "source": [
    "# But based on harmonic mean of all our variables we again have first one is more socially active "
   ]
  },
  {
   "cell_type": "markdown",
   "metadata": {},
   "source": [
    "## Final results\n",
    "### 1.1 Посещали пользователи одинаковые места? Знают ли они друг друга?\n",
    "All 3 personc visited same places, but relationthisp could be established only between 2 and 3, nevertheless \n",
    "that 1 visit similar points on map could be usefull for some modelling or marketing actions.\n",
    "### 1.2 Ввести метрику социальной активности - она должна учитывать количество мест, которое посетил пользователь, как далеко они друг от друга и как долго человек оставался там - метрика должна позволять сравнивать пользователей и находить наиболее активных\n",
    "Depends on method we use most active clients if as folows 2 3 1 if we not using outer data \n",
    "If we use external data user 2 1 3 is most active, because 3 don't visit points of interests as bars, cinemas\n",
    "If we use distance as one of the main metrics (i think it's not useful because he trevelling from different city to \n",
    "AMSTERDAM) 1 2 3 are most socially active"
   ]
  },
  {
   "cell_type": "code",
   "execution_count": null,
   "metadata": {},
   "outputs": [],
   "source": []
  }
 ],
 "metadata": {
  "kernelspec": {
   "display_name": "Python 3 (ipykernel)",
   "language": "python",
   "name": "python3"
  },
  "language_info": {
   "codemirror_mode": {
    "name": "ipython",
    "version": 3
   },
   "file_extension": ".py",
   "mimetype": "text/x-python",
   "name": "python",
   "nbconvert_exporter": "python",
   "pygments_lexer": "ipython3",
   "version": "3.9.7"
  }
 },
 "nbformat": 4,
 "nbformat_minor": 1
}
