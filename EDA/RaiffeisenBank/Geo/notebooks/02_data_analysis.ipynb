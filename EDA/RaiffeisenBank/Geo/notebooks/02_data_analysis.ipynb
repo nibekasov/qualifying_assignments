{
 "cells": [
  {
   "cell_type": "code",
   "execution_count": null,
   "id": "d75db5af",
   "metadata": {},
   "outputs": [],
   "source": [
    "import pandas as pd\n",
    "import numpy as np \n",
    "\n",
    "from src.visualization import plot_scatter_persons, create_heatmap, plot_daywise_activity_with_mean, plot_activity_by_part_of_day\n",
    "from src.data_analysis import *\n",
    "\n",
    "import geopandas as gpd\n",
    "import matplotlib.pyplot as plt"
   ]
  },
  {
   "cell_type": "markdown",
   "id": "f95c9d75",
   "metadata": {},
   "source": [
    "## Задание 1\n",
    "- Посещали пользователи одинаковые места? Знают ли они друг друга?\n",
    "- Ввести метрику социальной активности - она должна учитывать количество мест, которое посетил пользователь, как далеко они друг от друга и как долго человек оставался там - метрика должна позволять сравнивать пользователей и находить наиболее активных"
   ]
  },
  {
   "cell_type": "markdown",
   "id": "9de989d4",
   "metadata": {},
   "source": [
    "### задание 1.1. Посещали пользователи одинаковые места? Знают ли они друг друга?"
   ]
  },
  {
   "cell_type": "code",
   "execution_count": null,
   "id": "94d7a126",
   "metadata": {},
   "outputs": [],
   "source": [
    "# Determine the number of unique users in the database\n",
    "unique_person_ids = pd.read_sql_query(\"SELECT DISTINCT person_id FROM all_persons\", conn)\n",
    "\n",
    "# Create a dictionary to store dataframes for each user\n",
    "dataframes_dict = {}\n",
    "\n",
    "# Populate the dictionary with data for each user\n",
    "for person_id in unique_person_ids['person_id']:\n",
    "    csv_filename = f\"person.{person_id}.csv\"\n",
    "    dataframes_dict[f\"person_{person_id}_df_updated\"] = get_data_from_db_or_csv(person_id, conn, csv_filename)\n",
    "\n",
    "# Return the keys of the dictionary (i.e., the names of the dynamically created dataframes)\n",
    "list(dataframes_dict.keys())"
   ]
  },
  {
   "cell_type": "code",
   "execution_count": null,
   "id": "d4b63d95",
   "metadata": {},
   "outputs": [],
   "source": [
    "processed_dataframes = process_dataframes(dataframes_dict, precision=3)\n",
    "common_locs = compare_locations(processed_dataframes)"
   ]
  },
  {
   "cell_type": "code",
   "execution_count": null,
   "id": "d78be2f7",
   "metadata": {},
   "outputs": [],
   "source": [
    "overlap_results = {}\n",
    "\n",
    "# Iterate over every combination of 2 dataframes in the dataframes_dict\n",
    "for key1, key2 in combinations(dataframes_dict.keys(), 2):\n",
    "    # Get the overlap dataframe for the current combination\n",
    "    overlap_df = location_and_time_overlap_vectorized(dataframes_dict[key1], dataframes_dict[key2])\n",
    "    \n",
    "    # Store the overlap dataframe in the overlap_results dictionary\n",
    "    overlap_key = f\"{key1}_{key2}\"\n",
    "    overlap_results[overlap_key] = overlap_df\n",
    "\n",
    "# This will provide the overlaps for all combinations: person_1_person_2, person_1_person_3, and person_2_person_3.\n",
    "overlap_results.keys()"
   ]
  },
  {
   "cell_type": "markdown",
   "id": "00b0b0bd",
   "metadata": {},
   "source": [
    "### Heat map of all our persons"
   ]
  },
  {
   "cell_type": "code",
   "execution_count": null,
   "id": "bb3beece",
   "metadata": {},
   "outputs": [],
   "source": [
    "# Plot scatter points for the persons\n",
    "plot_scatter_persons(person_1_df_updated, person_2_df_updated, person_3_df_updated)\n",
    "\n",
    "# Create a heatmap for the persons\n",
    "heatmap_map = create_heatmap(person_1_df_updated, person_2_df_updated, person_3_df_updated)\n",
    "\n",
    "# Display the heatmap\n",
    "# heatmap_map.save('heatmap.html')  # Save the map to an HTML file\n",
    "heatmap_map"
   ]
  },
  {
   "cell_type": "code",
   "execution_count": null,
   "id": "8b918ce8",
   "metadata": {},
   "outputs": [],
   "source": [
    "# Assuming you have dataframes for person 2 and person 3 processed and stored in variables\n",
    "# person_2_df_updated and person_3_df_updated\n",
    "\n",
    "# Plot scatter points for the persons\n",
    "plot_scatter_persons(person_2_df_updated, person_3_df_updated)\n",
    "\n",
    "# Create a heatmap for the persons\n",
    "heatmap_map = create_heatmap(person_2_df_updated, person_3_df_updated)\n",
    "\n",
    "# Display the heatmap\n",
    "# heatmap_map.save('heatmap.html')  # Save the map to an HTML file\n",
    "heatmap_map\n"
   ]
  },
  {
   "cell_type": "code",
   "execution_count": null,
   "id": "e8cd4f75",
   "metadata": {},
   "outputs": [],
   "source": [
    "# Plot scatter points for the persons\n",
    "plot_scatter_persons(person_1_df_updated, person_3_df_updated)\n",
    "\n",
    "# Create a heatmap for the persons\n",
    "heatmap_map = create_heatmap(person_1_df_updated, person_3_df_updated)\n",
    "\n",
    "# Display the heatmap\n",
    "# heatmap_map.save('heatmap.html')  # Save the map to an HTML file\n",
    "heatmap_map"
   ]
  },
  {
   "cell_type": "code",
   "execution_count": null,
   "id": "6e801708",
   "metadata": {},
   "outputs": [],
   "source": [
    "# Plot scatter points for the persons\n",
    "plot_scatter_persons(person_1_df_updated, person_2_df_updated)\n",
    "\n",
    "# Create a heatmap for the persons\n",
    "heatmap_map = create_heatmap(person_1_df_updated, person_2_df_updated)\n",
    "\n",
    "# Display the heatmap\n",
    "# heatmap_map.save('heatmap.html')  # Save the map to an HTML file\n",
    "heatmap_map"
   ]
  },
  {
   "cell_type": "markdown",
   "id": "99643783",
   "metadata": {},
   "source": [
    "### задание 1.2. Ввести метрику социальной активности - она должна учитывать количество мест, которое посетил пользователь, как далеко они друг от друга и как долго человек оставался там - метрика должна позволять сравнивать пользователей и находить наиболее активных"
   ]
  },
  {
   "cell_type": "markdown",
   "id": "9521c21a",
   "metadata": {},
   "source": [
    "To define a social activity metric, I'll consider the following factors:\n",
    "\n",
    "### Number of Places Visited (NPV):\n",
    "Represents the total number of unique places the person has visited.\n",
    "### Average Distance Between Places (ADBP):\n",
    "Represents the average distance between consecutive places visited by the user. This gives an indication of how far they travel between destinations.\n",
    "### Average Duration at Places (ADAP):\n",
    "Represents the average time spent at each location.\n",
    "### The Social Activity Metric (SAM) can be formulated as:\n",
    "\n",
    "SAM =\n",
    "NPV\n",
    "+\n",
    "ADBP\n",
    "+\n",
    "ADAP\n",
    "\n"
   ]
  },
  {
   "cell_type": "code",
   "execution_count": null,
   "id": "3407752d",
   "metadata": {},
   "outputs": [],
   "source": [
    "# Order the DataFrame by SAM from highest to lowest and return the result\n",
    "social_activity_metric_v1 = calculate_social_activity_metric_v1(dataframes_dict)\n",
    "social_activity_metric_v1 = social_activity_metric_v1.sort_values(by='SAM', ascending=False).reset_index(drop=True)\n",
    "social_activity_metric_v1"
   ]
  },
  {
   "cell_type": "markdown",
   "id": "003b06e3",
   "metadata": {},
   "source": [
    "Person 2 appears to be the most socially active, with the highest SAM value of 450.39.\n",
    "Person 1 follows closely behind with a SAM value of 445.36.\n",
    "Person 3 has the lowest SAM value of 314.79."
   ]
  },
  {
   "cell_type": "markdown",
   "id": "ab1d81bd",
   "metadata": {},
   "source": [
    "# SAM\n",
    "$ SAM = NPV × f(ADBP, ADAP) $\n",
    "\n",
    "## Where:\n",
    "$ f(ADBP, ADAP) $ is a function that gives the average weight of a place using the Average Distance Between Places (ADBP) and the Average Duration at Places (ADAP).\n",
    "\n",
    "## Definition of f:\n",
    "One possible definition of f is the harmonic mean of ADBP and ADAP:\n",
    "$$ f(ADBP, ADAP) = \\frac{2 × ADBP × ADAP}{ADBP + ADAP} $$\n",
    "\n",
    "The harmonic mean gives a balanced weight to both ADBP and ADAP. If one of them is very small while the other is large, the harmonic mean will be closer to the smaller value. This ensures that both the distance between places and the duration at places have an influential role in determining the weight of a place.\n"
   ]
  },
  {
   "cell_type": "code",
   "execution_count": null,
   "id": "055c5445",
   "metadata": {},
   "outputs": [],
   "source": [
    "social_activity_metric_v2 = calculate_social_activity_metric_v2(dataframes_dict)\n",
    "social_activity_metric_v2 = social_activity_metric_v2.sort_values(by='SAM', ascending=False).reset_index(drop=True)\n",
    "social_activity_metric_v2"
   ]
  },
  {
   "cell_type": "code",
   "execution_count": null,
   "id": "0d33e5e1",
   "metadata": {},
   "outputs": [],
   "source": [
    "# Extract day of the week and hour of the day separately and then join them\n",
    "person_1_temporal = extract_temporal_features(dataframes_dict['person_1_df_updated'])\n",
    "person_2_temporal = extract_temporal_features(dataframes_dict['person_2_df_updated'])\n",
    "person_3_temporal = extract_temporal_features(dataframes_dict['person_3_df_updated'])"
   ]
  },
  {
   "cell_type": "markdown",
   "id": "d77f1469",
   "metadata": {},
   "source": [
    "## Plotting\n",
    "### By day of the week"
   ]
  },
  {
   "cell_type": "code",
   "execution_count": null,
   "id": "82f20365",
   "metadata": {},
   "outputs": [],
   "source": [
    "plot_daywise_activity_with_mean(person_1_temporal, 'Person 1')\n",
    "plot_daywise_activity_with_mean(person_2_temporal, 'Person 2')\n",
    "plot_daywise_activity_with_mean(person_3_temporal, 'Person 3')"
   ]
  },
  {
   "cell_type": "markdown",
   "id": "135e52c0",
   "metadata": {},
   "source": [
    "### By time of the day"
   ]
  },
  {
   "cell_type": "code",
   "execution_count": null,
   "id": "330b3020",
   "metadata": {},
   "outputs": [],
   "source": [
    "person_1_part_of_day = extract_part_of_day_features(dataframes_dict['person_1_df_updated'])\n",
    "person_2_part_of_day = extract_part_of_day_features(dataframes_dict['person_2_df_updated'])\n",
    "person_3_part_of_day = extract_part_of_day_features(dataframes_dict['person_3_df_updated'])\n",
    "\n",
    "plot_activity_by_part_of_day(person_1_part_of_day, 'Person 1')\n",
    "plot_activity_by_part_of_day(person_2_part_of_day, 'Person 2')\n",
    "plot_activity_by_part_of_day(person_3_part_of_day, 'Person 3')"
   ]
  },
  {
   "cell_type": "markdown",
   "id": "4626dea5",
   "metadata": {},
   "source": [
    "## Another option to calculate sam using day specification"
   ]
  },
  {
   "cell_type": "code",
   "execution_count": null,
   "id": "8bede03c",
   "metadata": {},
   "outputs": [],
   "source": [
    "PARTS_OF_DAY = {\n",
    "    \"Early Morning\": (0, 6, 0.5),\n",
    "    \"Morning\": (6, 12, 1),\n",
    "    \"Afternoon\": (12, 17, 1.5),\n",
    "    \"Evening\": (17, 21, 2),\n",
    "    \"Night\": (21, 24, 1)\n",
    "}\n",
    "\n",
    "# Calculate the weighted SAM for each user and store the results in a dictionary\n",
    "weighted_sam_dict = {}\n",
    "for person, df in processed_dataframes.items():\n",
    "    weighted_sam_dict[person] = calculate_weighted_sam(df)\n",
    "\n",
    "weighted_sam_dict"
   ]
  },
  {
   "cell_type": "markdown",
   "id": "89dfaa66",
   "metadata": {},
   "source": [
    "'person_2 >> person_3 >> person_1'"
   ]
  },
  {
   "cell_type": "code",
   "execution_count": null,
   "id": "21aea735",
   "metadata": {},
   "outputs": [],
   "source": [
    "PARTS_OF_DAY = {\n",
    "    'early_morning': (0, 6),\n",
    "    'morning': (6, 12),\n",
    "    'afternoon': (12, 17),\n",
    "    'evening': (17, 21),\n",
    "    'night': (21, 24)\n",
    "}\n",
    "\n",
    "WEIGHTS = {\n",
    "    'early_morning': 0.5,\n",
    "    'morning': 1,\n",
    "    'afternoon': 1.5,\n",
    "    'evening': 2,\n",
    "    'night': 0.5\n",
    "}\n",
    "\n",
    "modified_sam_values = {}\n",
    "\n",
    "for person, df in processed_dataframes.items():\n",
    "    metrics = calculate_social_activity_metric_weighted(df, WEIGHTS)\n",
    "    modified_sam_values[person] = metrics\n",
    "\n",
    "# Convert results to a DataFrame for better visualization\n",
    "modified_sam_df = pd.DataFrame(modified_sam_values).T\n",
    "\n",
    "modified_sam_df"
   ]
  },
  {
   "cell_type": "code",
   "execution_count": null,
   "id": "8befcd83",
   "metadata": {},
   "outputs": [],
   "source": [
    "# Calculate the modified SAM for each person using harmonic mean\n",
    "modified_sam_harmonic_df = calculate_social_activity_metric_harmonic_v2(processed_dataframes, WEIGHTS)\n",
    "modified_sam_harmonic_df"
   ]
  },
  {
   "cell_type": "markdown",
   "id": "3ee5268c",
   "metadata": {},
   "source": [
    "## Check if clients know each other"
   ]
  },
  {
   "cell_type": "code",
   "execution_count": null,
   "id": "eb875e1b",
   "metadata": {},
   "outputs": [],
   "source": [
    "# Check for overlaps between each pair of users using the optimized function\n",
    "overlap_counts_v4 = {}\n",
    "for i in range(1, len(processed_dataframes) + 1):\n",
    "    for j in range(i + 1, len(processed_dataframes) + 1):\n",
    "        overlap_counts_v4[f'Person_{i}_Person_{j}'] = location_and_time_overlap_count_rtree(\n",
    "            processed_dataframes[f'person_{i}_df_updated'], \n",
    "            processed_dataframes[f'person_{j}_df_updated']\n",
    "        )\n",
    "\n",
    "overlap_counts_v4"
   ]
  },
  {
   "cell_type": "markdown",
   "id": "5fdeaac9",
   "metadata": {},
   "source": [
    "Person 3 and 2 defenitely know each other because they have 58 1 meter overlaps that was for at leas 1 minute long =>\n",
    "That wasn't coincidence of any sort "
   ]
  },
  {
   "cell_type": "markdown",
   "id": "18d1fb45",
   "metadata": {},
   "source": [
    "If users are related, that could be usefull for banking industry for example to make \n",
    "models as PD/LGD. Users with high credit risks would probably communicate with thouth who have high  risk and\n",
    "vice a verca"
   ]
  },
  {
   "cell_type": "markdown",
   "id": "a77bced0",
   "metadata": {},
   "source": [
    "## Add external data from OpenStreetMap"
   ]
  },
  {
   "cell_type": "code",
   "execution_count": null,
   "id": "0b2a6a71",
   "metadata": {},
   "outputs": [],
   "source": [
    "# Path to the saved POIs file\n",
    "pois_file_path = 'Data/Processed/amsterdam_pois.geojson'\n",
    "\n",
    "# Read the GeoJSON file into a GeoDataFrame\n",
    "pois_gdf = gpd.read_file(pois_file_path)\n",
    "\n",
    "# Display the first few rows of the GeoDataFrame\n",
    "print(pois_gdf.head())\n"
   ]
  },
  {
   "cell_type": "code",
   "execution_count": null,
   "id": "e83e8712",
   "metadata": {},
   "outputs": [],
   "source": [
    "# Get the naturalearth_lowres dataset\n",
    "world = gpd.read_file(gpd.datasets.get_path('naturalearth_lowres'))\n",
    "\n",
    "# Filter for Netherlands\n",
    "netherlands = world[world['name'] == \"Netherlands\"]\n",
    "\n",
    "# Plot\n",
    "fig, ax = plt.subplots(figsize=(10, 10))\n",
    "netherlands.plot(ax=ax, color='lightgrey', edgecolor='black')\n",
    "gdf.plot(ax=ax, markersize=5, color='red')\n",
    "ax.set_title(\"POIs in Amsterdam\")\n",
    "plt.show()"
   ]
  },
  {
   "cell_type": "code",
   "execution_count": null,
   "id": "d7c4061b",
   "metadata": {},
   "outputs": [],
   "source": [
    "# Extract 'amenity' from the 'tags' column and create a new 'amenity' column in the dataframe\n",
    "pois_gdf['amenity'] = pois_gdf['tags'].apply(lambda x: x.get('amenity', None))\n",
    "# Convert latitude and longitude to geometry\n",
    "person_1_gdf = gpd.GeoDataFrame(processed_dataframes['person_1_df_updated'], \n",
    "                                geometry=gpd.points_from_xy(processed_dataframes['person_1_df_updated'].longitude, \n",
    "                                                            processed_dataframes['person_1_df_updated'].latitude))"
   ]
  },
  {
   "cell_type": "code",
   "execution_count": null,
   "id": "8113935f",
   "metadata": {},
   "outputs": [],
   "source": [
    "# Calculate the enhanced SAM for person 1\n",
    "enhanced_sam_person_1 = calculate_enhanced_sam(person_1_gdf, pois_gdf,distance_threshold=1)\n",
    "enhanced_sam_person_2 = calculate_enhanced_sam(person_2_gdf, pois_gdf,distance_threshold=1)\n",
    "enhanced_sam_person_3 = calculate_enhanced_sam(person_3_gdf, pois_gdf,distance_threshold=1)\n",
    "print(enhanced_sam_person_1, enhanced_sam_person_2, enhanced_sam_person_3)"
   ]
  },
  {
   "cell_type": "code",
   "execution_count": null,
   "id": "e2b95576",
   "metadata": {},
   "outputs": [],
   "source": [
    "#And less preciese \n",
    "enhanced_sam_person_1_optimized = calculate_enhanced_sam_optimized(person_1_gdf, pois_gdf,distance_threshold=1)\n",
    "enhanced_sam_person_2_optimized = calculate_enhanced_sam_optimized(person_2_gdf, pois_gdf,distance_threshold=1)\n",
    "enhanced_sam_person_3_optimized = calculate_enhanced_sam_optimized(person_3_gdf, pois_gdf,distance_threshold=1)"
   ]
  },
  {
   "cell_type": "markdown",
   "id": "913bc753",
   "metadata": {},
   "source": [
    "Based on all this calculations we could understand that Second person is more active than first one\n",
    "and third one is less active, despite have quite similar life balance as second one"
   ]
  },
  {
   "cell_type": "code",
   "execution_count": null,
   "id": "1fbf5f60",
   "metadata": {},
   "outputs": [],
   "source": [
    "enhanced_sam_person_1 = calculate_enhanced_sam(person_1_gdf, pois_gdf)\n",
    "enhanced_sam_person_2 = calculate_enhanced_sam(person_2_gdf, pois_gdf)\n",
    "enhanced_sam_person_3 = calculate_enhanced_sam(person_3_gdf, pois_gdf)\n",
    "print(enhanced_sam_person_1, enhanced_sam_person_2, enhanced_sam_person_3)"
   ]
  },
  {
   "cell_type": "markdown",
   "id": "a8834af1",
   "metadata": {},
   "source": [
    "But based on harmonic mean of all our variables we again have first one is more socially active "
   ]
  },
  {
   "cell_type": "markdown",
   "id": "7ac46b5f",
   "metadata": {},
   "source": [
    "## Final results\n",
    "### 1.1 Посещали пользователи одинаковые места? Знают ли они друг друга?\n",
    "All 3 personc visited same places, but relationthisp could be established only between 2 and 3, nevertheless \n",
    "that 1 visit similar points on map could be usefull for some modelling or marketing actions.\n",
    "### 1.2 Ввести метрику социальной активности - она должна учитывать количество мест, которое посетил пользователь, как далеко они друг от друга и как долго человек оставался там - метрика должна позволять сравнивать пользователей и находить наиболее активных\n",
    "Depends on method we use most active clients if as folows 2 3 1 if we not using outer data \n",
    "If we use external data user 2 1 3 is most active, because 3 don't visit points of interests as bars, cinemas\n",
    "If we use distance as one of the main metrics (i think it's not useful because he trevelling from different city to \n",
    "AMSTERDAM) 1 2 3 are most socially active"
   ]
  },
  {
   "cell_type": "code",
   "execution_count": null,
   "id": "262986aa",
   "metadata": {},
   "outputs": [],
   "source": []
  }
 ],
 "metadata": {
  "kernelspec": {
   "display_name": "Python 3 (ipykernel)",
   "language": "python",
   "name": "python3"
  },
  "language_info": {
   "codemirror_mode": {
    "name": "ipython",
    "version": 3
   },
   "file_extension": ".py",
   "mimetype": "text/x-python",
   "name": "python",
   "nbconvert_exporter": "python",
   "pygments_lexer": "ipython3",
   "version": "3.9.7"
  }
 },
 "nbformat": 4,
 "nbformat_minor": 5
}
