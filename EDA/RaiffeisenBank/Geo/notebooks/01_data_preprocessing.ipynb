{
 "cells": [
  {
   "cell_type": "code",
   "execution_count": null,
   "id": "c45c9f59",
   "metadata": {},
   "outputs": [],
   "source": [
    "import sqlite3\n",
    "import pandas as pd\n",
    "import os\n",
    "from src.data_preprocessing import get_data_from_db_or_csv  # Assuming the function is in this file"
   ]
  },
  {
   "cell_type": "code",
   "execution_count": null,
   "id": "d8fb757e",
   "metadata": {},
   "outputs": [],
   "source": [
    "# Connect to a database file instead of an in-memory database\n",
    "conn = sqlite3.connect('/data/raw/my_database.db')  # This will create or open a file `my_database.db` in the `/data/` directory\n",
    "cursor = conn.cursor()"
   ]
  },
  {
   "cell_type": "code",
   "execution_count": null,
   "id": "68a80b99",
   "metadata": {},
   "outputs": [],
   "source": [
    "# The base directory where the CSV files are located\n",
    "base_csv_dir = 'data/csv/'\n",
    "\n",
    "# Initialize an empty list to hold all dataframes\n",
    "all_dfs = []\n",
    "\n",
    "# Loop to load CSV files\n",
    "idx = 1\n",
    "while True:\n",
    "    file_name = os.path.join(base_csv_dir, f\"person.{idx}.csv\")\n",
    "    if not os.path.exists(file_name):\n",
    "        break  # Exit loop if file does not exist\n",
    "    \n",
    "    # Retrieve data using our custom function\n",
    "    # This function will try to get data from the database first,\n",
    "    # and if not found, will fall back to the CSV file\n",
    "    df = get_data_from_db_or_csv(person_id=idx, conn=conn, csv_filename=file_name)\n",
    "    \n",
    "    # Append the dataframe to the list\n",
    "    all_dfs.append(df)\n",
    "    \n",
    "    idx += 1\n",
    "\n",
    "# Concatenate all loaded DataFrames into one\n",
    "all_persons_df = pd.concat(all_dfs, ignore_index=True)"
   ]
  },
  {
   "cell_type": "code",
   "execution_count": null,
   "id": "77e578b3",
   "metadata": {},
   "outputs": [],
   "source": [
    "\n",
    "\n",
    "# Insert the concatenated DataFrame into the 'all_persons' table in the database\n",
    "all_persons_df.to_sql('all_persons', conn, index=False)\n",
    "\n",
    "# Note: We are not closing the connection here as we want to use it later in the notebook.\n"
   ]
  },
  {
   "cell_type": "code",
   "execution_count": null,
   "id": "76ffce68",
   "metadata": {},
   "outputs": [],
   "source": [
    "# If all data is utilised we can close connection\n",
    "# Close the database connection\n",
    "conn.close()"
   ]
  }
 ],
 "metadata": {
  "kernelspec": {
   "display_name": "Python 3 (ipykernel)",
   "language": "python",
   "name": "python3"
  },
  "language_info": {
   "codemirror_mode": {
    "name": "ipython",
    "version": 3
   },
   "file_extension": ".py",
   "mimetype": "text/x-python",
   "name": "python",
   "nbconvert_exporter": "python",
   "pygments_lexer": "ipython3",
   "version": "3.9.7"
  }
 },
 "nbformat": 4,
 "nbformat_minor": 5
}
