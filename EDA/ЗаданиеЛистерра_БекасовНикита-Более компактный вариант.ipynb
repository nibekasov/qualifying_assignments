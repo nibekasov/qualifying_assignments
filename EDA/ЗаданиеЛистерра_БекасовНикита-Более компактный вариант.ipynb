{
 "cells": [
  {
   "cell_type": "markdown",
   "metadata": {},
   "source": [
    "1) Показать ТОП-5 самых продаваемых гербицидов/фунгицидов/инсектицидов по площади обработки в 2015-2020 гг. с разбивкой по годам (*найти их состав).\n",
    "\n",
    "2) Показать среднюю стоимость обработки гербицидами, фунгицидами и инсектицидами 1 га зерновых в 2015-2020 гг. с разбивкой по годам.\n",
    "\n",
    "3) Показать ТОП-5 самых дорогих гербицидов/фунгицидов/инсектицидов в 2015-2020 гг. с разбивкой по годам (*найти текущие цены на данные продукты).\n",
    "\n",
    "4) Показать динамику применения гербицидов/фунгицидов/инсектицидов в 2015-2020 гг. по площади и по количеству.\n",
    "\n",
    "5) По ТОП-5 самых продаваемых гербицидов/фунгицидов/инсектицидов в 2020 году найти, есть ли корреляция между ценой и продаваемым количеством."
   ]
  },
  {
   "cell_type": "code",
   "execution_count": 7,
   "metadata": {},
   "outputs": [],
   "source": [
    "import pandas as pd;"
   ]
  },
  {
   "cell_type": "code",
   "execution_count": 3,
   "metadata": {},
   "outputs": [],
   "source": [
    "File_path = 'C:/Users/User/Downloads/Пестициды на зерновые_тестовое задание.xlsx'"
   ]
  },
  {
   "cell_type": "markdown",
   "metadata": {},
   "source": [
    "# Финализируем решение"
   ]
  },
  {
   "cell_type": "code",
   "execution_count": 4,
   "metadata": {},
   "outputs": [],
   "source": [
    "type_list = ['herbicide','Fungicide','Insecticides']"
   ]
  },
  {
   "cell_type": "code",
   "execution_count": 5,
   "metadata": {},
   "outputs": [],
   "source": [
    "for ii in range(len(type_list)):\n",
    "    typ = type_list[ii]\n",
    "    \n",
    "    \n",
    "    xl = pd.ExcelFile(File_path)\n",
    "    xll = xl.sheet_names \n",
    "    data = pd.read_excel(File_path,sheet_name=xll[ii],skiprows=[0,1])\n",
    "\n",
    "    data.head()\n",
    "    df1= pd.DataFrame(data['Unnamed: 0'][1:])\n",
    "\n",
    "    dataclass = data.iloc[0].dropna().unique()\n",
    "\n",
    "    k = len(data) - 1\n",
    "\n",
    "    d = {} #Создаем словарь в котором будем хранить датафреймы, с разбивкой dataclass\n",
    "    for i in range(len(dataclass)):\n",
    "\n",
    "        x = dataclass[i]\n",
    "        datat = data.iloc[:, i*6+1:i*6+7][1:]\n",
    "        d[\"{0}\".format(x)] = datat.rename(columns=datat.iloc[0]).fillna(0)\n",
    "        # Заменим пропущенные значения на 0, так как потом это все равно придётся делать \n",
    "\n",
    "    S = df1.join(d['Площадь обработки, тыс. га']).fillna(0)\n",
    "\n",
    "    dST = {} #Создаем словарь в котором будем хранить датафреймы, с разбивкой dataclass\n",
    "    for i in range(len(dataclass)):\n",
    "\n",
    "        x = dataclass[i]\n",
    "        datat = data.iloc[:, i*6+1:i*6+7][1:]\n",
    "        d[\"{0}\".format(x)] = datat.rename(columns=datat.iloc[0]).fillna(0)\n",
    "        # Заменим пропущенные значения на 0, так как потом это все равно придётся делать \n",
    "\n",
    "\n",
    "    for i in range(6):\n",
    "        x = 2015 + i\n",
    "        SalesTop = S.iloc[:, [0, i+1]][2:-1].set_axis(['Brand', 'Value'], axis=1, inplace=False).sort_values(by=['Value'],ascending=False)[:5].reset_index(drop=True)\n",
    "        dST[\"{0}\".format(x)] = SalesTop.rename(columns=datat.iloc[0]).fillna(0)\n",
    "\n",
    "\n",
    "    SAgg = d[dataclass[1]].loc[[k][:]].set_axis(['2015', '2016', '2017', '2018', '2019', '2020'], axis=1, inplace=False) \n",
    "    PAgg = d[dataclass[2]].loc[[k][:]].set_axis(['2015', '2016', '2017', '2018', '2019', '2020'], axis=1, inplace=False) \n",
    "\n",
    "    AP = PAgg/SAgg\n",
    "    AP\n",
    "\n",
    "    #Динамика средних цен в миллионах рублей на обработку одного гектара\n",
    "\n",
    "    SAgg = d[dataclass[1]].loc[2:k,:].set_axis(['2015', '2016', '2017', '2018', '2019', '2020'], axis=1, inplace=False).reset_index(drop=True).fillna(0) \n",
    "    PAgg = d[dataclass[2]].loc[2:k,:].set_axis(['2015', '2016', '2017', '2018', '2019', '2020'], axis=1, inplace=False).reset_index(drop=True).fillna(0)\n",
    "\n",
    "    #Динамика средних цен в миллионах рублей на обработку одного гектара\n",
    "    ans= PAgg/SAgg\n",
    "\n",
    "    ansn = df1.loc[2:k,:].join(ans).fillna(0)\n",
    "\n",
    "\n",
    "    dE = {} #Создаем словарь в котором будем хранить датафреймы, с разбивкой dataclass\n",
    "\n",
    "\n",
    "    for i in range(6):\n",
    "        x = 2015 + i\n",
    "        Expensive = ansn.iloc[:, [0, i+1]][2:-1].set_axis(['Brand', 'Value'], axis=1, inplace=False).sort_values(by=['Value'],ascending=False)[:5].reset_index(drop=True)\n",
    "        dE[\"{0}\".format(x)] = SalesTop.rename(columns=datat.iloc[0]).fillna(0)\n",
    "\n",
    "\n",
    "    dynamicsValue = d[dataclass[0]].loc[[k][:]].set_axis(['2015', '2016', '2017', '2018', '2019', '2020'], axis=1, inplace=False).reset_index(drop=True) \n",
    "    #Динамика по колличеству купленных, в тоннах\n",
    "    dynamicsArea =  d[dataclass[1]].loc[[k][:]].set_axis(['2015', '2016', '2017', '2018', '2019', '2020'], axis=1, inplace=False).reset_index(drop=True) \n",
    "    #Динамика по площади обработки, в тысячах гектаров\n",
    "\n",
    "\n",
    "\n",
    "    S2020 = S.iloc[:, [0, 5]][2:-1].set_axis(['Brand', 'Value'], axis=1, inplace=False).sort_values(by=['Value'],ascending=False)[:5]\n",
    "    Profit = df1.join(d['Выручка, млн. руб.']).fillna(0)\n",
    "    Profit2020 = Profit.iloc[:, [0, 6]]\n",
    "    ProfitValue = S2020.join(Profit2020).iloc[:, [0, 1,3]].set_axis(['Brand', 'Value','Profit'], axis=1, inplace=False)\n",
    "\n",
    "\n",
    "    PVC = ProfitValue.corr()\n",
    "    # Корелляция пирсона объема и дохода ~0.78 - значит она есть\n",
    "    \n",
    "    \n",
    "    \n",
    "    \n",
    "    with pd.ExcelWriter(f'C:/Users/User/Downloads/Lysterra_Task{typ}.xlsx') as writer: # Переводим в Excel, что бы можно было удобно смотреть менеджерам\n",
    "\n",
    "            \n",
    "            for df_name, df in dST.items():\n",
    "                df.to_excel(writer, sheet_name= f'{typ}_{df_name}_ST') # 1\n",
    "\n",
    "            AP.to_excel(writer, sheet_name= f'{typ}_AvPrice') # 2\n",
    "\n",
    "            for df_name, df in dE.items():\n",
    "                df.to_excel(writer, sheet_name= f'{typ}_{df_name}_MostExpensive')#3\n",
    "\n",
    "            dynamicsValue.to_excel(writer, sheet_name= f'{typ}_DynamicsValue')#4\n",
    "            dynamicsArea.to_excel(writer, sheet_name= f'{typ}_DynamicsArea')#4\n",
    "\n",
    "            PVC.to_excel(writer, sheet_name= f'{typ}_Correlation')#5"
   ]
  },
  {
   "cell_type": "code",
   "execution_count": 6,
   "metadata": {},
   "outputs": [],
   "source": [
    "# Тоже самое можно сделать и в одной ячейке "
   ]
  }
 ],
 "metadata": {
  "kernelspec": {
   "display_name": "Python 3",
   "language": "python",
   "name": "python3"
  },
  "language_info": {
   "codemirror_mode": {
    "name": "ipython",
    "version": 3
   },
   "file_extension": ".py",
   "mimetype": "text/x-python",
   "name": "python",
   "nbconvert_exporter": "python",
   "pygments_lexer": "ipython3",
   "version": "3.8.3"
  }
 },
 "nbformat": 4,
 "nbformat_minor": 4
}
