{
 "cells": [
  {
   "cell_type": "code",
   "execution_count": 54,
   "metadata": {},
   "outputs": [],
   "source": [
    "import warnings\n",
    "warnings.filterwarnings('ignore')\n",
    "\n",
    "import os\n",
    "import pandas as pd\n",
    "import numpy as np"
   ]
  },
  {
   "cell_type": "code",
   "execution_count": 55,
   "metadata": {},
   "outputs": [],
   "source": [
    "DownloadsPath = 'C:/Users/User/Downloads/'\n",
    "FileName = 'Задание (данные)'\n",
    "FileType = 'xlsx'\n",
    "File_path = f\"{DownloadsPath}{FileName}.{FileType}\""
   ]
  },
  {
   "cell_type": "code",
   "execution_count": 56,
   "metadata": {},
   "outputs": [],
   "source": [
    "data = pd.read_excel(File_path)"
   ]
  },
  {
   "cell_type": "code",
   "execution_count": 59,
   "metadata": {},
   "outputs": [
    {
     "data": {
      "text/html": [
       "<div>\n",
       "<style scoped>\n",
       "    .dataframe tbody tr th:only-of-type {\n",
       "        vertical-align: middle;\n",
       "    }\n",
       "\n",
       "    .dataframe tbody tr th {\n",
       "        vertical-align: top;\n",
       "    }\n",
       "\n",
       "    .dataframe thead th {\n",
       "        text-align: right;\n",
       "    }\n",
       "</style>\n",
       "<table border=\"1\" class=\"dataframe\">\n",
       "  <thead>\n",
       "    <tr style=\"text-align: right;\">\n",
       "      <th></th>\n",
       "      <th>Client ID</th>\n",
       "      <th>Profit</th>\n",
       "    </tr>\n",
       "  </thead>\n",
       "  <tbody>\n",
       "    <tr>\n",
       "      <th>1</th>\n",
       "      <td>43</td>\n",
       "      <td>633.9</td>\n",
       "    </tr>\n",
       "    <tr>\n",
       "      <th>2</th>\n",
       "      <td>257</td>\n",
       "      <td>406.61</td>\n",
       "    </tr>\n",
       "    <tr>\n",
       "      <th>3</th>\n",
       "      <td>477</td>\n",
       "      <td>382.2</td>\n",
       "    </tr>\n",
       "    <tr>\n",
       "      <th>4</th>\n",
       "      <td>754</td>\n",
       "      <td>331.25</td>\n",
       "    </tr>\n",
       "    <tr>\n",
       "      <th>5</th>\n",
       "      <td>825</td>\n",
       "      <td>456.01</td>\n",
       "    </tr>\n",
       "  </tbody>\n",
       "</table>\n",
       "</div>"
      ],
      "text/plain": [
       "0 Client ID  Profit\n",
       "1        43   633.9\n",
       "2       257  406.61\n",
       "3       477   382.2\n",
       "4       754  331.25\n",
       "5       825  456.01"
      ]
     },
     "execution_count": 59,
     "metadata": {},
     "output_type": "execute_result"
    }
   ],
   "source": [
    "NoPresentation = data[['No Presentation','Unnamed: 1']]\n",
    "Presentation = data[['Presentation','Unnamed: 4']]\n",
    "\n",
    "\n",
    "NoPresentation.columns = NoPresentation.iloc[0]\n",
    "NoPresentation = NoPresentation[1:]\n",
    "\n",
    "Presentation.columns = Presentation.iloc[0]\n",
    "Presentation = Presentation[1:]\n",
    "Presentation  = Presentation.dropna()\n",
    "\n",
    "Presentation.head()"
   ]
  },
  {
   "cell_type": "markdown",
   "metadata": {},
   "source": [
    "### Убираем выбросы"
   ]
  },
  {
   "cell_type": "code",
   "execution_count": 60,
   "metadata": {},
   "outputs": [],
   "source": [
    "def remove_outliers(df,columns,n_std):\n",
    "    for col in columns:\n",
    "        #print('Working on column: {}'.format(col))\n",
    "        \n",
    "        mean = df[col].mean()\n",
    "        sd = df[col].std()\n",
    "        \n",
    "        df = df[(df[col] <= mean+(n_std*sd))]\n",
    "    return df"
   ]
  },
  {
   "cell_type": "code",
   "execution_count": 63,
   "metadata": {},
   "outputs": [
    {
     "name": "stdout",
     "output_type": "stream",
     "text": [
      "583.112037735849 547.1930567685589\n"
     ]
    }
   ],
   "source": [
    "PresentationOutliers = remove_outliers(Presentation,['Profit'],3)\n",
    "NoPresentationOutliers = remove_outliers(NoPresentation,['Profit'],3)\n",
    "\n",
    "PM = PresentationOutliers.Profit.mean()\n",
    "PN = PresentationOutliers.shape[0]\n",
    "PD =PresentationOutliers.Profit.std()\n",
    "\n",
    "NPM = NoPresentationOutliers.Profit.mean()\n",
    "NPD = NoPresentationOutliers.Profit.std()\n",
    "NPN = PresentationOutliers.shape[0]\n",
    "\n",
    "print(NPM, PM)"
   ]
  },
  {
   "cell_type": "markdown",
   "metadata": {},
   "source": [
    "Убранные выбросы не повлияли на среднее значение. А значит и наш вывод не меняется - ищем другие причины "
   ]
  },
  {
   "cell_type": "markdown",
   "metadata": {},
   "source": [
    "## Нужно проверить 2 гипотезы: \n",
    "1. Нет стат.значимого эффекта и значит презентация не имела не положительно, не отрицатлеьного эффекта\n",
    "2. Эффект есть, но изначальная выборка была не репрезентативна"
   ]
  },
  {
   "cell_type": "code",
   "execution_count": 22,
   "metadata": {},
   "outputs": [],
   "source": [
    "Z = (NPM-PM) / (np.sqrt(NPM**2/NPN) + np.sqrt(PM**2/PN))"
   ]
  },
  {
   "cell_type": "code",
   "execution_count": 23,
   "metadata": {},
   "outputs": [
    {
     "data": {
      "text/plain": [
       "0.48089035112626205"
      ]
     },
     "execution_count": 23,
     "metadata": {},
     "output_type": "execute_result"
    }
   ],
   "source": [
    "Z"
   ]
  },
  {
   "cell_type": "markdown",
   "metadata": {},
   "source": [
    "Так как Z < 1,64 то можно с уверенностью заявить, что статзначимого эффекта нет и по крайней мере наше общение с клиентами не повредило нашим продажам\n",
    "Проверяли на 95% уровне значимости"
   ]
  },
  {
   "cell_type": "code",
   "execution_count": 64,
   "metadata": {},
   "outputs": [
    {
     "data": {
      "text/html": [
       "<div>\n",
       "<style scoped>\n",
       "    .dataframe tbody tr th:only-of-type {\n",
       "        vertical-align: middle;\n",
       "    }\n",
       "\n",
       "    .dataframe tbody tr th {\n",
       "        vertical-align: top;\n",
       "    }\n",
       "\n",
       "    .dataframe thead th {\n",
       "        text-align: right;\n",
       "    }\n",
       "</style>\n",
       "<table border=\"1\" class=\"dataframe\">\n",
       "  <thead>\n",
       "    <tr style=\"text-align: right;\">\n",
       "      <th></th>\n",
       "      <th>Client ID</th>\n",
       "      <th>Age</th>\n",
       "      <th>Gender</th>\n",
       "      <th>Monthly Income</th>\n",
       "    </tr>\n",
       "  </thead>\n",
       "  <tbody>\n",
       "    <tr>\n",
       "      <th>0</th>\n",
       "      <td>43</td>\n",
       "      <td>37</td>\n",
       "      <td>M</td>\n",
       "      <td>3905.48</td>\n",
       "    </tr>\n",
       "    <tr>\n",
       "      <th>1</th>\n",
       "      <td>137</td>\n",
       "      <td>37</td>\n",
       "      <td>M</td>\n",
       "      <td>4665.64</td>\n",
       "    </tr>\n",
       "    <tr>\n",
       "      <th>2</th>\n",
       "      <td>257</td>\n",
       "      <td>39</td>\n",
       "      <td>M</td>\n",
       "      <td>4744.88</td>\n",
       "    </tr>\n",
       "    <tr>\n",
       "      <th>3</th>\n",
       "      <td>477</td>\n",
       "      <td>36</td>\n",
       "      <td>M</td>\n",
       "      <td>3815.35</td>\n",
       "    </tr>\n",
       "    <tr>\n",
       "      <th>4</th>\n",
       "      <td>754</td>\n",
       "      <td>31</td>\n",
       "      <td>M</td>\n",
       "      <td>3916.61</td>\n",
       "    </tr>\n",
       "  </tbody>\n",
       "</table>\n",
       "</div>"
      ],
      "text/plain": [
       "   Client ID  Age Gender  Monthly Income\n",
       "0         43   37      M         3905.48\n",
       "1        137   37      M         4665.64\n",
       "2        257   39      M         4744.88\n",
       "3        477   36      M         3815.35\n",
       "4        754   31      M         3916.61"
      ]
     },
     "execution_count": 64,
     "metadata": {},
     "output_type": "execute_result"
    }
   ],
   "source": [
    "data = pd.read_excel(\"C:/Users/User/Downloads/Задание (данные).xlsx\",'Table 2',header=1)\n",
    "data.head()"
   ]
  },
  {
   "cell_type": "code",
   "execution_count": 29,
   "metadata": {},
   "outputs": [
    {
     "data": {
      "text/html": [
       "<div>\n",
       "<style scoped>\n",
       "    .dataframe tbody tr th:only-of-type {\n",
       "        vertical-align: middle;\n",
       "    }\n",
       "\n",
       "    .dataframe tbody tr th {\n",
       "        vertical-align: top;\n",
       "    }\n",
       "\n",
       "    .dataframe thead th {\n",
       "        text-align: right;\n",
       "    }\n",
       "</style>\n",
       "<table border=\"1\" class=\"dataframe\">\n",
       "  <thead>\n",
       "    <tr style=\"text-align: right;\">\n",
       "      <th></th>\n",
       "      <th>Client ID</th>\n",
       "      <th>Age</th>\n",
       "      <th>Monthly Income</th>\n",
       "    </tr>\n",
       "  </thead>\n",
       "  <tbody>\n",
       "    <tr>\n",
       "      <th>count</th>\n",
       "      <td>500.000000</td>\n",
       "      <td>500.000000</td>\n",
       "      <td>500.000000</td>\n",
       "    </tr>\n",
       "    <tr>\n",
       "      <th>mean</th>\n",
       "      <td>48583.270000</td>\n",
       "      <td>37.836000</td>\n",
       "      <td>5178.765960</td>\n",
       "    </tr>\n",
       "    <tr>\n",
       "      <th>std</th>\n",
       "      <td>29867.474223</td>\n",
       "      <td>4.170358</td>\n",
       "      <td>1645.226433</td>\n",
       "    </tr>\n",
       "    <tr>\n",
       "      <th>min</th>\n",
       "      <td>43.000000</td>\n",
       "      <td>30.000000</td>\n",
       "      <td>2062.900000</td>\n",
       "    </tr>\n",
       "    <tr>\n",
       "      <th>25%</th>\n",
       "      <td>22015.750000</td>\n",
       "      <td>34.000000</td>\n",
       "      <td>3991.555000</td>\n",
       "    </tr>\n",
       "    <tr>\n",
       "      <th>50%</th>\n",
       "      <td>48641.000000</td>\n",
       "      <td>38.000000</td>\n",
       "      <td>4935.305000</td>\n",
       "    </tr>\n",
       "    <tr>\n",
       "      <th>75%</th>\n",
       "      <td>73771.750000</td>\n",
       "      <td>42.000000</td>\n",
       "      <td>6069.720000</td>\n",
       "    </tr>\n",
       "    <tr>\n",
       "      <th>max</th>\n",
       "      <td>99744.000000</td>\n",
       "      <td>45.000000</td>\n",
       "      <td>13230.150000</td>\n",
       "    </tr>\n",
       "  </tbody>\n",
       "</table>\n",
       "</div>"
      ],
      "text/plain": [
       "          Client ID         Age  Monthly Income\n",
       "count    500.000000  500.000000      500.000000\n",
       "mean   48583.270000   37.836000     5178.765960\n",
       "std    29867.474223    4.170358     1645.226433\n",
       "min       43.000000   30.000000     2062.900000\n",
       "25%    22015.750000   34.000000     3991.555000\n",
       "50%    48641.000000   38.000000     4935.305000\n",
       "75%    73771.750000   42.000000     6069.720000\n",
       "max    99744.000000   45.000000    13230.150000"
      ]
     },
     "execution_count": 29,
     "metadata": {},
     "output_type": "execute_result"
    }
   ],
   "source": [
    "data.describe()"
   ]
  },
  {
   "cell_type": "markdown",
   "metadata": {},
   "source": [
    "Как видно возрастная группа в целом однородная. Можно предположить, что 30 и 45 летние отличаются не значительно.\n",
    "Хотя можно предположить, что более взрослые получают больший доход в месяц, так что стоило разбивать именно по нему\n",
    "Так же можно предположить, что есть какая-то модель, которая задает доход в зависимости от возраста, вероятно даже не линейно\n",
    "Так же вероятно, что женщины получают меньший доход в месяц, так как у нас нет других вводных кроме возраста и пола, \n",
    "как сфера деятельности, наличие высшего образования, колличество лет опыта"
   ]
  },
  {
   "cell_type": "markdown",
   "metadata": {},
   "source": [
    "# Померджим таблицы друг на друга\n",
    "\n",
    "Что бы можно было сравнить отличаются ли наши выборки"
   ]
  },
  {
   "cell_type": "code",
   "execution_count": 65,
   "metadata": {},
   "outputs": [],
   "source": [
    "PresentationM = data.merge(PresentationOutliers,how='inner', on = 'Client ID')\n",
    "NoPresentationM =  data.merge(NoPresentationOutliers,how='inner', on = 'Client ID')"
   ]
  },
  {
   "cell_type": "code",
   "execution_count": 66,
   "metadata": {},
   "outputs": [
    {
     "data": {
      "text/html": [
       "<div>\n",
       "<style scoped>\n",
       "    .dataframe tbody tr th:only-of-type {\n",
       "        vertical-align: middle;\n",
       "    }\n",
       "\n",
       "    .dataframe tbody tr th {\n",
       "        vertical-align: top;\n",
       "    }\n",
       "\n",
       "    .dataframe thead th {\n",
       "        text-align: right;\n",
       "    }\n",
       "</style>\n",
       "<table border=\"1\" class=\"dataframe\">\n",
       "  <thead>\n",
       "    <tr style=\"text-align: right;\">\n",
       "      <th></th>\n",
       "      <th>Age</th>\n",
       "      <th>Monthly Income</th>\n",
       "    </tr>\n",
       "  </thead>\n",
       "  <tbody>\n",
       "    <tr>\n",
       "      <th>count</th>\n",
       "      <td>229.000000</td>\n",
       "      <td>229.000000</td>\n",
       "    </tr>\n",
       "    <tr>\n",
       "      <th>mean</th>\n",
       "      <td>37.628821</td>\n",
       "      <td>4534.397074</td>\n",
       "    </tr>\n",
       "    <tr>\n",
       "      <th>std</th>\n",
       "      <td>4.160935</td>\n",
       "      <td>1269.195780</td>\n",
       "    </tr>\n",
       "    <tr>\n",
       "      <th>min</th>\n",
       "      <td>30.000000</td>\n",
       "      <td>2062.900000</td>\n",
       "    </tr>\n",
       "    <tr>\n",
       "      <th>25%</th>\n",
       "      <td>34.000000</td>\n",
       "      <td>3666.380000</td>\n",
       "    </tr>\n",
       "    <tr>\n",
       "      <th>50%</th>\n",
       "      <td>38.000000</td>\n",
       "      <td>4377.560000</td>\n",
       "    </tr>\n",
       "    <tr>\n",
       "      <th>75%</th>\n",
       "      <td>41.000000</td>\n",
       "      <td>5255.260000</td>\n",
       "    </tr>\n",
       "    <tr>\n",
       "      <th>max</th>\n",
       "      <td>45.000000</td>\n",
       "      <td>8974.530000</td>\n",
       "    </tr>\n",
       "  </tbody>\n",
       "</table>\n",
       "</div>"
      ],
      "text/plain": [
       "              Age  Monthly Income\n",
       "count  229.000000      229.000000\n",
       "mean    37.628821     4534.397074\n",
       "std      4.160935     1269.195780\n",
       "min     30.000000     2062.900000\n",
       "25%     34.000000     3666.380000\n",
       "50%     38.000000     4377.560000\n",
       "75%     41.000000     5255.260000\n",
       "max     45.000000     8974.530000"
      ]
     },
     "execution_count": 66,
     "metadata": {},
     "output_type": "execute_result"
    }
   ],
   "source": [
    "PresentationM.describe()"
   ]
  },
  {
   "cell_type": "code",
   "execution_count": 67,
   "metadata": {},
   "outputs": [
    {
     "data": {
      "text/html": [
       "<div>\n",
       "<style scoped>\n",
       "    .dataframe tbody tr th:only-of-type {\n",
       "        vertical-align: middle;\n",
       "    }\n",
       "\n",
       "    .dataframe tbody tr th {\n",
       "        vertical-align: top;\n",
       "    }\n",
       "\n",
       "    .dataframe thead th {\n",
       "        text-align: right;\n",
       "    }\n",
       "</style>\n",
       "<table border=\"1\" class=\"dataframe\">\n",
       "  <thead>\n",
       "    <tr style=\"text-align: right;\">\n",
       "      <th></th>\n",
       "      <th>Age</th>\n",
       "      <th>Monthly Income</th>\n",
       "    </tr>\n",
       "  </thead>\n",
       "  <tbody>\n",
       "    <tr>\n",
       "      <th>count</th>\n",
       "      <td>269.000000</td>\n",
       "      <td>269.000000</td>\n",
       "    </tr>\n",
       "    <tr>\n",
       "      <th>mean</th>\n",
       "      <td>37.996283</td>\n",
       "      <td>5694.619703</td>\n",
       "    </tr>\n",
       "    <tr>\n",
       "      <th>std</th>\n",
       "      <td>4.137107</td>\n",
       "      <td>1688.939158</td>\n",
       "    </tr>\n",
       "    <tr>\n",
       "      <th>min</th>\n",
       "      <td>30.000000</td>\n",
       "      <td>2181.830000</td>\n",
       "    </tr>\n",
       "    <tr>\n",
       "      <th>25%</th>\n",
       "      <td>34.000000</td>\n",
       "      <td>4538.930000</td>\n",
       "    </tr>\n",
       "    <tr>\n",
       "      <th>50%</th>\n",
       "      <td>38.000000</td>\n",
       "      <td>5453.910000</td>\n",
       "    </tr>\n",
       "    <tr>\n",
       "      <th>75%</th>\n",
       "      <td>42.000000</td>\n",
       "      <td>6684.940000</td>\n",
       "    </tr>\n",
       "    <tr>\n",
       "      <th>max</th>\n",
       "      <td>45.000000</td>\n",
       "      <td>11377.910000</td>\n",
       "    </tr>\n",
       "  </tbody>\n",
       "</table>\n",
       "</div>"
      ],
      "text/plain": [
       "              Age  Monthly Income\n",
       "count  269.000000      269.000000\n",
       "mean    37.996283     5694.619703\n",
       "std      4.137107     1688.939158\n",
       "min     30.000000     2181.830000\n",
       "25%     34.000000     4538.930000\n",
       "50%     38.000000     5453.910000\n",
       "75%     42.000000     6684.940000\n",
       "max     45.000000    11377.910000"
      ]
     },
     "execution_count": 67,
     "metadata": {},
     "output_type": "execute_result"
    }
   ],
   "source": [
    "NoPresentationM.describe()"
   ]
  },
  {
   "cell_type": "code",
   "execution_count": 68,
   "metadata": {},
   "outputs": [],
   "source": [
    "Z = (NoPresentationM.mean()-PresentationM.mean()) / (np.sqrt(NoPresentationM.std()**2/NoPresentationM.count()) + np.sqrt(PresentationM.std()**2/PresentationM.count()))"
   ]
  },
  {
   "cell_type": "code",
   "execution_count": 69,
   "metadata": {},
   "outputs": [
    {
     "data": {
      "text/plain": [
       "6.20947106499005"
      ]
     },
     "execution_count": 69,
     "metadata": {},
     "output_type": "execute_result"
    }
   ],
   "source": [
    "Z['Monthly Income']"
   ]
  },
  {
   "cell_type": "markdown",
   "metadata": {},
   "source": [
    "Так как Z значение для месячного дохода больше 1.64  - критического значения на уровня значимости 5%, то видно, что выборки не идентичны их их использование для проверки нашей гипотезы не подходят"
   ]
  },
  {
   "cell_type": "markdown",
   "metadata": {},
   "source": [
    "Что бы все же не проводить новый эксперимент и не тратить время сотрудников и деньги компании можем посмотреть какую долю от своего месчного дохода тратя люди в каждой из групп"
   ]
  },
  {
   "cell_type": "code",
   "execution_count": 72,
   "metadata": {},
   "outputs": [
    {
     "data": {
      "text/html": [
       "<div>\n",
       "<style scoped>\n",
       "    .dataframe tbody tr th:only-of-type {\n",
       "        vertical-align: middle;\n",
       "    }\n",
       "\n",
       "    .dataframe tbody tr th {\n",
       "        vertical-align: top;\n",
       "    }\n",
       "\n",
       "    .dataframe thead th {\n",
       "        text-align: right;\n",
       "    }\n",
       "</style>\n",
       "<table border=\"1\" class=\"dataframe\">\n",
       "  <thead>\n",
       "    <tr style=\"text-align: right;\">\n",
       "      <th></th>\n",
       "      <th>Client ID</th>\n",
       "      <th>Age</th>\n",
       "      <th>Gender</th>\n",
       "      <th>Monthly Income</th>\n",
       "      <th>Profit</th>\n",
       "      <th>Percentage</th>\n",
       "    </tr>\n",
       "  </thead>\n",
       "  <tbody>\n",
       "    <tr>\n",
       "      <th>0</th>\n",
       "      <td>43</td>\n",
       "      <td>37</td>\n",
       "      <td>M</td>\n",
       "      <td>3905.48</td>\n",
       "      <td>633.9</td>\n",
       "      <td>0.16231</td>\n",
       "    </tr>\n",
       "    <tr>\n",
       "      <th>1</th>\n",
       "      <td>257</td>\n",
       "      <td>39</td>\n",
       "      <td>M</td>\n",
       "      <td>4744.88</td>\n",
       "      <td>406.61</td>\n",
       "      <td>0.085694</td>\n",
       "    </tr>\n",
       "    <tr>\n",
       "      <th>2</th>\n",
       "      <td>477</td>\n",
       "      <td>36</td>\n",
       "      <td>M</td>\n",
       "      <td>3815.35</td>\n",
       "      <td>382.2</td>\n",
       "      <td>0.100174</td>\n",
       "    </tr>\n",
       "    <tr>\n",
       "      <th>3</th>\n",
       "      <td>754</td>\n",
       "      <td>31</td>\n",
       "      <td>M</td>\n",
       "      <td>3916.61</td>\n",
       "      <td>331.25</td>\n",
       "      <td>0.084576</td>\n",
       "    </tr>\n",
       "    <tr>\n",
       "      <th>4</th>\n",
       "      <td>825</td>\n",
       "      <td>31</td>\n",
       "      <td>M</td>\n",
       "      <td>3211.30</td>\n",
       "      <td>456.01</td>\n",
       "      <td>0.142002</td>\n",
       "    </tr>\n",
       "  </tbody>\n",
       "</table>\n",
       "</div>"
      ],
      "text/plain": [
       "  Client ID  Age Gender  Monthly Income  Profit Percentage\n",
       "0        43   37      M         3905.48   633.9    0.16231\n",
       "1       257   39      M         4744.88  406.61   0.085694\n",
       "2       477   36      M         3815.35   382.2   0.100174\n",
       "3       754   31      M         3916.61  331.25   0.084576\n",
       "4       825   31      M         3211.30  456.01   0.142002"
      ]
     },
     "execution_count": 72,
     "metadata": {},
     "output_type": "execute_result"
    }
   ],
   "source": [
    "PresentationM['Percentage'] =  PresentationM['Profit'] / PresentationM['Monthly Income']\n",
    "PresentationM.head()"
   ]
  },
  {
   "cell_type": "code",
   "execution_count": 73,
   "metadata": {},
   "outputs": [
    {
     "data": {
      "text/html": [
       "<div>\n",
       "<style scoped>\n",
       "    .dataframe tbody tr th:only-of-type {\n",
       "        vertical-align: middle;\n",
       "    }\n",
       "\n",
       "    .dataframe tbody tr th {\n",
       "        vertical-align: top;\n",
       "    }\n",
       "\n",
       "    .dataframe thead th {\n",
       "        text-align: right;\n",
       "    }\n",
       "</style>\n",
       "<table border=\"1\" class=\"dataframe\">\n",
       "  <thead>\n",
       "    <tr style=\"text-align: right;\">\n",
       "      <th></th>\n",
       "      <th>Client ID</th>\n",
       "      <th>Age</th>\n",
       "      <th>Gender</th>\n",
       "      <th>Monthly Income</th>\n",
       "      <th>Profit</th>\n",
       "      <th>Percentage</th>\n",
       "    </tr>\n",
       "  </thead>\n",
       "  <tbody>\n",
       "    <tr>\n",
       "      <th>0</th>\n",
       "      <td>137</td>\n",
       "      <td>37</td>\n",
       "      <td>M</td>\n",
       "      <td>4665.64</td>\n",
       "      <td>380.37</td>\n",
       "      <td>0.081526</td>\n",
       "    </tr>\n",
       "    <tr>\n",
       "      <th>1</th>\n",
       "      <td>1809</td>\n",
       "      <td>40</td>\n",
       "      <td>M</td>\n",
       "      <td>4816.03</td>\n",
       "      <td>333.11</td>\n",
       "      <td>0.069167</td>\n",
       "    </tr>\n",
       "    <tr>\n",
       "      <th>2</th>\n",
       "      <td>1929</td>\n",
       "      <td>38</td>\n",
       "      <td>F</td>\n",
       "      <td>2980.46</td>\n",
       "      <td>438.91</td>\n",
       "      <td>0.147263</td>\n",
       "    </tr>\n",
       "    <tr>\n",
       "      <th>3</th>\n",
       "      <td>1976</td>\n",
       "      <td>32</td>\n",
       "      <td>M</td>\n",
       "      <td>4691.48</td>\n",
       "      <td>383.21</td>\n",
       "      <td>0.081682</td>\n",
       "    </tr>\n",
       "    <tr>\n",
       "      <th>4</th>\n",
       "      <td>2057</td>\n",
       "      <td>33</td>\n",
       "      <td>M</td>\n",
       "      <td>4305.03</td>\n",
       "      <td>147.46</td>\n",
       "      <td>0.034253</td>\n",
       "    </tr>\n",
       "  </tbody>\n",
       "</table>\n",
       "</div>"
      ],
      "text/plain": [
       "  Client ID  Age Gender  Monthly Income  Profit Percentage\n",
       "0       137   37      M         4665.64  380.37   0.081526\n",
       "1      1809   40      M         4816.03  333.11   0.069167\n",
       "2      1929   38      F         2980.46  438.91   0.147263\n",
       "3      1976   32      M         4691.48  383.21   0.081682\n",
       "4      2057   33      M         4305.03  147.46   0.034253"
      ]
     },
     "execution_count": 73,
     "metadata": {},
     "output_type": "execute_result"
    }
   ],
   "source": [
    "NoPresentationM['Percentage'] =  NoPresentationM['Profit'] / NoPresentationM['Monthly Income']\n",
    "NoPresentationM.head()"
   ]
  },
  {
   "cell_type": "code",
   "execution_count": 74,
   "metadata": {},
   "outputs": [],
   "source": [
    "Z = (NoPresentationM.mean()-PresentationM.mean()) / (np.sqrt(NoPresentationM.std()**2/NoPresentationM.count()) + np.sqrt(PresentationM.std()**2/PresentationM.count()))"
   ]
  },
  {
   "cell_type": "code",
   "execution_count": 75,
   "metadata": {},
   "outputs": [
    {
     "data": {
      "text/plain": [
       "4.050298985546802"
      ]
     },
     "execution_count": 75,
     "metadata": {},
     "output_type": "execute_result"
    }
   ],
   "source": [
    "abs(Z.Percentage)  "
   ]
  },
  {
   "cell_type": "markdown",
   "metadata": {},
   "source": [
    "Берем модуль, так как из среднего по выборке где мы нечитаем лекцию вычитаем среднее по выборке где читаем\n",
    "А мы планируем проверить, что наше действие возымело эффект"
   ]
  },
  {
   "cell_type": "markdown",
   "metadata": {},
   "source": [
    "так как  наше значение больше 1,64 что можно сделать вывод, что наха компания прошла успешно, так как на уровне значимости 5% гипотеза о равенстве средней доли потраченной в нашем продукте отвергается, и даже на уровне значимости 1%, так что точно можно быть уверенны"
   ]
  },
  {
   "cell_type": "code",
   "execution_count": null,
   "metadata": {},
   "outputs": [],
   "source": []
  }
 ],
 "metadata": {
  "kernelspec": {
   "display_name": "Python 3",
   "language": "python",
   "name": "python3"
  },
  "language_info": {
   "codemirror_mode": {
    "name": "ipython",
    "version": 3
   },
   "file_extension": ".py",
   "mimetype": "text/x-python",
   "name": "python",
   "nbconvert_exporter": "python",
   "pygments_lexer": "ipython3",
   "version": "3.8.3"
  }
 },
 "nbformat": 4,
 "nbformat_minor": 4
}
