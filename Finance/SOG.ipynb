{
 "cells": [
  {
   "cell_type": "code",
   "execution_count": 1,
   "id": "f017bba9",
   "metadata": {},
   "outputs": [],
   "source": [
    "import pandas as pd\n",
    "import numpy as np\n",
    "import matplotlib.pyplot as plt\n",
    "import seaborn as sns"
   ]
  },
  {
   "cell_type": "markdown",
   "id": "b10f60ba",
   "metadata": {},
   "source": [
    "Programming tasks (* without using PyPortflioOPT and any similar libraries, recurred programming language is Python/ Jupyter):\\\n",
    " • Scrap 10 ETFs from yahoo finance. Use this data for analysis below.\\\n",
    " • Write the Mean Variance Optimization function/class for portfolio of n assets that will produce results of the following optimizations:\\\n",
    " • Minimum volatility\\\n",
    " • Maximum Sharpe Ratio\\\n",
    " • Efficient risk (minimize risk given a target return)\\\n",
    " • Efficient return\\\n",
    " • Maximum Diversification (for ref. Choueifaty, Yves, and Yves Coignard. 2008. “Toward Maximum Diversification.”)\\\n",
    "\n",
    "\n",
    "Theory:\\\n",
    " • What methods do you know for generating independent samples of the standard normal distribution?\\\n",
    " • What variance reduction techniques do you know?\\\n",
    " • You just bought one share of stock A and want to hedge it by shorting stock B. How many shares of B should you short to minimize the variance of the hedged position?\\\n",
    " • How many comparisons do you need to find the maximum in a set of n distinct numbers? How many comparisons do you need to find both the max and min in a set of n distinct numbers?"
   ]
  },
  {
   "cell_type": "markdown",
   "id": "beeb01fe",
   "metadata": {},
   "source": [
    "__Theory__"
   ]
  },
  {
   "cell_type": "markdown",
   "id": "2d39f364",
   "metadata": {},
   "source": [
    "###### What methods do you know for generating independent samples of the standard normal distribution?\n",
    "\n",
    "* Bootstrap\n",
    "* Monte-Carlo simulations\\\n",
    "Provided, parameters for standard normal distribution are set."
   ]
  },
  {
   "cell_type": "code",
   "execution_count": 2,
   "id": "b29f0f9b",
   "metadata": {},
   "outputs": [],
   "source": [
    "mu = 0\n",
    "sigma = 1"
   ]
  },
  {
   "cell_type": "code",
   "execution_count": 3,
   "id": "00b7c6b0",
   "metadata": {},
   "outputs": [
    {
     "data": {
      "text/plain": [
       "array([-0.69214675,  0.0258231 , -0.10739688, ...,  0.9063273 ,\n",
       "       -1.14433851,  0.8395921 ])"
      ]
     },
     "execution_count": 3,
     "metadata": {},
     "output_type": "execute_result"
    }
   ],
   "source": [
    "norm_std_dist = np.random.normal(mu,sigma,10000)\n",
    "norm_std_dist"
   ]
  },
  {
   "cell_type": "code",
   "execution_count": 4,
   "id": "75089164",
   "metadata": {},
   "outputs": [
    {
     "name": "stderr",
     "output_type": "stream",
     "text": [
      "D:\\conda\\lib\\site-packages\\seaborn\\distributions.py:2619: FutureWarning: `distplot` is a deprecated function and will be removed in a future version. Please adapt your code to use either `displot` (a figure-level function with similar flexibility) or `histplot` (an axes-level function for histograms).\n",
      "  warnings.warn(msg, FutureWarning)\n"
     ]
    },
    {
     "data": {
      "image/png": "[encoded data removed]",
      "text/plain": [
       "<Figure size 720x432 with 1 Axes>"
      ]
     },
     "metadata": {
      "needs_background": "light"
     },
     "output_type": "display_data"
    }
   ],
   "source": [
    "plt.figure(figsize=(10,6))\n",
    "sns.distplot(norm_std_dist);"
   ]
  },
  {
   "cell_type": "markdown",
   "id": "ddfeaf2e",
   "metadata": {},
   "source": [
    "###### What variance reduction techniques do you know?\n",
    "\n",
    "\n",
    "* Stratification and post-stratification\n",
    "* CUPED (controlled-experiment using pre-experiment data)\n",
    "* Variance-Weighted Estimators\n",
    "* Monte-Carlo simulation"
   ]
  },
  {
   "cell_type": "markdown",
   "id": "f0a86af5",
   "metadata": {},
   "source": [
    "##### You just bought one share of stock A and want to hedge it by shorting stock B. How many shares of B should you short to minimize the variance of the hedged position?"
   ]
  },
  {
   "cell_type": "markdown",
   "id": "1077eb26",
   "metadata": {},
   "source": [
    "$-x$ - weight of stock B in portfolio (i.e. share of initial capital to purchase stock B. It is negative, because of the short-selling)\\\n",
    "$(1-x)$ - weight of stock A in portfolio\\\n",
    "$x+(1-x) = 1$\\\n",
    "$K$ - initial capital amount\\\n",
    "$r_A$ - price of stock A\\\n",
    "$r_B$ - price of stock B\\\n",
    "$Var(P) = (1-x)*\\sigma(r_A) - x*\\sigma(r_B) \\rightarrow min_x$\\\n",
    "$Var(P) = (1-x)^2*\\sigma^2(r_A) - 2 * cov(r_A, r_b) + (-x)^2*\\sigma^2(r_B) \\rightarrow min_x$\\\n",
    "$Var(P)$ - portfolio variance\\\n",
    "$\\frac{\\partial(Var(P)}{\\partial(X)}$ = $-2*(1-x)*\\sigma^2(r_A)-2*x*\\sigma^2(r_B) = 0$\n",
    "\n",
    "After finding x - weight of stock B in the portfolio, I multiply K by x $(K*x)$ - total sum of stocks B,  and divide $(K*x)$ by $r_b$ to get the final answer:\n",
    "$(K*x) / r_B$"
   ]
  },
  {
   "cell_type": "markdown",
   "id": "23923cea",
   "metadata": {},
   "source": [
    "##### How many comparisons do you need to find the maximum in a set of n distinct numbers? How many comparisons do you need to find both the max and min in a set of n distinct numbers?"
   ]
  },
  {
   "cell_type": "markdown",
   "id": "df126c70",
   "metadata": {},
   "source": [
    "* How many comparisons do you need to find the maximum in a set of n distinct numbers?\\\n",
    "If n is odd, 3 * (n-1) / 2\\\n",
    "If n is even, 1 + 3*(n-2)/2 = 3n/2-2\n",
    "* How many comparisons do you need to find both the max and min in a set of n distinct numbers?\\\n",
    "Every comparison-based algorithm for finding both the minimum and the maximum of n elements requires at least (3n/2)-2 comparisons"
   ]
  },
  {
   "cell_type": "markdown",
   "id": "21a82bea",
   "metadata": {},
   "source": [
    "__Scrap 10 ETFs from yahoo finance. Use this data for analysis below.__"
   ]
  },
  {
   "cell_type": "code",
   "execution_count": 5,
   "id": "e72e97ca",
   "metadata": {},
   "outputs": [],
   "source": [
    "!pip -q install pandas-datareader\n",
    "!pip -q install requests_cache"
   ]
  },
  {
   "cell_type": "code",
   "execution_count": 6,
   "id": "7812e115",
   "metadata": {},
   "outputs": [],
   "source": [
    "from pandas_datareader import data as parse\n",
    "import requests_cache\n",
    "import datetime"
   ]
  },
  {
   "cell_type": "code",
   "execution_count": 7,
   "id": "fbea6e53",
   "metadata": {},
   "outputs": [],
   "source": [
    "!pip -q install yfinance\n",
    "import yfinance as yf"
   ]
  },
  {
   "cell_type": "markdown",
   "id": "d487cff0",
   "metadata": {},
   "source": [
    "Thought that it is easier to ctrl-c + ctrl-v when scraping (if there are 10 etf, not 100), rather than writing own scraper"
   ]
  },
  {
   "cell_type": "code",
   "execution_count": 8,
   "id": "1f758f14",
   "metadata": {},
   "outputs": [],
   "source": [
    "ticker_list = ['SPY','IVV','VOO','VTI','QQQ','VEA','VTV','IEFA','AGG','VUG']"
   ]
  },
  {
   "cell_type": "code",
   "execution_count": 9,
   "id": "6b964212",
   "metadata": {},
   "outputs": [],
   "source": [
    "# spy_df = yf.download(tickers = 'SPY', start = '2021-01-01').Close\n",
    "# ivv_df = yf.download(tickers = 'IVV', start = '2021-01-01').Close\n",
    "# voo_df = yf.download(tickers = 'VOO', start = '2021-01-01').Close\n",
    "# vti_df = yf.download(tickers = 'VTI', start = '2021-01-01').Close\n",
    "# qqq_df = yf.download(tickers = 'QQQ', start = '2021-01-01').Close\n",
    "# vea_df = yf.download(tickers = 'VEA', start = '2021-01-01').Close\n",
    "# vtv_df = yf.download(tickers = 'VTV', start = '2021-01-01').Close\n",
    "# iefa_df = yf.download(tickers = 'IEFA', start = '2021-01-01').Close\n",
    "# agg_df = yf.download(tickers = 'AGG', start = '2021-01-01').Close\n",
    "# vug_df = yf.download(tickers = 'VUG', start = '2021-01-01').Close\n",
    "# bnd_df = yf.download(tickers = 'BND', start = '2021-01-01').Close\n",
    "# vwo_df = yf.download(tickers = 'VWO', start = '2021-01-01').Close"
   ]
  },
  {
   "cell_type": "code",
   "execution_count": 10,
   "id": "cef4a8a1",
   "metadata": {},
   "outputs": [
    {
     "name": "stdout",
     "output_type": "stream",
     "text": [
      "[*********************100%***********************]  1 of 1 completed\n"
     ]
    },
    {
     "data": {
      "text/html": [
       "<div>\n",
       "<style scoped>\n",
       "    .dataframe tbody tr th:only-of-type {\n",
       "        vertical-align: middle;\n",
       "    }\n",
       "\n",
       "    .dataframe tbody tr th {\n",
       "        vertical-align: top;\n",
       "    }\n",
       "\n",
       "    .dataframe thead th {\n",
       "        text-align: right;\n",
       "    }\n",
       "</style>\n",
       "<table border=\"1\" class=\"dataframe\">\n",
       "  <thead>\n",
       "    <tr style=\"text-align: right;\">\n",
       "      <th></th>\n",
       "      <th>Date</th>\n",
       "      <th>Close</th>\n",
       "    </tr>\n",
       "  </thead>\n",
       "  <tbody>\n",
       "    <tr>\n",
       "      <th>0</th>\n",
       "      <td>2020-12-31</td>\n",
       "      <td>69.089996</td>\n",
       "    </tr>\n",
       "    <tr>\n",
       "      <th>1</th>\n",
       "      <td>2021-01-04</td>\n",
       "      <td>69.489998</td>\n",
       "    </tr>\n",
       "    <tr>\n",
       "      <th>2</th>\n",
       "      <td>2021-01-05</td>\n",
       "      <td>70.269997</td>\n",
       "    </tr>\n",
       "    <tr>\n",
       "      <th>3</th>\n",
       "      <td>2021-01-06</td>\n",
       "      <td>71.129997</td>\n",
       "    </tr>\n",
       "    <tr>\n",
       "      <th>4</th>\n",
       "      <td>2021-01-07</td>\n",
       "      <td>71.129997</td>\n",
       "    </tr>\n",
       "    <tr>\n",
       "      <th>...</th>\n",
       "      <td>...</td>\n",
       "      <td>...</td>\n",
       "    </tr>\n",
       "    <tr>\n",
       "      <th>308</th>\n",
       "      <td>2022-03-23</td>\n",
       "      <td>69.070000</td>\n",
       "    </tr>\n",
       "    <tr>\n",
       "      <th>309</th>\n",
       "      <td>2022-03-24</td>\n",
       "      <td>69.639999</td>\n",
       "    </tr>\n",
       "    <tr>\n",
       "      <th>310</th>\n",
       "      <td>2022-03-25</td>\n",
       "      <td>69.699997</td>\n",
       "    </tr>\n",
       "    <tr>\n",
       "      <th>311</th>\n",
       "      <td>2022-03-28</td>\n",
       "      <td>69.510002</td>\n",
       "    </tr>\n",
       "    <tr>\n",
       "      <th>312</th>\n",
       "      <td>2022-03-29</td>\n",
       "      <td>70.609901</td>\n",
       "    </tr>\n",
       "  </tbody>\n",
       "</table>\n",
       "<p>313 rows × 2 columns</p>\n",
       "</div>"
      ],
      "text/plain": [
       "          Date      Close\n",
       "0   2020-12-31  69.089996\n",
       "1   2021-01-04  69.489998\n",
       "2   2021-01-05  70.269997\n",
       "3   2021-01-06  71.129997\n",
       "4   2021-01-07  71.129997\n",
       "..         ...        ...\n",
       "308 2022-03-23  69.070000\n",
       "309 2022-03-24  69.639999\n",
       "310 2022-03-25  69.699997\n",
       "311 2022-03-28  69.510002\n",
       "312 2022-03-29  70.609901\n",
       "\n",
       "[313 rows x 2 columns]"
      ]
     },
     "execution_count": 10,
     "metadata": {},
     "output_type": "execute_result"
    }
   ],
   "source": [
    "yf.download(tickers = 'IEFA', start = '2021-01-01').reset_index()[['Date','Close']]"
   ]
  },
  {
   "cell_type": "code",
   "execution_count": 11,
   "id": "2b6fcacd",
   "metadata": {},
   "outputs": [],
   "source": [
    "df_etfs = pd.DataFrame()\n",
    "df_etfs['ticker'] = None\n",
    "df_etfs['Close'] = None"
   ]
  },
  {
   "cell_type": "code",
   "execution_count": 12,
   "id": "d583ae5e",
   "metadata": {},
   "outputs": [
    {
     "name": "stdout",
     "output_type": "stream",
     "text": [
      "[*********************100%***********************]  1 of 1 completed\n"
     ]
    },
    {
     "name": "stderr",
     "output_type": "stream",
     "text": [
      "C:\\Users\\wanna\\AppData\\Local\\Temp/ipykernel_9152/830132579.py:2: FutureWarning: The frame.append method is deprecated and will be removed from pandas in a future version. Use pandas.concat instead.\n",
      "  df_etfs = df_etfs.append(yf.download(tickers = ticker_list[i], start = '2021-01-01').reset_index()[['Date','Close']])\n"
     ]
    },
    {
     "name": "stdout",
     "output_type": "stream",
     "text": [
      "[*********************100%***********************]  1 of 1 completed\n"
     ]
    },
    {
     "name": "stderr",
     "output_type": "stream",
     "text": [
      "C:\\Users\\wanna\\AppData\\Local\\Temp/ipykernel_9152/830132579.py:2: FutureWarning: The frame.append method is deprecated and will be removed from pandas in a future version. Use pandas.concat instead.\n",
      "  df_etfs = df_etfs.append(yf.download(tickers = ticker_list[i], start = '2021-01-01').reset_index()[['Date','Close']])\n"
     ]
    },
    {
     "name": "stdout",
     "output_type": "stream",
     "text": [
      "[*********************100%***********************]  1 of 1 completed\n"
     ]
    },
    {
     "name": "stderr",
     "output_type": "stream",
     "text": [
      "C:\\Users\\wanna\\AppData\\Local\\Temp/ipykernel_9152/830132579.py:2: FutureWarning: The frame.append method is deprecated and will be removed from pandas in a future version. Use pandas.concat instead.\n",
      "  df_etfs = df_etfs.append(yf.download(tickers = ticker_list[i], start = '2021-01-01').reset_index()[['Date','Close']])\n"
     ]
    },
    {
     "name": "stdout",
     "output_type": "stream",
     "text": [
      "[*********************100%***********************]  1 of 1 completed\n"
     ]
    },
    {
     "name": "stderr",
     "output_type": "stream",
     "text": [
      "C:\\Users\\wanna\\AppData\\Local\\Temp/ipykernel_9152/830132579.py:2: FutureWarning: The frame.append method is deprecated and will be removed from pandas in a future version. Use pandas.concat instead.\n",
      "  df_etfs = df_etfs.append(yf.download(tickers = ticker_list[i], start = '2021-01-01').reset_index()[['Date','Close']])\n"
     ]
    },
    {
     "name": "stdout",
     "output_type": "stream",
     "text": [
      "[*********************100%***********************]  1 of 1 completed\n"
     ]
    },
    {
     "name": "stderr",
     "output_type": "stream",
     "text": [
      "C:\\Users\\wanna\\AppData\\Local\\Temp/ipykernel_9152/830132579.py:2: FutureWarning: The frame.append method is deprecated and will be removed from pandas in a future version. Use pandas.concat instead.\n",
      "  df_etfs = df_etfs.append(yf.download(tickers = ticker_list[i], start = '2021-01-01').reset_index()[['Date','Close']])\n"
     ]
    },
    {
     "name": "stdout",
     "output_type": "stream",
     "text": [
      "[*********************100%***********************]  1 of 1 completed\n"
     ]
    },
    {
     "name": "stderr",
     "output_type": "stream",
     "text": [
      "C:\\Users\\wanna\\AppData\\Local\\Temp/ipykernel_9152/830132579.py:2: FutureWarning: The frame.append method is deprecated and will be removed from pandas in a future version. Use pandas.concat instead.\n",
      "  df_etfs = df_etfs.append(yf.download(tickers = ticker_list[i], start = '2021-01-01').reset_index()[['Date','Close']])\n"
     ]
    },
    {
     "name": "stdout",
     "output_type": "stream",
     "text": [
      "[*********************100%***********************]  1 of 1 completed\n"
     ]
    },
    {
     "name": "stderr",
     "output_type": "stream",
     "text": [
      "C:\\Users\\wanna\\AppData\\Local\\Temp/ipykernel_9152/830132579.py:2: FutureWarning: The frame.append method is deprecated and will be removed from pandas in a future version. Use pandas.concat instead.\n",
      "  df_etfs = df_etfs.append(yf.download(tickers = ticker_list[i], start = '2021-01-01').reset_index()[['Date','Close']])\n"
     ]
    },
    {
     "name": "stdout",
     "output_type": "stream",
     "text": [
      "[*********************100%***********************]  1 of 1 completed\n"
     ]
    },
    {
     "name": "stderr",
     "output_type": "stream",
     "text": [
      "C:\\Users\\wanna\\AppData\\Local\\Temp/ipykernel_9152/830132579.py:2: FutureWarning: The frame.append method is deprecated and will be removed from pandas in a future version. Use pandas.concat instead.\n",
      "  df_etfs = df_etfs.append(yf.download(tickers = ticker_list[i], start = '2021-01-01').reset_index()[['Date','Close']])\n"
     ]
    },
    {
     "name": "stdout",
     "output_type": "stream",
     "text": [
      "[*********************100%***********************]  1 of 1 completed\n"
     ]
    },
    {
     "name": "stderr",
     "output_type": "stream",
     "text": [
      "C:\\Users\\wanna\\AppData\\Local\\Temp/ipykernel_9152/830132579.py:2: FutureWarning: The frame.append method is deprecated and will be removed from pandas in a future version. Use pandas.concat instead.\n",
      "  df_etfs = df_etfs.append(yf.download(tickers = ticker_list[i], start = '2021-01-01').reset_index()[['Date','Close']])\n"
     ]
    },
    {
     "name": "stdout",
     "output_type": "stream",
     "text": [
      "[*********************100%***********************]  1 of 1 completed\n"
     ]
    },
    {
     "name": "stderr",
     "output_type": "stream",
     "text": [
      "C:\\Users\\wanna\\AppData\\Local\\Temp/ipykernel_9152/830132579.py:2: FutureWarning: The frame.append method is deprecated and will be removed from pandas in a future version. Use pandas.concat instead.\n",
      "  df_etfs = df_etfs.append(yf.download(tickers = ticker_list[i], start = '2021-01-01').reset_index()[['Date','Close']])\n"
     ]
    }
   ],
   "source": [
    "for i in range(len(ticker_list)):\n",
    "        df_etfs = df_etfs.append(yf.download(tickers = ticker_list[i], start = '2021-01-01').reset_index()[['Date','Close']])\n",
    "        df_etfs.fillna(f'{ticker_list[i]}', inplace=True)"
   ]
  },
  {
   "cell_type": "code",
   "execution_count": 13,
   "id": "8e6d6cd7",
   "metadata": {},
   "outputs": [
    {
     "data": {
      "text/html": [
       "<div>\n",
       "<style scoped>\n",
       "    .dataframe tbody tr th:only-of-type {\n",
       "        vertical-align: middle;\n",
       "    }\n",
       "\n",
       "    .dataframe tbody tr th {\n",
       "        vertical-align: top;\n",
       "    }\n",
       "\n",
       "    .dataframe thead th {\n",
       "        text-align: right;\n",
       "    }\n",
       "</style>\n",
       "<table border=\"1\" class=\"dataframe\">\n",
       "  <thead>\n",
       "    <tr style=\"text-align: right;\">\n",
       "      <th></th>\n",
       "      <th>ticker</th>\n",
       "      <th>Close</th>\n",
       "      <th>Date</th>\n",
       "    </tr>\n",
       "  </thead>\n",
       "  <tbody>\n",
       "    <tr>\n",
       "      <th>0</th>\n",
       "      <td>SPY</td>\n",
       "      <td>373.880005</td>\n",
       "      <td>2020-12-31</td>\n",
       "    </tr>\n",
       "    <tr>\n",
       "      <th>1</th>\n",
       "      <td>SPY</td>\n",
       "      <td>368.790009</td>\n",
       "      <td>2021-01-04</td>\n",
       "    </tr>\n",
       "    <tr>\n",
       "      <th>2</th>\n",
       "      <td>SPY</td>\n",
       "      <td>371.329987</td>\n",
       "      <td>2021-01-05</td>\n",
       "    </tr>\n",
       "    <tr>\n",
       "      <th>3</th>\n",
       "      <td>SPY</td>\n",
       "      <td>373.549988</td>\n",
       "      <td>2021-01-06</td>\n",
       "    </tr>\n",
       "    <tr>\n",
       "      <th>4</th>\n",
       "      <td>SPY</td>\n",
       "      <td>379.100006</td>\n",
       "      <td>2021-01-07</td>\n",
       "    </tr>\n",
       "    <tr>\n",
       "      <th>...</th>\n",
       "      <td>...</td>\n",
       "      <td>...</td>\n",
       "      <td>...</td>\n",
       "    </tr>\n",
       "    <tr>\n",
       "      <th>308</th>\n",
       "      <td>VUG</td>\n",
       "      <td>280.609985</td>\n",
       "      <td>2022-03-23</td>\n",
       "    </tr>\n",
       "    <tr>\n",
       "      <th>309</th>\n",
       "      <td>VUG</td>\n",
       "      <td>285.829987</td>\n",
       "      <td>2022-03-24</td>\n",
       "    </tr>\n",
       "    <tr>\n",
       "      <th>310</th>\n",
       "      <td>VUG</td>\n",
       "      <td>285.589996</td>\n",
       "      <td>2022-03-25</td>\n",
       "    </tr>\n",
       "    <tr>\n",
       "      <th>311</th>\n",
       "      <td>VUG</td>\n",
       "      <td>290.010010</td>\n",
       "      <td>2022-03-28</td>\n",
       "    </tr>\n",
       "    <tr>\n",
       "      <th>312</th>\n",
       "      <td>VUG</td>\n",
       "      <td>294.630005</td>\n",
       "      <td>2022-03-29</td>\n",
       "    </tr>\n",
       "  </tbody>\n",
       "</table>\n",
       "<p>3130 rows × 3 columns</p>\n",
       "</div>"
      ],
      "text/plain": [
       "    ticker       Close       Date\n",
       "0      SPY  373.880005 2020-12-31\n",
       "1      SPY  368.790009 2021-01-04\n",
       "2      SPY  371.329987 2021-01-05\n",
       "3      SPY  373.549988 2021-01-06\n",
       "4      SPY  379.100006 2021-01-07\n",
       "..     ...         ...        ...\n",
       "308    VUG  280.609985 2022-03-23\n",
       "309    VUG  285.829987 2022-03-24\n",
       "310    VUG  285.589996 2022-03-25\n",
       "311    VUG  290.010010 2022-03-28\n",
       "312    VUG  294.630005 2022-03-29\n",
       "\n",
       "[3130 rows x 3 columns]"
      ]
     },
     "execution_count": 13,
     "metadata": {},
     "output_type": "execute_result"
    }
   ],
   "source": [
    "df_etfs"
   ]
  },
  {
   "cell_type": "code",
   "execution_count": 14,
   "id": "641cf5d8",
   "metadata": {},
   "outputs": [
    {
     "data": {
      "text/plain": [
       "10"
      ]
     },
     "execution_count": 14,
     "metadata": {},
     "output_type": "execute_result"
    }
   ],
   "source": [
    "len(df_etfs.ticker.unique())"
   ]
  },
  {
   "cell_type": "markdown",
   "id": "4e92ad51",
   "metadata": {},
   "source": [
    "__Minimum volatility__"
   ]
  },
  {
   "cell_type": "code",
   "execution_count": 15,
   "id": "cd784785",
   "metadata": {},
   "outputs": [
    {
     "data": {
      "text/plain": [
       "ticker\n",
       "AGG      2.367027\n",
       "IEFA     2.807530\n",
       "IVV     27.916535\n",
       "QQQ     26.357167\n",
       "SPY     27.752708\n",
       "VEA      1.811665\n",
       "VOO     25.530562\n",
       "VTI     12.604295\n",
       "VTV      7.603500\n",
       "VUG     21.723153\n",
       "Name: std_of_etf, dtype: float64"
      ]
     },
     "execution_count": 15,
     "metadata": {},
     "output_type": "execute_result"
    }
   ],
   "source": [
    "std_df = df_etfs.groupby('ticker').agg({'Close':np.std}).rename({'Close':'std_of_etf'},axis = 1).std_of_etf\n",
    "std_df"
   ]
  },
  {
   "cell_type": "code",
   "execution_count": 16,
   "id": "50176724",
   "metadata": {},
   "outputs": [
    {
     "data": {
      "text/html": [
       "<div>\n",
       "<style scoped>\n",
       "    .dataframe tbody tr th:only-of-type {\n",
       "        vertical-align: middle;\n",
       "    }\n",
       "\n",
       "    .dataframe tbody tr th {\n",
       "        vertical-align: top;\n",
       "    }\n",
       "\n",
       "    .dataframe thead th {\n",
       "        text-align: right;\n",
       "    }\n",
       "</style>\n",
       "<table border=\"1\" class=\"dataframe\">\n",
       "  <thead>\n",
       "    <tr style=\"text-align: right;\">\n",
       "      <th></th>\n",
       "      <th>ticker</th>\n",
       "      <th>Close</th>\n",
       "      <th>Date</th>\n",
       "      <th>std_etf</th>\n",
       "    </tr>\n",
       "  </thead>\n",
       "  <tbody>\n",
       "    <tr>\n",
       "      <th>0</th>\n",
       "      <td>SPY</td>\n",
       "      <td>373.880005</td>\n",
       "      <td>2020-12-31</td>\n",
       "      <td>27.752708</td>\n",
       "    </tr>\n",
       "    <tr>\n",
       "      <th>1</th>\n",
       "      <td>SPY</td>\n",
       "      <td>368.790009</td>\n",
       "      <td>2021-01-04</td>\n",
       "      <td>27.752708</td>\n",
       "    </tr>\n",
       "    <tr>\n",
       "      <th>2</th>\n",
       "      <td>SPY</td>\n",
       "      <td>371.329987</td>\n",
       "      <td>2021-01-05</td>\n",
       "      <td>27.752708</td>\n",
       "    </tr>\n",
       "    <tr>\n",
       "      <th>3</th>\n",
       "      <td>SPY</td>\n",
       "      <td>373.549988</td>\n",
       "      <td>2021-01-06</td>\n",
       "      <td>27.752708</td>\n",
       "    </tr>\n",
       "    <tr>\n",
       "      <th>4</th>\n",
       "      <td>SPY</td>\n",
       "      <td>379.100006</td>\n",
       "      <td>2021-01-07</td>\n",
       "      <td>27.752708</td>\n",
       "    </tr>\n",
       "    <tr>\n",
       "      <th>...</th>\n",
       "      <td>...</td>\n",
       "      <td>...</td>\n",
       "      <td>...</td>\n",
       "      <td>...</td>\n",
       "    </tr>\n",
       "    <tr>\n",
       "      <th>308</th>\n",
       "      <td>VUG</td>\n",
       "      <td>280.609985</td>\n",
       "      <td>2022-03-23</td>\n",
       "      <td>21.723153</td>\n",
       "    </tr>\n",
       "    <tr>\n",
       "      <th>309</th>\n",
       "      <td>VUG</td>\n",
       "      <td>285.829987</td>\n",
       "      <td>2022-03-24</td>\n",
       "      <td>21.723153</td>\n",
       "    </tr>\n",
       "    <tr>\n",
       "      <th>310</th>\n",
       "      <td>VUG</td>\n",
       "      <td>285.589996</td>\n",
       "      <td>2022-03-25</td>\n",
       "      <td>21.723153</td>\n",
       "    </tr>\n",
       "    <tr>\n",
       "      <th>311</th>\n",
       "      <td>VUG</td>\n",
       "      <td>290.010010</td>\n",
       "      <td>2022-03-28</td>\n",
       "      <td>21.723153</td>\n",
       "    </tr>\n",
       "    <tr>\n",
       "      <th>312</th>\n",
       "      <td>VUG</td>\n",
       "      <td>294.630005</td>\n",
       "      <td>2022-03-29</td>\n",
       "      <td>21.723153</td>\n",
       "    </tr>\n",
       "  </tbody>\n",
       "</table>\n",
       "<p>3130 rows × 4 columns</p>\n",
       "</div>"
      ],
      "text/plain": [
       "    ticker       Close       Date    std_etf\n",
       "0      SPY  373.880005 2020-12-31  27.752708\n",
       "1      SPY  368.790009 2021-01-04  27.752708\n",
       "2      SPY  371.329987 2021-01-05  27.752708\n",
       "3      SPY  373.549988 2021-01-06  27.752708\n",
       "4      SPY  379.100006 2021-01-07  27.752708\n",
       "..     ...         ...        ...        ...\n",
       "308    VUG  280.609985 2022-03-23  21.723153\n",
       "309    VUG  285.829987 2022-03-24  21.723153\n",
       "310    VUG  285.589996 2022-03-25  21.723153\n",
       "311    VUG  290.010010 2022-03-28  21.723153\n",
       "312    VUG  294.630005 2022-03-29  21.723153\n",
       "\n",
       "[3130 rows x 4 columns]"
      ]
     },
     "execution_count": 16,
     "metadata": {},
     "output_type": "execute_result"
    }
   ],
   "source": [
    "df_etfs['std_etf'] = df_etfs.groupby('ticker')['Close'].transform(np.std)\n",
    "df_etfs"
   ]
  },
  {
   "cell_type": "code",
   "execution_count": 17,
   "id": "c536dadc",
   "metadata": {},
   "outputs": [],
   "source": [
    "df_etfs['last_value'] = df_etfs.groupby('ticker')['Close'].transform('last')\n",
    "df_etfs['first_value'] = df_etfs.groupby('ticker')['Close'].transform('first')"
   ]
  },
  {
   "cell_type": "code",
   "execution_count": 18,
   "id": "127fb232",
   "metadata": {},
   "outputs": [],
   "source": [
    "df_etfs['var_etf'] = df_etfs.std_etf**2"
   ]
  },
  {
   "cell_type": "code",
   "execution_count": 19,
   "id": "2414087c",
   "metadata": {},
   "outputs": [
    {
     "data": {
      "text/html": [
       "<div>\n",
       "<style scoped>\n",
       "    .dataframe tbody tr th:only-of-type {\n",
       "        vertical-align: middle;\n",
       "    }\n",
       "\n",
       "    .dataframe tbody tr th {\n",
       "        vertical-align: top;\n",
       "    }\n",
       "\n",
       "    .dataframe thead th {\n",
       "        text-align: right;\n",
       "    }\n",
       "</style>\n",
       "<table border=\"1\" class=\"dataframe\">\n",
       "  <thead>\n",
       "    <tr style=\"text-align: right;\">\n",
       "      <th></th>\n",
       "      <th>ticker</th>\n",
       "      <th>Close</th>\n",
       "      <th>Date</th>\n",
       "      <th>std_etf</th>\n",
       "      <th>last_value</th>\n",
       "      <th>first_value</th>\n",
       "      <th>var_etf</th>\n",
       "    </tr>\n",
       "  </thead>\n",
       "  <tbody>\n",
       "    <tr>\n",
       "      <th>0</th>\n",
       "      <td>SPY</td>\n",
       "      <td>373.880005</td>\n",
       "      <td>2020-12-31</td>\n",
       "      <td>27.752708</td>\n",
       "      <td>459.350006</td>\n",
       "      <td>373.880005</td>\n",
       "      <td>770.212811</td>\n",
       "    </tr>\n",
       "    <tr>\n",
       "      <th>1</th>\n",
       "      <td>SPY</td>\n",
       "      <td>368.790009</td>\n",
       "      <td>2021-01-04</td>\n",
       "      <td>27.752708</td>\n",
       "      <td>459.350006</td>\n",
       "      <td>373.880005</td>\n",
       "      <td>770.212811</td>\n",
       "    </tr>\n",
       "    <tr>\n",
       "      <th>2</th>\n",
       "      <td>SPY</td>\n",
       "      <td>371.329987</td>\n",
       "      <td>2021-01-05</td>\n",
       "      <td>27.752708</td>\n",
       "      <td>459.350006</td>\n",
       "      <td>373.880005</td>\n",
       "      <td>770.212811</td>\n",
       "    </tr>\n",
       "    <tr>\n",
       "      <th>3</th>\n",
       "      <td>SPY</td>\n",
       "      <td>373.549988</td>\n",
       "      <td>2021-01-06</td>\n",
       "      <td>27.752708</td>\n",
       "      <td>459.350006</td>\n",
       "      <td>373.880005</td>\n",
       "      <td>770.212811</td>\n",
       "    </tr>\n",
       "    <tr>\n",
       "      <th>4</th>\n",
       "      <td>SPY</td>\n",
       "      <td>379.100006</td>\n",
       "      <td>2021-01-07</td>\n",
       "      <td>27.752708</td>\n",
       "      <td>459.350006</td>\n",
       "      <td>373.880005</td>\n",
       "      <td>770.212811</td>\n",
       "    </tr>\n",
       "    <tr>\n",
       "      <th>...</th>\n",
       "      <td>...</td>\n",
       "      <td>...</td>\n",
       "      <td>...</td>\n",
       "      <td>...</td>\n",
       "      <td>...</td>\n",
       "      <td>...</td>\n",
       "      <td>...</td>\n",
       "    </tr>\n",
       "    <tr>\n",
       "      <th>308</th>\n",
       "      <td>VUG</td>\n",
       "      <td>280.609985</td>\n",
       "      <td>2022-03-23</td>\n",
       "      <td>21.723153</td>\n",
       "      <td>294.630005</td>\n",
       "      <td>253.339996</td>\n",
       "      <td>471.895361</td>\n",
       "    </tr>\n",
       "    <tr>\n",
       "      <th>309</th>\n",
       "      <td>VUG</td>\n",
       "      <td>285.829987</td>\n",
       "      <td>2022-03-24</td>\n",
       "      <td>21.723153</td>\n",
       "      <td>294.630005</td>\n",
       "      <td>253.339996</td>\n",
       "      <td>471.895361</td>\n",
       "    </tr>\n",
       "    <tr>\n",
       "      <th>310</th>\n",
       "      <td>VUG</td>\n",
       "      <td>285.589996</td>\n",
       "      <td>2022-03-25</td>\n",
       "      <td>21.723153</td>\n",
       "      <td>294.630005</td>\n",
       "      <td>253.339996</td>\n",
       "      <td>471.895361</td>\n",
       "    </tr>\n",
       "    <tr>\n",
       "      <th>311</th>\n",
       "      <td>VUG</td>\n",
       "      <td>290.010010</td>\n",
       "      <td>2022-03-28</td>\n",
       "      <td>21.723153</td>\n",
       "      <td>294.630005</td>\n",
       "      <td>253.339996</td>\n",
       "      <td>471.895361</td>\n",
       "    </tr>\n",
       "    <tr>\n",
       "      <th>312</th>\n",
       "      <td>VUG</td>\n",
       "      <td>294.630005</td>\n",
       "      <td>2022-03-29</td>\n",
       "      <td>21.723153</td>\n",
       "      <td>294.630005</td>\n",
       "      <td>253.339996</td>\n",
       "      <td>471.895361</td>\n",
       "    </tr>\n",
       "  </tbody>\n",
       "</table>\n",
       "<p>3130 rows × 7 columns</p>\n",
       "</div>"
      ],
      "text/plain": [
       "    ticker       Close       Date    std_etf  last_value  first_value  \\\n",
       "0      SPY  373.880005 2020-12-31  27.752708  459.350006   373.880005   \n",
       "1      SPY  368.790009 2021-01-04  27.752708  459.350006   373.880005   \n",
       "2      SPY  371.329987 2021-01-05  27.752708  459.350006   373.880005   \n",
       "3      SPY  373.549988 2021-01-06  27.752708  459.350006   373.880005   \n",
       "4      SPY  379.100006 2021-01-07  27.752708  459.350006   373.880005   \n",
       "..     ...         ...        ...        ...         ...          ...   \n",
       "308    VUG  280.609985 2022-03-23  21.723153  294.630005   253.339996   \n",
       "309    VUG  285.829987 2022-03-24  21.723153  294.630005   253.339996   \n",
       "310    VUG  285.589996 2022-03-25  21.723153  294.630005   253.339996   \n",
       "311    VUG  290.010010 2022-03-28  21.723153  294.630005   253.339996   \n",
       "312    VUG  294.630005 2022-03-29  21.723153  294.630005   253.339996   \n",
       "\n",
       "        var_etf  \n",
       "0    770.212811  \n",
       "1    770.212811  \n",
       "2    770.212811  \n",
       "3    770.212811  \n",
       "4    770.212811  \n",
       "..          ...  \n",
       "308  471.895361  \n",
       "309  471.895361  \n",
       "310  471.895361  \n",
       "311  471.895361  \n",
       "312  471.895361  \n",
       "\n",
       "[3130 rows x 7 columns]"
      ]
     },
     "execution_count": 19,
     "metadata": {},
     "output_type": "execute_result"
    }
   ],
   "source": [
    "df_etfs"
   ]
  },
  {
   "cell_type": "code",
   "execution_count": 20,
   "id": "a750d8c2",
   "metadata": {},
   "outputs": [],
   "source": [
    "proxy_df = df_etfs.pivot('Date','ticker','Close')"
   ]
  },
  {
   "cell_type": "code",
   "execution_count": 21,
   "id": "aa612531",
   "metadata": {},
   "outputs": [
    {
     "data": {
      "text/html": [
       "<div>\n",
       "<style scoped>\n",
       "    .dataframe tbody tr th:only-of-type {\n",
       "        vertical-align: middle;\n",
       "    }\n",
       "\n",
       "    .dataframe tbody tr th {\n",
       "        vertical-align: top;\n",
       "    }\n",
       "\n",
       "    .dataframe thead th {\n",
       "        text-align: right;\n",
       "    }\n",
       "</style>\n",
       "<table border=\"1\" class=\"dataframe\">\n",
       "  <thead>\n",
       "    <tr style=\"text-align: right;\">\n",
       "      <th>ticker</th>\n",
       "      <th>AGG</th>\n",
       "      <th>IEFA</th>\n",
       "      <th>IVV</th>\n",
       "      <th>QQQ</th>\n",
       "      <th>SPY</th>\n",
       "      <th>VEA</th>\n",
       "      <th>VOO</th>\n",
       "      <th>VTI</th>\n",
       "      <th>VTV</th>\n",
       "      <th>VUG</th>\n",
       "    </tr>\n",
       "    <tr>\n",
       "      <th>Date</th>\n",
       "      <th></th>\n",
       "      <th></th>\n",
       "      <th></th>\n",
       "      <th></th>\n",
       "      <th></th>\n",
       "      <th></th>\n",
       "      <th></th>\n",
       "      <th></th>\n",
       "      <th></th>\n",
       "      <th></th>\n",
       "    </tr>\n",
       "  </thead>\n",
       "  <tbody>\n",
       "    <tr>\n",
       "      <th>2020-12-31</th>\n",
       "      <td>NaN</td>\n",
       "      <td>NaN</td>\n",
       "      <td>NaN</td>\n",
       "      <td>NaN</td>\n",
       "      <td>NaN</td>\n",
       "      <td>NaN</td>\n",
       "      <td>NaN</td>\n",
       "      <td>NaN</td>\n",
       "      <td>NaN</td>\n",
       "      <td>NaN</td>\n",
       "    </tr>\n",
       "    <tr>\n",
       "      <th>2021-01-04</th>\n",
       "      <td>-0.001270</td>\n",
       "      <td>0.005773</td>\n",
       "      <td>-0.013868</td>\n",
       "      <td>-0.014221</td>\n",
       "      <td>-0.013708</td>\n",
       "      <td>0.005703</td>\n",
       "      <td>-0.013651</td>\n",
       "      <td>-0.014334</td>\n",
       "      <td>-0.012860</td>\n",
       "      <td>-0.014632</td>\n",
       "    </tr>\n",
       "    <tr>\n",
       "      <th>2021-01-05</th>\n",
       "      <td>-0.001017</td>\n",
       "      <td>0.011162</td>\n",
       "      <td>0.006596</td>\n",
       "      <td>0.008210</td>\n",
       "      <td>0.006864</td>\n",
       "      <td>0.011309</td>\n",
       "      <td>0.006556</td>\n",
       "      <td>0.008046</td>\n",
       "      <td>0.007465</td>\n",
       "      <td>0.006468</td>\n",
       "    </tr>\n",
       "    <tr>\n",
       "      <th>2021-01-06</th>\n",
       "      <td>-0.004931</td>\n",
       "      <td>0.012164</td>\n",
       "      <td>0.006019</td>\n",
       "      <td>-0.013949</td>\n",
       "      <td>0.005961</td>\n",
       "      <td>0.010771</td>\n",
       "      <td>0.006047</td>\n",
       "      <td>0.008956</td>\n",
       "      <td>0.023802</td>\n",
       "      <td>-0.011004</td>\n",
       "    </tr>\n",
       "    <tr>\n",
       "      <th>2021-01-07</th>\n",
       "      <td>-0.001023</td>\n",
       "      <td>0.000000</td>\n",
       "      <td>0.014695</td>\n",
       "      <td>0.023904</td>\n",
       "      <td>0.014748</td>\n",
       "      <td>0.002880</td>\n",
       "      <td>0.014831</td>\n",
       "      <td>0.015911</td>\n",
       "      <td>0.007400</td>\n",
       "      <td>0.022833</td>\n",
       "    </tr>\n",
       "    <tr>\n",
       "      <th>...</th>\n",
       "      <td>...</td>\n",
       "      <td>...</td>\n",
       "      <td>...</td>\n",
       "      <td>...</td>\n",
       "      <td>...</td>\n",
       "      <td>...</td>\n",
       "      <td>...</td>\n",
       "      <td>...</td>\n",
       "      <td>...</td>\n",
       "      <td>...</td>\n",
       "    </tr>\n",
       "    <tr>\n",
       "      <th>2022-03-23</th>\n",
       "      <td>0.004113</td>\n",
       "      <td>-0.014232</td>\n",
       "      <td>-0.012616</td>\n",
       "      <td>-0.014476</td>\n",
       "      <td>-0.012962</td>\n",
       "      <td>-0.012702</td>\n",
       "      <td>-0.012961</td>\n",
       "      <td>-0.016827</td>\n",
       "      <td>-0.014770</td>\n",
       "      <td>-0.016085</td>\n",
       "    </tr>\n",
       "    <tr>\n",
       "      <th>2022-03-24</th>\n",
       "      <td>-0.002242</td>\n",
       "      <td>0.008219</td>\n",
       "      <td>0.011048</td>\n",
       "      <td>0.021983</td>\n",
       "      <td>0.014962</td>\n",
       "      <td>0.007932</td>\n",
       "      <td>0.011393</td>\n",
       "      <td>0.014145</td>\n",
       "      <td>0.009510</td>\n",
       "      <td>0.018431</td>\n",
       "    </tr>\n",
       "    <tr>\n",
       "      <th>2022-03-25</th>\n",
       "      <td>-0.007979</td>\n",
       "      <td>0.000861</td>\n",
       "      <td>0.005028</td>\n",
       "      <td>-0.000834</td>\n",
       "      <td>0.004872</td>\n",
       "      <td>0.001454</td>\n",
       "      <td>0.005059</td>\n",
       "      <td>0.004262</td>\n",
       "      <td>0.010358</td>\n",
       "      <td>-0.000840</td>\n",
       "    </tr>\n",
       "    <tr>\n",
       "      <th>2022-03-28</th>\n",
       "      <td>0.002448</td>\n",
       "      <td>-0.002730</td>\n",
       "      <td>0.006992</td>\n",
       "      <td>0.015354</td>\n",
       "      <td>0.007088</td>\n",
       "      <td>-0.003119</td>\n",
       "      <td>0.006873</td>\n",
       "      <td>0.006468</td>\n",
       "      <td>-0.001272</td>\n",
       "      <td>0.015358</td>\n",
       "    </tr>\n",
       "    <tr>\n",
       "      <th>2022-03-29</th>\n",
       "      <td>0.004130</td>\n",
       "      <td>0.015630</td>\n",
       "      <td>0.007551</td>\n",
       "      <td>0.012338</td>\n",
       "      <td>0.007517</td>\n",
       "      <td>0.014205</td>\n",
       "      <td>0.007679</td>\n",
       "      <td>0.010314</td>\n",
       "      <td>0.000636</td>\n",
       "      <td>0.015805</td>\n",
       "    </tr>\n",
       "  </tbody>\n",
       "</table>\n",
       "<p>313 rows × 10 columns</p>\n",
       "</div>"
      ],
      "text/plain": [
       "ticker           AGG      IEFA       IVV       QQQ       SPY       VEA  \\\n",
       "Date                                                                     \n",
       "2020-12-31       NaN       NaN       NaN       NaN       NaN       NaN   \n",
       "2021-01-04 -0.001270  0.005773 -0.013868 -0.014221 -0.013708  0.005703   \n",
       "2021-01-05 -0.001017  0.011162  0.006596  0.008210  0.006864  0.011309   \n",
       "2021-01-06 -0.004931  0.012164  0.006019 -0.013949  0.005961  0.010771   \n",
       "2021-01-07 -0.001023  0.000000  0.014695  0.023904  0.014748  0.002880   \n",
       "...              ...       ...       ...       ...       ...       ...   \n",
       "2022-03-23  0.004113 -0.014232 -0.012616 -0.014476 -0.012962 -0.012702   \n",
       "2022-03-24 -0.002242  0.008219  0.011048  0.021983  0.014962  0.007932   \n",
       "2022-03-25 -0.007979  0.000861  0.005028 -0.000834  0.004872  0.001454   \n",
       "2022-03-28  0.002448 -0.002730  0.006992  0.015354  0.007088 -0.003119   \n",
       "2022-03-29  0.004130  0.015630  0.007551  0.012338  0.007517  0.014205   \n",
       "\n",
       "ticker           VOO       VTI       VTV       VUG  \n",
       "Date                                                \n",
       "2020-12-31       NaN       NaN       NaN       NaN  \n",
       "2021-01-04 -0.013651 -0.014334 -0.012860 -0.014632  \n",
       "2021-01-05  0.006556  0.008046  0.007465  0.006468  \n",
       "2021-01-06  0.006047  0.008956  0.023802 -0.011004  \n",
       "2021-01-07  0.014831  0.015911  0.007400  0.022833  \n",
       "...              ...       ...       ...       ...  \n",
       "2022-03-23 -0.012961 -0.016827 -0.014770 -0.016085  \n",
       "2022-03-24  0.011393  0.014145  0.009510  0.018431  \n",
       "2022-03-25  0.005059  0.004262  0.010358 -0.000840  \n",
       "2022-03-28  0.006873  0.006468 -0.001272  0.015358  \n",
       "2022-03-29  0.007679  0.010314  0.000636  0.015805  \n",
       "\n",
       "[313 rows x 10 columns]"
      ]
     },
     "execution_count": 21,
     "metadata": {},
     "output_type": "execute_result"
    }
   ],
   "source": [
    "#logarithmic profitability\n",
    "log_return = np.log(proxy_df/proxy_df.shift(1))\n",
    "log_return"
   ]
  },
  {
   "cell_type": "code",
   "execution_count": 22,
   "id": "7e708694",
   "metadata": {},
   "outputs": [
    {
     "data": {
      "text/plain": [
       "ticker\n",
       "AGG    -0.000325\n",
       "IEFA    0.000070\n",
       "IVV     0.000661\n",
       "QQQ     0.000524\n",
       "SPY     0.000660\n",
       "VEA     0.000100\n",
       "VOO     0.000660\n",
       "VTI     0.000562\n",
       "VTV     0.000729\n",
       "VUG     0.000484\n",
       "dtype: float64"
      ]
     },
     "execution_count": 22,
     "metadata": {},
     "output_type": "execute_result"
    }
   ],
   "source": [
    "log_return.mean()"
   ]
  },
  {
   "cell_type": "markdown",
   "id": "89bfdc06",
   "metadata": {},
   "source": [
    "Calculating the constants to \"lighten\" my code below."
   ]
  },
  {
   "cell_type": "markdown",
   "id": "db201c27",
   "metadata": {},
   "source": [
    "$A = I^T\\sum^{-1}I$\\\n",
    "$B = R^T\\sum^{-1}I$\\\n",
    "$C = R^T\\sum^{-1}R$\\\n",
    "R - profitability, $\\sum^{-1}$ - inversed covariate matrix, I - matrix of ones"
   ]
  },
  {
   "cell_type": "code",
   "execution_count": 23,
   "id": "31ee4769",
   "metadata": {},
   "outputs": [
    {
     "data": {
      "text/plain": [
       "182762.46581468568"
      ]
     },
     "execution_count": 23,
     "metadata": {},
     "output_type": "execute_result"
    }
   ],
   "source": [
    "I = np.array([1] * len(log_return.cov()))\n",
    "A = np.dot(I.T,np.linalg.inv(log_return.cov()))\n",
    "A = np.dot(A,I)\n",
    "A"
   ]
  },
  {
   "cell_type": "code",
   "execution_count": 24,
   "id": "0f4a4bfc",
   "metadata": {},
   "outputs": [
    {
     "data": {
      "text/plain": [
       "-39.091112327542746"
      ]
     },
     "execution_count": 24,
     "metadata": {},
     "output_type": "execute_result"
    }
   ],
   "source": [
    "B = np.dot(I.T,np.linalg.inv(log_return.cov()))\n",
    "B = np.dot(B,log_return.mean())\n",
    "B"
   ]
  },
  {
   "cell_type": "code",
   "execution_count": 25,
   "id": "b58f9fa0",
   "metadata": {},
   "outputs": [
    {
     "data": {
      "text/plain": [
       "0.03843323828406098"
      ]
     },
     "execution_count": 25,
     "metadata": {},
     "output_type": "execute_result"
    }
   ],
   "source": [
    "C = np.dot(log_return.mean().T,np.linalg.inv(log_return.cov()))\n",
    "C = np.dot(C,log_return.mean())\n",
    "C"
   ]
  },
  {
   "cell_type": "code",
   "execution_count": 26,
   "id": "9e18e644",
   "metadata": {},
   "outputs": [
    {
     "data": {
      "text/plain": [
       "array([ 0.86444914,  0.12403332, -0.10106847, -0.04889415, -0.29985235,\n",
       "       -0.05196152,  0.32779978, -0.13611124,  0.23777862,  0.08382685])"
      ]
     },
     "execution_count": 26,
     "metadata": {},
     "output_type": "execute_result"
    }
   ],
   "source": [
    "w_d = np.dot(np.linalg.inv(log_return.cov()),I)\n",
    "w_d = w_d / A\n",
    "w_d"
   ]
  },
  {
   "cell_type": "code",
   "execution_count": 27,
   "id": "ae0c0639",
   "metadata": {},
   "outputs": [
    {
     "data": {
      "text/plain": [
       "0.9999999999999969"
      ]
     },
     "execution_count": 27,
     "metadata": {},
     "output_type": "execute_result"
    }
   ],
   "source": [
    "w_d.sum()"
   ]
  },
  {
   "cell_type": "code",
   "execution_count": 28,
   "id": "93a73238",
   "metadata": {},
   "outputs": [
    {
     "data": {
      "text/plain": [
       "0.0023391415080291082"
      ]
     },
     "execution_count": 28,
     "metadata": {},
     "output_type": "execute_result"
    }
   ],
   "source": [
    "min_volatility = 1/np.sqrt(A)\n",
    "\n",
    "min_volatility"
   ]
  },
  {
   "cell_type": "code",
   "execution_count": 29,
   "id": "43ab5f35",
   "metadata": {},
   "outputs": [
    {
     "data": {
      "text/plain": [
       "-0.00021389026545078286"
      ]
     },
     "execution_count": 29,
     "metadata": {},
     "output_type": "execute_result"
    }
   ],
   "source": [
    "profitability_portfolio = B/A\n",
    "profitability_portfolio"
   ]
  },
  {
   "cell_type": "markdown",
   "id": "969ccda0",
   "metadata": {},
   "source": [
    "__Maximum Sharpe and Diversification ratio__"
   ]
  },
  {
   "cell_type": "markdown",
   "id": "3fadaf5e",
   "metadata": {},
   "source": [
    "Diversification:\n",
    "$D(P) = \\frac{P'*\\sum}{\\sqrt{P'*V*P}}$\\\n",
    "P - portfolio weights\\\n",
    "$\\sum$ - covariate matrix"
   ]
  },
  {
   "cell_type": "code",
   "execution_count": 30,
   "id": "dff6cc8a",
   "metadata": {},
   "outputs": [],
   "source": [
    "from scipy.optimize import minimize"
   ]
  },
  {
   "cell_type": "code",
   "execution_count": 31,
   "id": "6284ec40",
   "metadata": {},
   "outputs": [
    {
     "data": {
      "text/plain": [
       "ticker\n",
       "AGG      2.367027\n",
       "IEFA     2.807530\n",
       "IVV     27.916535\n",
       "QQQ     26.357167\n",
       "SPY     27.752708\n",
       "VEA      1.811665\n",
       "VOO     25.530562\n",
       "VTI     12.604295\n",
       "VTV      7.603500\n",
       "VUG     21.723153\n",
       "Name: std_of_etf, dtype: float64"
      ]
     },
     "execution_count": 31,
     "metadata": {},
     "output_type": "execute_result"
    }
   ],
   "source": [
    "std_df"
   ]
  },
  {
   "cell_type": "markdown",
   "id": "ef05d077",
   "metadata": {},
   "source": [
    "Attempt to create Monte-Carlo simulations model"
   ]
  },
  {
   "cell_type": "code",
   "execution_count": 32,
   "id": "e32102b5",
   "metadata": {},
   "outputs": [],
   "source": [
    "num_ports = 5000\n",
    "all_weights = np.zeros((num_ports, 10))\n",
    "ret_arr = np.zeros(num_ports)\n",
    "vol_arr = np.zeros(num_ports)\n",
    "sharpe_arr = np.zeros(num_ports)\n",
    "diversification_arr = np.zeros(num_ports)\n",
    "for ind in range(num_ports): \n",
    "    # weights \n",
    "    weights = np.array(np.random.random(10)) \n",
    "    weights = weights/np.sum(weights)  \n",
    "\n",
    "    # save the weights\n",
    "    all_weights[ind,:] = weights\n",
    "\n",
    "    # expected return \n",
    "    ret_arr[ind] = np.sum((log_return.mean()*weights))\n",
    "\n",
    "    # expected volatility \n",
    "    vol_arr[ind] = np.sqrt(np.dot(weights.T,np.dot(log_return.cov(), weights)))\n",
    "\n",
    "    # Sharpe Ratio \n",
    "    sharpe_arr[ind] = ret_arr[ind]/vol_arr[ind]\n",
    "    \n",
    "    \n",
    "    #Diversification ratio\n",
    "    \n",
    "    PtVP = np.sqrt(np.dot(weights.T,np.dot(log_return.cov(), weights)))\n",
    "    diversification_arr[ind] = np.dot(weights.T, std_df)/PtVP"
   ]
  },
  {
   "cell_type": "code",
   "execution_count": 33,
   "id": "745d587d",
   "metadata": {},
   "outputs": [
    {
     "data": {
      "image/png": "[encoded data removed]",
      "text/plain": [
       "<Figure size 864x576 with 2 Axes>"
      ]
     },
     "metadata": {
      "needs_background": "light"
     },
     "output_type": "display_data"
    }
   ],
   "source": [
    "# plot the data\n",
    "plt.figure(figsize=(12,8))\n",
    "plt.scatter(vol_arr,ret_arr,c=sharpe_arr,cmap='plasma')\n",
    "plt.colorbar(label='Sharpe Ratio')\n",
    "plt.xlabel('Volatility')\n",
    "plt.ylabel('Return')\n",
    "plt.title('Sharpe Ratio plot');"
   ]
  },
  {
   "cell_type": "code",
   "execution_count": 34,
   "id": "d0dd54b3",
   "metadata": {},
   "outputs": [
    {
     "data": {
      "image/png": "[encoded data removed]",
      "text/plain": [
       "<Figure size 864x576 with 2 Axes>"
      ]
     },
     "metadata": {
      "needs_background": "light"
     },
     "output_type": "display_data"
    }
   ],
   "source": [
    "# plot the data\n",
    "plt.figure(figsize=(12,8))\n",
    "plt.scatter(vol_arr,ret_arr,c=diversification_arr,cmap='plasma')\n",
    "plt.colorbar(label='Diversification ratio')\n",
    "plt.xlabel('Volatility')\n",
    "plt.ylabel('Return')\n",
    "plt.title('Diversification Ratio plot');"
   ]
  },
  {
   "cell_type": "code",
   "execution_count": 35,
   "id": "df48996b",
   "metadata": {},
   "outputs": [
    {
     "data": {
      "text/plain": [
       "0.06741055809150032"
      ]
     },
     "execution_count": 35,
     "metadata": {},
     "output_type": "execute_result"
    }
   ],
   "source": [
    "sharpe_arr.max()"
   ]
  },
  {
   "cell_type": "code",
   "execution_count": 36,
   "id": "ee56c700",
   "metadata": {},
   "outputs": [
    {
     "data": {
      "text/plain": [
       "0.010691248602191006"
      ]
     },
     "execution_count": 36,
     "metadata": {},
     "output_type": "execute_result"
    }
   ],
   "source": [
    "vol_arr.max()"
   ]
  },
  {
   "cell_type": "code",
   "execution_count": 37,
   "id": "68f5acc6",
   "metadata": {},
   "outputs": [
    {
     "data": {
      "text/plain": [
       "0.0006141830140653827"
      ]
     },
     "execution_count": 37,
     "metadata": {},
     "output_type": "execute_result"
    }
   ],
   "source": [
    "ret_arr.max()"
   ]
  },
  {
   "cell_type": "code",
   "execution_count": 38,
   "id": "c871e813",
   "metadata": {},
   "outputs": [
    {
     "data": {
      "text/plain": [
       "array([1724.8391154 , 1552.94395379, 1477.86740788, ..., 1813.48223091,\n",
       "       2054.33846743, 1720.4007403 ])"
      ]
     },
     "execution_count": 38,
     "metadata": {},
     "output_type": "execute_result"
    }
   ],
   "source": [
    "diversification_arr"
   ]
  },
  {
   "cell_type": "markdown",
   "id": "e1ac6327",
   "metadata": {},
   "source": [
    "Dynamic Programming"
   ]
  },
  {
   "cell_type": "code",
   "execution_count": 39,
   "id": "7275e930",
   "metadata": {},
   "outputs": [],
   "source": [
    "def get_ret_vol_sr(weights): \n",
    "    weights = np.array(weights)\n",
    "    ret = np.sum(log_return.mean() * weights) \n",
    "    vol = np.sqrt(np.dot(weights.T,np.dot(log_return.cov(),weights)))\n",
    "    sr = ret/vol \n",
    "    return np.array([ret,vol,sr])"
   ]
  },
  {
   "cell_type": "code",
   "execution_count": 40,
   "id": "6d0ea472",
   "metadata": {},
   "outputs": [],
   "source": [
    "def neg_sharpe(weights): \n",
    "    return get_ret_vol_sr(weights)[2] * -1"
   ]
  },
  {
   "cell_type": "code",
   "execution_count": 41,
   "id": "09508278",
   "metadata": {},
   "outputs": [],
   "source": [
    "def check_sum(weights): \n",
    "    return np.sum(weights) - 1"
   ]
  },
  {
   "cell_type": "code",
   "execution_count": 42,
   "id": "040018c9",
   "metadata": {},
   "outputs": [],
   "source": [
    "cons = ({'type':'eq','fun':check_sum})\n",
    "bounds = ((0,1),(0,1),(0,1),(0,1),(0,1),(0,1),(0,1),(0,1),(0,1),(0,1))\n",
    "init_guess = [0.1]*10"
   ]
  },
  {
   "cell_type": "code",
   "execution_count": 43,
   "id": "21620c6e",
   "metadata": {},
   "outputs": [
    {
     "data": {
      "text/plain": [
       "     fun: -0.08796345398015226\n",
       "     jac: array([ 3.44060063e-02,  6.58771517e-02,  1.57554168e-03,  1.06014349e-02,\n",
       "        2.45803408e-03,  6.25065546e-02,  1.00034382e-03,  1.60385771e-02,\n",
       "       -1.86264515e-09,  1.67585379e-02])\n",
       " message: 'Optimization terminated successfully'\n",
       "    nfev: 143\n",
       "     nit: 13\n",
       "    njev: 13\n",
       "  status: 0\n",
       " success: True\n",
       "       x: array([0.00000000e+00, 0.00000000e+00, 0.00000000e+00, 2.76947842e-17,\n",
       "       1.75617546e-16, 0.00000000e+00, 1.71737624e-16, 0.00000000e+00,\n",
       "       1.00000000e+00, 0.00000000e+00])"
      ]
     },
     "execution_count": 43,
     "metadata": {},
     "output_type": "execute_result"
    }
   ],
   "source": [
    "opt_results = minimize(neg_sharpe, init_guess, method='SLSQP', bounds=bounds, constraints=cons)\n",
    "opt_results"
   ]
  },
  {
   "cell_type": "code",
   "execution_count": 44,
   "id": "e0db5e2b",
   "metadata": {},
   "outputs": [
    {
     "data": {
      "text/plain": [
       "array([0.00000000e+00, 0.00000000e+00, 0.00000000e+00, 2.76947842e-17,\n",
       "       1.75617546e-16, 0.00000000e+00, 1.71737624e-16, 0.00000000e+00,\n",
       "       1.00000000e+00, 0.00000000e+00])"
      ]
     },
     "execution_count": 44,
     "metadata": {},
     "output_type": "execute_result"
    }
   ],
   "source": [
    "opt_results.x"
   ]
  },
  {
   "cell_type": "markdown",
   "id": "dde1d080",
   "metadata": {},
   "source": [
    "As negative value was optimized, it should be multiplied by -1\\\n",
    "Max. Sharpe ratio via optimizing: 0.087"
   ]
  },
  {
   "cell_type": "markdown",
   "id": "9ecede0e",
   "metadata": {},
   "source": [
    "__Efficient Return and Efficient Risk__ "
   ]
  },
  {
   "cell_type": "markdown",
   "id": "2a8e8aa8",
   "metadata": {},
   "source": [
    "* _efficient risk maximises return for a given target risk_\n",
    "*_efficient return minimises risk for a given target return_"
   ]
  },
  {
   "cell_type": "markdown",
   "id": "81160a27",
   "metadata": {},
   "source": [
    "General equation: \n",
    "$Var(r_p) = \\frac{A*R^2_p - 2 * B * R_p + C}{A*C-B^2}$\\\n",
    "For efficient return I calculated R_p."
   ]
  },
  {
   "cell_type": "code",
   "execution_count": 45,
   "id": "c69d7a46",
   "metadata": {},
   "outputs": [],
   "source": [
    "def eff_return(VarRp):\n",
    "    return B/A + np.sqrt(((B**2)/(A**2)) - ((VarRp*B**2)/A) + VarRp*C - C/A)"
   ]
  },
  {
   "cell_type": "code",
   "execution_count": 46,
   "id": "fead3866",
   "metadata": {},
   "outputs": [
    {
     "data": {
      "text/plain": [
       "0.07733765025247788"
      ]
     },
     "execution_count": 46,
     "metadata": {},
     "output_type": "execute_result"
    }
   ],
   "source": [
    "eff_return(0.2)"
   ]
  },
  {
   "cell_type": "code",
   "execution_count": 47,
   "id": "83f70afa",
   "metadata": {},
   "outputs": [],
   "source": [
    "def eff_risk(Rp):\n",
    "    return (A*Rp**2-2*B*Rp+C) / (A*C-B**2)"
   ]
  },
  {
   "cell_type": "code",
   "execution_count": 48,
   "id": "b0aeef8a",
   "metadata": {},
   "outputs": [
    {
     "data": {
      "text/plain": [
       "0.08385198226695384"
      ]
     },
     "execution_count": 48,
     "metadata": {},
     "output_type": "execute_result"
    }
   ],
   "source": [
    "eff_risk(0.05)"
   ]
  },
  {
   "cell_type": "markdown",
   "id": "620643dc",
   "metadata": {},
   "source": [
    "Self-Checking:"
   ]
  },
  {
   "cell_type": "code",
   "execution_count": 49,
   "id": "08f7a56c",
   "metadata": {},
   "outputs": [],
   "source": [
    "def EfficentRiskWeights(Rp):\n",
    "    LambdaW = (B-A*Rp)/(B**2 - A*C)\n",
    "    MuW = (B*Rp - C)/(B**2 - A*C)\n",
    "    return LambdaW*np.dot(np.linalg.inv(log_return.cov()),log_return.mean().unique()) + MuW*np.dot(np.linalg.inv(log_return.cov()),I)"
   ]
  },
  {
   "cell_type": "code",
   "execution_count": 50,
   "id": "984c36d2",
   "metadata": {},
   "outputs": [
    {
     "data": {
      "text/plain": [
       "array([-22.53247668, -24.22294799, 126.63645933,  23.60760884,\n",
       "       -94.97312845,  -1.63250413,  98.86358865, -69.86766396,\n",
       "         8.68003712, -43.55897272])"
      ]
     },
     "execution_count": 50,
     "metadata": {},
     "output_type": "execute_result"
    }
   ],
   "source": [
    "EfficentRiskWeights(0.05)"
   ]
  },
  {
   "cell_type": "markdown",
   "id": "85ad82c3",
   "metadata": {},
   "source": [
    "Assertion that $W^T * r = Rp$"
   ]
  },
  {
   "cell_type": "code",
   "execution_count": 51,
   "id": "2b15c9ed",
   "metadata": {},
   "outputs": [
    {
     "data": {
      "text/plain": [
       "0.04999999999999931"
      ]
     },
     "execution_count": 51,
     "metadata": {},
     "output_type": "execute_result"
    }
   ],
   "source": [
    "np.dot(EfficentRiskWeights(0.05).T,log_return.mean())"
   ]
  },
  {
   "cell_type": "code",
   "execution_count": 52,
   "id": "5f2ecff3",
   "metadata": {},
   "outputs": [
    {
     "data": {
      "text/plain": [
       "0.08385198226694979"
      ]
     },
     "execution_count": 52,
     "metadata": {},
     "output_type": "execute_result"
    }
   ],
   "source": [
    "np.dot(np.dot(EfficentRiskWeights(0.05).T,log_return.cov()),EfficentRiskWeights(0.05))"
   ]
  },
  {
   "cell_type": "markdown",
   "id": "7a159c1f",
   "metadata": {},
   "source": [
    "Diversification ratio optimization"
   ]
  },
  {
   "cell_type": "code",
   "execution_count": 53,
   "id": "63cc8e0b",
   "metadata": {},
   "outputs": [],
   "source": [
    "def get_divratio(weights): \n",
    "    weights = np.array(weights)\n",
    "    PtVP = np.sqrt(np.dot(weights.T,np.dot(log_return.cov(), weights)))\n",
    "    diversification_arr = np.dot(weights.T, std_df)/PtVP\n",
    "    return diversification_arr"
   ]
  },
  {
   "cell_type": "code",
   "execution_count": 54,
   "id": "d2ab4d14",
   "metadata": {},
   "outputs": [
    {
     "data": {
      "text/plain": [
       "1827.1673982641862"
      ]
     },
     "execution_count": 54,
     "metadata": {},
     "output_type": "execute_result"
    }
   ],
   "source": [
    "get_divratio([0.1]*10)"
   ]
  },
  {
   "cell_type": "code",
   "execution_count": 55,
   "id": "b9668e31",
   "metadata": {},
   "outputs": [],
   "source": [
    "def neg_divrate(weights): \n",
    "    return get_divratio(weights) * -1"
   ]
  },
  {
   "cell_type": "code",
   "execution_count": 56,
   "id": "75763627",
   "metadata": {},
   "outputs": [
    {
     "data": {
      "text/plain": [
       "     fun: -3055.782998867272\n",
       "     jac: array([ 8.63037109e-02,  3.68035052e+03, -7.76367188e-02,  2.18660330e+03,\n",
       "        4.83908081e+01,  3.88300677e+03,  4.13535187e+02,  3.16791840e+03,\n",
       "        2.14074289e+03,  2.94926450e+03])\n",
       " message: 'Positive directional derivative for linesearch'\n",
       "    nfev: 143\n",
       "     nit: 16\n",
       "    njev: 12\n",
       "  status: 8\n",
       " success: False\n",
       "       x: array([4.73158298e-01, 5.32505836e-09, 5.26945687e-01, 9.87046791e-10,\n",
       "       1.54745251e-09, 5.91414957e-09, 1.23319207e-09, 3.83737660e-09,\n",
       "       8.53009803e-10, 3.20280184e-09])"
      ]
     },
     "execution_count": 56,
     "metadata": {},
     "output_type": "execute_result"
    }
   ],
   "source": [
    "opt_results = minimize(neg_divrate, init_guess, method='SLSQP', bounds=bounds, constraints=cons)\n",
    "opt_results"
   ]
  },
  {
   "cell_type": "markdown",
   "id": "4da4caae",
   "metadata": {},
   "source": [
    "Maximum DivRatio = 3055.47"
   ]
  },
  {
   "cell_type": "code",
   "execution_count": null,
   "id": "7cf65aa6",
   "metadata": {},
   "outputs": [],
   "source": []
  }
 ],
 "metadata": {
  "kernelspec": {
   "display_name": "Python 3 (ipykernel)",
   "language": "python",
   "name": "python3"
  },
  "language_info": {
   "codemirror_mode": {
    "name": "ipython",
    "version": 3
   },
   "file_extension": ".py",
   "mimetype": "text/x-python",
   "name": "python",
   "nbconvert_exporter": "python",
   "pygments_lexer": "ipython3",
   "version": "3.9.7"
  }
 },
 "nbformat": 4,
 "nbformat_minor": 5
}
